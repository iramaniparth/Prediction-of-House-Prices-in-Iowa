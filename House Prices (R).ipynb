{
 "cells": [
  {
   "cell_type": "code",
   "execution_count": 273,
   "metadata": {},
   "outputs": [],
   "source": [
    "require(ggplot2) # for data visualization\n",
    "require(stringr) #extracting string patterns\n",
    "require(Matrix) # matrix transformations\n",
    "require(glmnet) # ridge, lasso & elastinet\n",
    "require(xgboost) # gbm\n",
    "require(randomForest)\n",
    "require(Metrics) # rmse\n",
    "require(caret) # one hot encoding\n",
    "require(scales) # plotting $$\n",
    "require(e1071) # skewness\n",
    "require(corrplot) # correlation plot\n",
    "require(GGally) # Scatterplot Matrix\n",
    "require(dplyr) # load this in last so plyr doens't overlap it"
   ]
  },
  {
   "cell_type": "code",
   "execution_count": 8,
   "metadata": {},
   "outputs": [],
   "source": [
    "# Set working directory\n",
    "setwd(\"C:/Users/User/Desktop/Kaggle/House Prices\")"
   ]
  },
  {
   "cell_type": "code",
   "execution_count": 10,
   "metadata": {},
   "outputs": [
    {
     "data": {
      "text/html": [
       "<ol class=list-inline>\n",
       "\t<li>2919</li>\n",
       "\t<li>79</li>\n",
       "</ol>\n"
      ],
      "text/latex": [
       "\\begin{enumerate*}\n",
       "\\item 2919\n",
       "\\item 79\n",
       "\\end{enumerate*}\n"
      ],
      "text/markdown": [
       "1. 2919\n",
       "2. 79\n",
       "\n",
       "\n"
      ],
      "text/plain": [
       "[1] 2919   79"
      ]
     },
     "metadata": {},
     "output_type": "display_data"
    }
   ],
   "source": [
    "# Read the train and test files\n",
    "train <- read.csv('train.csv', stringsAsFactors = FALSE)\n",
    "test <- read.csv('test.csv', stringsAsFactors = FALSE)\n",
    "\n",
    "\n",
    "# combine the datasets\n",
    "df.combined <- rbind(within(train, rm('Id','SalePrice')), within(test, rm('Id')))\n",
    "dim(df.combined)"
   ]
  },
  {
   "cell_type": "code",
   "execution_count": 11,
   "metadata": {
    "scrolled": true
   },
   "outputs": [
    {
     "data": {
      "text/html": [
       "<dl class=dl-horizontal>\n",
       "\t<dt>PoolQC</dt>\n",
       "\t\t<dd>2909</dd>\n",
       "\t<dt>MiscFeature</dt>\n",
       "\t\t<dd>2814</dd>\n",
       "\t<dt>Alley</dt>\n",
       "\t\t<dd>2721</dd>\n",
       "\t<dt>Fence</dt>\n",
       "\t\t<dd>2348</dd>\n",
       "\t<dt>FireplaceQu</dt>\n",
       "\t\t<dd>1420</dd>\n",
       "\t<dt>LotFrontage</dt>\n",
       "\t\t<dd>486</dd>\n",
       "\t<dt>GarageYrBlt</dt>\n",
       "\t\t<dd>159</dd>\n",
       "\t<dt>GarageFinish</dt>\n",
       "\t\t<dd>159</dd>\n",
       "\t<dt>GarageQual</dt>\n",
       "\t\t<dd>159</dd>\n",
       "\t<dt>GarageCond</dt>\n",
       "\t\t<dd>159</dd>\n",
       "\t<dt>GarageType</dt>\n",
       "\t\t<dd>157</dd>\n",
       "\t<dt>BsmtCond</dt>\n",
       "\t\t<dd>82</dd>\n",
       "\t<dt>BsmtExposure</dt>\n",
       "\t\t<dd>82</dd>\n",
       "\t<dt>BsmtQual</dt>\n",
       "\t\t<dd>81</dd>\n",
       "\t<dt>BsmtFinType2</dt>\n",
       "\t\t<dd>80</dd>\n",
       "\t<dt>BsmtFinType1</dt>\n",
       "\t\t<dd>79</dd>\n",
       "\t<dt>MasVnrType</dt>\n",
       "\t\t<dd>24</dd>\n",
       "\t<dt>MasVnrArea</dt>\n",
       "\t\t<dd>23</dd>\n",
       "\t<dt>MSZoning</dt>\n",
       "\t\t<dd>4</dd>\n",
       "\t<dt>Utilities</dt>\n",
       "\t\t<dd>2</dd>\n",
       "\t<dt>BsmtFullBath</dt>\n",
       "\t\t<dd>2</dd>\n",
       "\t<dt>BsmtHalfBath</dt>\n",
       "\t\t<dd>2</dd>\n",
       "\t<dt>Functional</dt>\n",
       "\t\t<dd>2</dd>\n",
       "\t<dt>Exterior1st</dt>\n",
       "\t\t<dd>1</dd>\n",
       "\t<dt>Exterior2nd</dt>\n",
       "\t\t<dd>1</dd>\n",
       "\t<dt>BsmtFinSF1</dt>\n",
       "\t\t<dd>1</dd>\n",
       "\t<dt>BsmtFinSF2</dt>\n",
       "\t\t<dd>1</dd>\n",
       "\t<dt>BsmtUnfSF</dt>\n",
       "\t\t<dd>1</dd>\n",
       "\t<dt>TotalBsmtSF</dt>\n",
       "\t\t<dd>1</dd>\n",
       "\t<dt>Electrical</dt>\n",
       "\t\t<dd>1</dd>\n",
       "\t<dt>KitchenQual</dt>\n",
       "\t\t<dd>1</dd>\n",
       "\t<dt>GarageCars</dt>\n",
       "\t\t<dd>1</dd>\n",
       "\t<dt>GarageArea</dt>\n",
       "\t\t<dd>1</dd>\n",
       "\t<dt>SaleType</dt>\n",
       "\t\t<dd>1</dd>\n",
       "</dl>\n"
      ],
      "text/latex": [
       "\\begin{description*}\n",
       "\\item[PoolQC] 2909\n",
       "\\item[MiscFeature] 2814\n",
       "\\item[Alley] 2721\n",
       "\\item[Fence] 2348\n",
       "\\item[FireplaceQu] 1420\n",
       "\\item[LotFrontage] 486\n",
       "\\item[GarageYrBlt] 159\n",
       "\\item[GarageFinish] 159\n",
       "\\item[GarageQual] 159\n",
       "\\item[GarageCond] 159\n",
       "\\item[GarageType] 157\n",
       "\\item[BsmtCond] 82\n",
       "\\item[BsmtExposure] 82\n",
       "\\item[BsmtQual] 81\n",
       "\\item[BsmtFinType2] 80\n",
       "\\item[BsmtFinType1] 79\n",
       "\\item[MasVnrType] 24\n",
       "\\item[MasVnrArea] 23\n",
       "\\item[MSZoning] 4\n",
       "\\item[Utilities] 2\n",
       "\\item[BsmtFullBath] 2\n",
       "\\item[BsmtHalfBath] 2\n",
       "\\item[Functional] 2\n",
       "\\item[Exterior1st] 1\n",
       "\\item[Exterior2nd] 1\n",
       "\\item[BsmtFinSF1] 1\n",
       "\\item[BsmtFinSF2] 1\n",
       "\\item[BsmtUnfSF] 1\n",
       "\\item[TotalBsmtSF] 1\n",
       "\\item[Electrical] 1\n",
       "\\item[KitchenQual] 1\n",
       "\\item[GarageCars] 1\n",
       "\\item[GarageArea] 1\n",
       "\\item[SaleType] 1\n",
       "\\end{description*}\n"
      ],
      "text/markdown": [
       "PoolQC\n",
       ":   2909MiscFeature\n",
       ":   2814Alley\n",
       ":   2721Fence\n",
       ":   2348FireplaceQu\n",
       ":   1420LotFrontage\n",
       ":   486GarageYrBlt\n",
       ":   159GarageFinish\n",
       ":   159GarageQual\n",
       ":   159GarageCond\n",
       ":   159GarageType\n",
       ":   157BsmtCond\n",
       ":   82BsmtExposure\n",
       ":   82BsmtQual\n",
       ":   81BsmtFinType2\n",
       ":   80BsmtFinType1\n",
       ":   79MasVnrType\n",
       ":   24MasVnrArea\n",
       ":   23MSZoning\n",
       ":   4Utilities\n",
       ":   2BsmtFullBath\n",
       ":   2BsmtHalfBath\n",
       ":   2Functional\n",
       ":   2Exterior1st\n",
       ":   1Exterior2nd\n",
       ":   1BsmtFinSF1\n",
       ":   1BsmtFinSF2\n",
       ":   1BsmtUnfSF\n",
       ":   1TotalBsmtSF\n",
       ":   1Electrical\n",
       ":   1KitchenQual\n",
       ":   1GarageCars\n",
       ":   1GarageArea\n",
       ":   1SaleType\n",
       ":   1\n",
       "\n"
      ],
      "text/plain": [
       "      PoolQC  MiscFeature        Alley        Fence  FireplaceQu  LotFrontage \n",
       "        2909         2814         2721         2348         1420          486 \n",
       " GarageYrBlt GarageFinish   GarageQual   GarageCond   GarageType     BsmtCond \n",
       "         159          159          159          159          157           82 \n",
       "BsmtExposure     BsmtQual BsmtFinType2 BsmtFinType1   MasVnrType   MasVnrArea \n",
       "          82           81           80           79           24           23 \n",
       "    MSZoning    Utilities BsmtFullBath BsmtHalfBath   Functional  Exterior1st \n",
       "           4            2            2            2            2            1 \n",
       " Exterior2nd   BsmtFinSF1   BsmtFinSF2    BsmtUnfSF  TotalBsmtSF   Electrical \n",
       "           1            1            1            1            1            1 \n",
       " KitchenQual   GarageCars   GarageArea     SaleType \n",
       "           1            1            1            1 "
      ]
     },
     "metadata": {},
     "output_type": "display_data"
    }
   ],
   "source": [
    "# Finding out missing values\n",
    "na.cols <- which(colSums(is.na(df.combined)) > 0)\n",
    "sort(colSums(sapply(df.combined[na.cols], is.na)), decreasing = TRUE)"
   ]
  },
  {
   "cell_type": "code",
   "execution_count": 12,
   "metadata": {},
   "outputs": [
    {
     "name": "stdout",
     "output_type": "stream",
     "text": [
      "There are 34 columns with missing values"
     ]
    }
   ],
   "source": [
    "cat('There are', length(na.cols), 'columns with missing values')"
   ]
  },
  {
   "cell_type": "code",
   "execution_count": 22,
   "metadata": {},
   "outputs": [],
   "source": [
    "# helper function for plotting categoric data for easier data visualization\n",
    "plot.categoric <- function(cols, df){\n",
    "  for (col in cols) {\n",
    "    order.cols <- names(sort(table(df.combined[,col]), decreasing = TRUE))\n",
    "  \n",
    "    num.plot <- qplot(df[,col]) +\n",
    "      geom_bar(fill = 'cornflowerblue') +\n",
    "      geom_text(aes(label = ..count..), stat='count', vjust=-0.5) +\n",
    "      theme_minimal() +\n",
    "      scale_y_continuous(limits = c(0,max(table(df[,col]))*1.1)) +\n",
    "      scale_x_discrete(limits = order.cols) +\n",
    "      xlab(col) +\n",
    "      theme(axis.text.x = element_text(angle = 30, size=12))\n",
    "  \n",
    "    print(num.plot)\n",
    "  }\n",
    "}"
   ]
  },
  {
   "cell_type": "code",
   "execution_count": 23,
   "metadata": {
    "scrolled": true
   },
   "outputs": [
    {
     "name": "stderr",
     "output_type": "stream",
     "text": [
      "Warning message:\n",
      "\"Removed 2909 rows containing non-finite values (stat_count).\"Warning message:\n",
      "\"Removed 2909 rows containing non-finite values (stat_count).\"Warning message:\n",
      "\"Removed 2909 rows containing non-finite values (stat_count).\""
     ]
    },
    {
     "data": {
      "image/png": "[encoded data removed]",
      "text/plain": [
       "plot without title"
      ]
     },
     "metadata": {},
     "output_type": "display_data"
    }
   ],
   "source": [
    "plot.categoric('PoolQC', df.combined)"
   ]
  },
  {
   "cell_type": "code",
   "execution_count": 26,
   "metadata": {},
   "outputs": [
    {
     "data": {
      "text/html": [
       "<table>\n",
       "<thead><tr><th></th><th scope=col>PoolQC</th><th scope=col>PoolArea</th></tr></thead>\n",
       "<tbody>\n",
       "\t<tr><th scope=row>2421</th><td>NA </td><td>368</td></tr>\n",
       "\t<tr><th scope=row>2504</th><td>NA </td><td>444</td></tr>\n",
       "\t<tr><th scope=row>2600</th><td>NA </td><td>561</td></tr>\n",
       "</tbody>\n",
       "</table>\n"
      ],
      "text/latex": [
       "\\begin{tabular}{r|ll}\n",
       "  & PoolQC & PoolArea\\\\\n",
       "\\hline\n",
       "\t2421 & NA  & 368\\\\\n",
       "\t2504 & NA  & 444\\\\\n",
       "\t2600 & NA  & 561\\\\\n",
       "\\end{tabular}\n"
      ],
      "text/markdown": [
       "\n",
       "| <!--/--> | PoolQC | PoolArea | \n",
       "|---|---|---|\n",
       "| 2421 | NA  | 368 | \n",
       "| 2504 | NA  | 444 | \n",
       "| 2600 | NA  | 561 | \n",
       "\n",
       "\n"
      ],
      "text/plain": [
       "     PoolQC PoolArea\n",
       "2421 NA     368     \n",
       "2504 NA     444     \n",
       "2600 NA     561     "
      ]
     },
     "metadata": {},
     "output_type": "display_data"
    }
   ],
   "source": [
    "# Of the 2909 houses with NA’s for PoolQC only 3 recorded a PoolArea greater than 0. \n",
    "df.combined[(df.combined$PoolArea > 0) & is.na(df.combined$PoolQC),c('PoolQC','PoolArea')] "
   ]
  },
  {
   "cell_type": "code",
   "execution_count": 35,
   "metadata": {},
   "outputs": [
    {
     "data": {
      "text/html": [
       "<table>\n",
       "<thead><tr><th scope=col>PoolQC</th><th scope=col>PoolArea</th></tr></thead>\n",
       "<tbody>\n",
       "\t<tr><td>Ex    </td><td>359.75</td></tr>\n",
       "\t<tr><td>Fa    </td><td>583.50</td></tr>\n",
       "\t<tr><td>Gd    </td><td>648.50</td></tr>\n",
       "</tbody>\n",
       "</table>\n"
      ],
      "text/latex": [
       "\\begin{tabular}{r|ll}\n",
       " PoolQC & PoolArea\\\\\n",
       "\\hline\n",
       "\t Ex     & 359.75\\\\\n",
       "\t Fa     & 583.50\\\\\n",
       "\t Gd     & 648.50\\\\\n",
       "\\end{tabular}\n"
      ],
      "text/markdown": [
       "\n",
       "PoolQC | PoolArea | \n",
       "|---|---|---|\n",
       "| Ex     | 359.75 | \n",
       "| Fa     | 583.50 | \n",
       "| Gd     | 648.50 | \n",
       "\n",
       "\n"
      ],
      "text/plain": [
       "  PoolQC PoolArea\n",
       "1 Ex     359.75  \n",
       "2 Fa     583.50  \n",
       "3 Gd     648.50  "
      ]
     },
     "metadata": {},
     "output_type": "display_data"
    }
   ],
   "source": [
    "aggregate(data = df.combined, PoolArea~PoolQC, mean)"
   ]
  },
  {
   "cell_type": "code",
   "execution_count": 46,
   "metadata": {},
   "outputs": [
    {
     "data": {
      "text/html": [
       "'Note that only 10 houses total have pools The rest of the houses PoolQC can be filled with ‘NoPool’ since each has a corresponding PoolArea of 0. We’ll fill in the 3 PoolQC’s from above with the quality having the closest corresponding mean.'"
      ],
      "text/latex": [
       "'Note that only 10 houses total have pools The rest of the houses PoolQC can be filled with ‘NoPool’ since each has a corresponding PoolArea of 0. We’ll fill in the 3 PoolQC’s from above with the quality having the closest corresponding mean.'"
      ],
      "text/markdown": [
       "'Note that only 10 houses total have pools The rest of the houses PoolQC can be filled with ‘NoPool’ since each has a corresponding PoolArea of 0. We’ll fill in the 3 PoolQC’s from above with the quality having the closest corresponding mean.'"
      ],
      "text/plain": [
       "[1] \"Note that only 10 houses total have pools The rest of the houses PoolQC can be filled with NoPool since each has a corresponding PoolArea of 0. Well fill in the 3 PoolQCs from above with the quality having the closest corresponding mean.\""
      ]
     },
     "metadata": {},
     "output_type": "display_data"
    }
   ],
   "source": [
    "\"Note that only 10 houses total have pools The rest of the houses PoolQC can be filled with ‘NoPool’ since each has a corresponding PoolArea of 0. We’ll fill in the 3 PoolQC’s from above with the quality having the closest corresponding mean.\""
   ]
  },
  {
   "cell_type": "code",
   "execution_count": 42,
   "metadata": {},
   "outputs": [],
   "source": [
    "df.combined[2421,'PoolQC'] = 'Ex'\n",
    "df.combined[2504,'PoolQC'] = 'Ex'\n",
    "df.combined[2600,'PoolQC'] = 'Fa'\n",
    "df.combined$PoolQC[is.na(df.combined$PoolQC)] = 'None'"
   ]
  },
  {
   "cell_type": "code",
   "execution_count": 59,
   "metadata": {
    "scrolled": true
   },
   "outputs": [
    {
     "data": {
      "text/html": [
       "'Lets see what the deal is with GarageYrBlt. It seems reasonable that most houses would build a garage when the house itself was built. We can check this by seeing how many houses were built the same year their garage was built.'"
      ],
      "text/latex": [
       "'Lets see what the deal is with GarageYrBlt. It seems reasonable that most houses would build a garage when the house itself was built. We can check this by seeing how many houses were built the same year their garage was built.'"
      ],
      "text/markdown": [
       "'Lets see what the deal is with GarageYrBlt. It seems reasonable that most houses would build a garage when the house itself was built. We can check this by seeing how many houses were built the same year their garage was built.'"
      ],
      "text/plain": [
       "[1] \"Lets see what the deal is with GarageYrBlt. It seems reasonable that most houses would build a garage when the house itself was built. We can check this by seeing how many houses were built the same year their garage was built.\""
      ]
     },
     "metadata": {},
     "output_type": "display_data"
    }
   ],
   "source": [
    "#GarageType: Garage location\n",
    "#GarageYrBlt: Year garage was built\n",
    "#GarageFinish: Interior finish of the garage\n",
    "#GarageCars: Size of garage in car capacity\n",
    "#GarageArea: Size of garage in square feet\n",
    "#GarageQual: Garage quality\n",
    "#GarageCond: Garage condition\n",
    "\"Lets see what the deal is with GarageYrBlt. It seems reasonable that most houses would build a garage when the house itself was built. We can check this by seeing how many houses were built the same year their garage was built.\""
   ]
  },
  {
   "cell_type": "code",
   "execution_count": 47,
   "metadata": {
    "scrolled": true
   },
   "outputs": [
    {
     "data": {
      "text/html": [
       "2216"
      ],
      "text/latex": [
       "2216"
      ],
      "text/markdown": [
       "2216"
      ],
      "text/plain": [
       "[1] 2216"
      ]
     },
     "metadata": {},
     "output_type": "display_data"
    }
   ],
   "source": [
    "length(which(df.combined$GarageYrBlt == df.combined$YearBuilt))"
   ]
  },
  {
   "cell_type": "code",
   "execution_count": 48,
   "metadata": {},
   "outputs": [
    {
     "data": {
      "text/html": [
       "'2216 of the 2919 houses have same year for for GarageYrBlt and YearBuilt. Lets replace any of the NA’s for GarageYrBlt with the year from YearBuilt.'"
      ],
      "text/latex": [
       "'2216 of the 2919 houses have same year for for GarageYrBlt and YearBuilt. Lets replace any of the NA’s for GarageYrBlt with the year from YearBuilt.'"
      ],
      "text/markdown": [
       "'2216 of the 2919 houses have same year for for GarageYrBlt and YearBuilt. Lets replace any of the NA’s for GarageYrBlt with the year from YearBuilt.'"
      ],
      "text/plain": [
       "[1] \"2216 of the 2919 houses have same year for for GarageYrBlt and YearBuilt. Lets replace any of the NAs for GarageYrBlt with the year from YearBuilt.\""
      ]
     },
     "metadata": {},
     "output_type": "display_data"
    }
   ],
   "source": [
    "\"2216 of the 2919 houses have same year for for GarageYrBlt and YearBuilt. Lets replace any of the NA’s for GarageYrBlt with the year from YearBuilt.\""
   ]
  },
  {
   "cell_type": "code",
   "execution_count": 49,
   "metadata": {},
   "outputs": [],
   "source": [
    "idx <- which(is.na(df.combined$GarageYrBlt))\n",
    "df.combined[idx, 'GarageYrBlt'] <- df.combined[idx, 'YearBuilt']"
   ]
  },
  {
   "cell_type": "code",
   "execution_count": 50,
   "metadata": {},
   "outputs": [
    {
     "data": {
      "text/html": [
       "'That leaves 6 garage features in our dataset and 4 of them have at least 157 missing values while GarageArea and GarageCars both only have 1, thus we can assume this particular house does not have a garage at all. For the rest of the houses we can check to see that if the NA’s recorded also have 0 GarageArea and 0 GarageCars. If they do we can fill in their missing values with ‘None’ since having 0 area and 0 cars in their garage will imply that they do not have any at all.'"
      ],
      "text/latex": [
       "'That leaves 6 garage features in our dataset and 4 of them have at least 157 missing values while GarageArea and GarageCars both only have 1, thus we can assume this particular house does not have a garage at all. For the rest of the houses we can check to see that if the NA’s recorded also have 0 GarageArea and 0 GarageCars. If they do we can fill in their missing values with ‘None’ since having 0 area and 0 cars in their garage will imply that they do not have any at all.'"
      ],
      "text/markdown": [
       "'That leaves 6 garage features in our dataset and 4 of them have at least 157 missing values while GarageArea and GarageCars both only have 1, thus we can assume this particular house does not have a garage at all. For the rest of the houses we can check to see that if the NA’s recorded also have 0 GarageArea and 0 GarageCars. If they do we can fill in their missing values with ‘None’ since having 0 area and 0 cars in their garage will imply that they do not have any at all.'"
      ],
      "text/plain": [
       "[1] \"That leaves 6 garage features in our dataset and 4 of them have at least 157 missing values while GarageArea and GarageCars both only have 1, thus we can assume this particular house does not have a garage at all. For the rest of the houses we can check to see that if the NAs recorded also have 0 GarageArea and 0 GarageCars. If they do we can fill in their missing values with None since having 0 area and 0 cars in their garage will imply that they do not have any at all.\""
      ]
     },
     "metadata": {},
     "output_type": "display_data"
    }
   ],
   "source": [
    "\"That leaves 6 garage features in our dataset and 4 of them have at least 157 missing values while GarageArea and GarageCars both only have 1, thus we can assume this particular house does not have a garage at all. For the rest of the houses we can check to see that if the NA’s recorded also have 0 GarageArea and 0 GarageCars. If they do we can fill in their missing values with ‘None’ since having 0 area and 0 cars in their garage will imply that they do not have any at all.\""
   ]
  },
  {
   "cell_type": "code",
   "execution_count": 51,
   "metadata": {
    "scrolled": true
   },
   "outputs": [
    {
     "data": {
      "text/html": [
       "<table>\n",
       "<thead><tr><th></th><th scope=col>GarageArea</th><th scope=col>GarageCars</th><th scope=col>GarageQual</th><th scope=col>GarageFinish</th><th scope=col>GarageCond</th><th scope=col>GarageType</th></tr></thead>\n",
       "<tbody>\n",
       "\t<tr><th scope=row>40</th><td>0 </td><td>0 </td><td>NA</td><td>NA</td><td>NA</td><td>NA</td></tr>\n",
       "\t<tr><th scope=row>49</th><td>0 </td><td>0 </td><td>NA</td><td>NA</td><td>NA</td><td>NA</td></tr>\n",
       "\t<tr><th scope=row>79</th><td>0 </td><td>0 </td><td>NA</td><td>NA</td><td>NA</td><td>NA</td></tr>\n",
       "\t<tr><th scope=row>89</th><td>0 </td><td>0 </td><td>NA</td><td>NA</td><td>NA</td><td>NA</td></tr>\n",
       "\t<tr><th scope=row>90</th><td>0 </td><td>0 </td><td>NA</td><td>NA</td><td>NA</td><td>NA</td></tr>\n",
       "\t<tr><th scope=row>100</th><td>0 </td><td>0 </td><td>NA</td><td>NA</td><td>NA</td><td>NA</td></tr>\n",
       "\t<tr><th scope=row>109</th><td>0 </td><td>0 </td><td>NA</td><td>NA</td><td>NA</td><td>NA</td></tr>\n",
       "\t<tr><th scope=row>126</th><td>0 </td><td>0 </td><td>NA</td><td>NA</td><td>NA</td><td>NA</td></tr>\n",
       "\t<tr><th scope=row>128</th><td>0 </td><td>0 </td><td>NA</td><td>NA</td><td>NA</td><td>NA</td></tr>\n",
       "\t<tr><th scope=row>141</th><td>0 </td><td>0 </td><td>NA</td><td>NA</td><td>NA</td><td>NA</td></tr>\n",
       "\t<tr><th scope=row>149</th><td>0 </td><td>0 </td><td>NA</td><td>NA</td><td>NA</td><td>NA</td></tr>\n",
       "\t<tr><th scope=row>156</th><td>0 </td><td>0 </td><td>NA</td><td>NA</td><td>NA</td><td>NA</td></tr>\n",
       "\t<tr><th scope=row>164</th><td>0 </td><td>0 </td><td>NA</td><td>NA</td><td>NA</td><td>NA</td></tr>\n",
       "\t<tr><th scope=row>166</th><td>0 </td><td>0 </td><td>NA</td><td>NA</td><td>NA</td><td>NA</td></tr>\n",
       "\t<tr><th scope=row>199</th><td>0 </td><td>0 </td><td>NA</td><td>NA</td><td>NA</td><td>NA</td></tr>\n",
       "\t<tr><th scope=row>211</th><td>0 </td><td>0 </td><td>NA</td><td>NA</td><td>NA</td><td>NA</td></tr>\n",
       "\t<tr><th scope=row>242</th><td>0 </td><td>0 </td><td>NA</td><td>NA</td><td>NA</td><td>NA</td></tr>\n",
       "\t<tr><th scope=row>251</th><td>0 </td><td>0 </td><td>NA</td><td>NA</td><td>NA</td><td>NA</td></tr>\n",
       "\t<tr><th scope=row>288</th><td>0 </td><td>0 </td><td>NA</td><td>NA</td><td>NA</td><td>NA</td></tr>\n",
       "\t<tr><th scope=row>292</th><td>0 </td><td>0 </td><td>NA</td><td>NA</td><td>NA</td><td>NA</td></tr>\n",
       "\t<tr><th scope=row>308</th><td>0 </td><td>0 </td><td>NA</td><td>NA</td><td>NA</td><td>NA</td></tr>\n",
       "\t<tr><th scope=row>376</th><td>0 </td><td>0 </td><td>NA</td><td>NA</td><td>NA</td><td>NA</td></tr>\n",
       "\t<tr><th scope=row>387</th><td>0 </td><td>0 </td><td>NA</td><td>NA</td><td>NA</td><td>NA</td></tr>\n",
       "\t<tr><th scope=row>394</th><td>0 </td><td>0 </td><td>NA</td><td>NA</td><td>NA</td><td>NA</td></tr>\n",
       "\t<tr><th scope=row>432</th><td>0 </td><td>0 </td><td>NA</td><td>NA</td><td>NA</td><td>NA</td></tr>\n",
       "\t<tr><th scope=row>435</th><td>0 </td><td>0 </td><td>NA</td><td>NA</td><td>NA</td><td>NA</td></tr>\n",
       "\t<tr><th scope=row>442</th><td>0 </td><td>0 </td><td>NA</td><td>NA</td><td>NA</td><td>NA</td></tr>\n",
       "\t<tr><th scope=row>465</th><td>0 </td><td>0 </td><td>NA</td><td>NA</td><td>NA</td><td>NA</td></tr>\n",
       "\t<tr><th scope=row>496</th><td>0 </td><td>0 </td><td>NA</td><td>NA</td><td>NA</td><td>NA</td></tr>\n",
       "\t<tr><th scope=row>521</th><td>0 </td><td>0 </td><td>NA</td><td>NA</td><td>NA</td><td>NA</td></tr>\n",
       "\t<tr><th scope=row>...</th><td>...</td><td>...</td><td>...</td><td>...</td><td>...</td><td>...</td></tr>\n",
       "\t<tr><th scope=row>2400</th><td> 0    </td><td> 0    </td><td>NA    </td><td>NA    </td><td>NA    </td><td>NA    </td></tr>\n",
       "\t<tr><th scope=row>2423</th><td> 0    </td><td> 0    </td><td>NA    </td><td>NA    </td><td>NA    </td><td>NA    </td></tr>\n",
       "\t<tr><th scope=row>2427</th><td> 0    </td><td> 0    </td><td>NA    </td><td>NA    </td><td>NA    </td><td>NA    </td></tr>\n",
       "\t<tr><th scope=row>2553</th><td> 0    </td><td> 0    </td><td>NA    </td><td>NA    </td><td>NA    </td><td>NA    </td></tr>\n",
       "\t<tr><th scope=row>2554</th><td> 0    </td><td> 0    </td><td>NA    </td><td>NA    </td><td>NA    </td><td>NA    </td></tr>\n",
       "\t<tr><th scope=row>2558</th><td> 0    </td><td> 0    </td><td>NA    </td><td>NA    </td><td>NA    </td><td>NA    </td></tr>\n",
       "\t<tr><th scope=row>2576</th><td> 0    </td><td> 0    </td><td>NA    </td><td>NA    </td><td>NA    </td><td>NA    </td></tr>\n",
       "\t<tr><th scope=row>2577</th><td>NA    </td><td>NA    </td><td>NA    </td><td>NA    </td><td>NA    </td><td>Detchd</td></tr>\n",
       "\t<tr><th scope=row>2580</th><td> 0    </td><td> 0    </td><td>NA    </td><td>NA    </td><td>NA    </td><td>NA    </td></tr>\n",
       "\t<tr><th scope=row>2604</th><td> 0    </td><td> 0    </td><td>NA    </td><td>NA    </td><td>NA    </td><td>NA    </td></tr>\n",
       "\t<tr><th scope=row>2610</th><td> 0    </td><td> 0    </td><td>NA    </td><td>NA    </td><td>NA    </td><td>NA    </td></tr>\n",
       "\t<tr><th scope=row>2692</th><td> 0    </td><td> 0    </td><td>NA    </td><td>NA    </td><td>NA    </td><td>NA    </td></tr>\n",
       "\t<tr><th scope=row>2694</th><td> 0    </td><td> 0    </td><td>NA    </td><td>NA    </td><td>NA    </td><td>NA    </td></tr>\n",
       "\t<tr><th scope=row>2709</th><td> 0    </td><td> 0    </td><td>NA    </td><td>NA    </td><td>NA    </td><td>NA    </td></tr>\n",
       "\t<tr><th scope=row>2768</th><td> 0    </td><td> 0    </td><td>NA    </td><td>NA    </td><td>NA    </td><td>NA    </td></tr>\n",
       "\t<tr><th scope=row>2772</th><td> 0    </td><td> 0    </td><td>NA    </td><td>NA    </td><td>NA    </td><td>NA    </td></tr>\n",
       "\t<tr><th scope=row>2790</th><td> 0    </td><td> 0    </td><td>NA    </td><td>NA    </td><td>NA    </td><td>NA    </td></tr>\n",
       "\t<tr><th scope=row>2792</th><td> 0    </td><td> 0    </td><td>NA    </td><td>NA    </td><td>NA    </td><td>NA    </td></tr>\n",
       "\t<tr><th scope=row>2800</th><td> 0    </td><td> 0    </td><td>NA    </td><td>NA    </td><td>NA    </td><td>NA    </td></tr>\n",
       "\t<tr><th scope=row>2860</th><td> 0    </td><td> 0    </td><td>NA    </td><td>NA    </td><td>NA    </td><td>NA    </td></tr>\n",
       "\t<tr><th scope=row>2863</th><td> 0    </td><td> 0    </td><td>NA    </td><td>NA    </td><td>NA    </td><td>NA    </td></tr>\n",
       "\t<tr><th scope=row>2871</th><td> 0    </td><td> 0    </td><td>NA    </td><td>NA    </td><td>NA    </td><td>NA    </td></tr>\n",
       "\t<tr><th scope=row>2889</th><td> 0    </td><td> 0    </td><td>NA    </td><td>NA    </td><td>NA    </td><td>NA    </td></tr>\n",
       "\t<tr><th scope=row>2892</th><td> 0    </td><td> 0    </td><td>NA    </td><td>NA    </td><td>NA    </td><td>NA    </td></tr>\n",
       "\t<tr><th scope=row>2893</th><td> 0    </td><td> 0    </td><td>NA    </td><td>NA    </td><td>NA    </td><td>NA    </td></tr>\n",
       "\t<tr><th scope=row>2894</th><td> 0    </td><td> 0    </td><td>NA    </td><td>NA    </td><td>NA    </td><td>NA    </td></tr>\n",
       "\t<tr><th scope=row>2910</th><td> 0    </td><td> 0    </td><td>NA    </td><td>NA    </td><td>NA    </td><td>NA    </td></tr>\n",
       "\t<tr><th scope=row>2914</th><td> 0    </td><td> 0    </td><td>NA    </td><td>NA    </td><td>NA    </td><td>NA    </td></tr>\n",
       "\t<tr><th scope=row>2915</th><td> 0    </td><td> 0    </td><td>NA    </td><td>NA    </td><td>NA    </td><td>NA    </td></tr>\n",
       "\t<tr><th scope=row>2918</th><td> 0    </td><td> 0    </td><td>NA    </td><td>NA    </td><td>NA    </td><td>NA    </td></tr>\n",
       "</tbody>\n",
       "</table>\n"
      ],
      "text/latex": [
       "\\begin{tabular}{r|llllll}\n",
       "  & GarageArea & GarageCars & GarageQual & GarageFinish & GarageCond & GarageType\\\\\n",
       "\\hline\n",
       "\t40 & 0  & 0  & NA & NA & NA & NA\\\\\n",
       "\t49 & 0  & 0  & NA & NA & NA & NA\\\\\n",
       "\t79 & 0  & 0  & NA & NA & NA & NA\\\\\n",
       "\t89 & 0  & 0  & NA & NA & NA & NA\\\\\n",
       "\t90 & 0  & 0  & NA & NA & NA & NA\\\\\n",
       "\t100 & 0  & 0  & NA & NA & NA & NA\\\\\n",
       "\t109 & 0  & 0  & NA & NA & NA & NA\\\\\n",
       "\t126 & 0  & 0  & NA & NA & NA & NA\\\\\n",
       "\t128 & 0  & 0  & NA & NA & NA & NA\\\\\n",
       "\t141 & 0  & 0  & NA & NA & NA & NA\\\\\n",
       "\t149 & 0  & 0  & NA & NA & NA & NA\\\\\n",
       "\t156 & 0  & 0  & NA & NA & NA & NA\\\\\n",
       "\t164 & 0  & 0  & NA & NA & NA & NA\\\\\n",
       "\t166 & 0  & 0  & NA & NA & NA & NA\\\\\n",
       "\t199 & 0  & 0  & NA & NA & NA & NA\\\\\n",
       "\t211 & 0  & 0  & NA & NA & NA & NA\\\\\n",
       "\t242 & 0  & 0  & NA & NA & NA & NA\\\\\n",
       "\t251 & 0  & 0  & NA & NA & NA & NA\\\\\n",
       "\t288 & 0  & 0  & NA & NA & NA & NA\\\\\n",
       "\t292 & 0  & 0  & NA & NA & NA & NA\\\\\n",
       "\t308 & 0  & 0  & NA & NA & NA & NA\\\\\n",
       "\t376 & 0  & 0  & NA & NA & NA & NA\\\\\n",
       "\t387 & 0  & 0  & NA & NA & NA & NA\\\\\n",
       "\t394 & 0  & 0  & NA & NA & NA & NA\\\\\n",
       "\t432 & 0  & 0  & NA & NA & NA & NA\\\\\n",
       "\t435 & 0  & 0  & NA & NA & NA & NA\\\\\n",
       "\t442 & 0  & 0  & NA & NA & NA & NA\\\\\n",
       "\t465 & 0  & 0  & NA & NA & NA & NA\\\\\n",
       "\t496 & 0  & 0  & NA & NA & NA & NA\\\\\n",
       "\t521 & 0  & 0  & NA & NA & NA & NA\\\\\n",
       "\t... & ... & ... & ... & ... & ... & ...\\\\\n",
       "\t2400 &  0     &  0     & NA     & NA     & NA     & NA    \\\\\n",
       "\t2423 &  0     &  0     & NA     & NA     & NA     & NA    \\\\\n",
       "\t2427 &  0     &  0     & NA     & NA     & NA     & NA    \\\\\n",
       "\t2553 &  0     &  0     & NA     & NA     & NA     & NA    \\\\\n",
       "\t2554 &  0     &  0     & NA     & NA     & NA     & NA    \\\\\n",
       "\t2558 &  0     &  0     & NA     & NA     & NA     & NA    \\\\\n",
       "\t2576 &  0     &  0     & NA     & NA     & NA     & NA    \\\\\n",
       "\t2577 & NA     & NA     & NA     & NA     & NA     & Detchd\\\\\n",
       "\t2580 &  0     &  0     & NA     & NA     & NA     & NA    \\\\\n",
       "\t2604 &  0     &  0     & NA     & NA     & NA     & NA    \\\\\n",
       "\t2610 &  0     &  0     & NA     & NA     & NA     & NA    \\\\\n",
       "\t2692 &  0     &  0     & NA     & NA     & NA     & NA    \\\\\n",
       "\t2694 &  0     &  0     & NA     & NA     & NA     & NA    \\\\\n",
       "\t2709 &  0     &  0     & NA     & NA     & NA     & NA    \\\\\n",
       "\t2768 &  0     &  0     & NA     & NA     & NA     & NA    \\\\\n",
       "\t2772 &  0     &  0     & NA     & NA     & NA     & NA    \\\\\n",
       "\t2790 &  0     &  0     & NA     & NA     & NA     & NA    \\\\\n",
       "\t2792 &  0     &  0     & NA     & NA     & NA     & NA    \\\\\n",
       "\t2800 &  0     &  0     & NA     & NA     & NA     & NA    \\\\\n",
       "\t2860 &  0     &  0     & NA     & NA     & NA     & NA    \\\\\n",
       "\t2863 &  0     &  0     & NA     & NA     & NA     & NA    \\\\\n",
       "\t2871 &  0     &  0     & NA     & NA     & NA     & NA    \\\\\n",
       "\t2889 &  0     &  0     & NA     & NA     & NA     & NA    \\\\\n",
       "\t2892 &  0     &  0     & NA     & NA     & NA     & NA    \\\\\n",
       "\t2893 &  0     &  0     & NA     & NA     & NA     & NA    \\\\\n",
       "\t2894 &  0     &  0     & NA     & NA     & NA     & NA    \\\\\n",
       "\t2910 &  0     &  0     & NA     & NA     & NA     & NA    \\\\\n",
       "\t2914 &  0     &  0     & NA     & NA     & NA     & NA    \\\\\n",
       "\t2915 &  0     &  0     & NA     & NA     & NA     & NA    \\\\\n",
       "\t2918 &  0     &  0     & NA     & NA     & NA     & NA    \\\\\n",
       "\\end{tabular}\n"
      ],
      "text/markdown": [
       "\n",
       "| <!--/--> | GarageArea | GarageCars | GarageQual | GarageFinish | GarageCond | GarageType | \n",
       "|---|---|---|---|---|---|---|---|---|---|---|---|---|---|---|---|---|---|---|---|---|---|---|---|---|---|---|---|---|---|---|---|---|---|---|---|---|---|---|---|---|---|---|---|---|---|---|---|---|---|---|---|---|---|---|---|---|---|---|---|---|\n",
       "| 40 | 0  | 0  | NA | NA | NA | NA | \n",
       "| 49 | 0  | 0  | NA | NA | NA | NA | \n",
       "| 79 | 0  | 0  | NA | NA | NA | NA | \n",
       "| 89 | 0  | 0  | NA | NA | NA | NA | \n",
       "| 90 | 0  | 0  | NA | NA | NA | NA | \n",
       "| 100 | 0  | 0  | NA | NA | NA | NA | \n",
       "| 109 | 0  | 0  | NA | NA | NA | NA | \n",
       "| 126 | 0  | 0  | NA | NA | NA | NA | \n",
       "| 128 | 0  | 0  | NA | NA | NA | NA | \n",
       "| 141 | 0  | 0  | NA | NA | NA | NA | \n",
       "| 149 | 0  | 0  | NA | NA | NA | NA | \n",
       "| 156 | 0  | 0  | NA | NA | NA | NA | \n",
       "| 164 | 0  | 0  | NA | NA | NA | NA | \n",
       "| 166 | 0  | 0  | NA | NA | NA | NA | \n",
       "| 199 | 0  | 0  | NA | NA | NA | NA | \n",
       "| 211 | 0  | 0  | NA | NA | NA | NA | \n",
       "| 242 | 0  | 0  | NA | NA | NA | NA | \n",
       "| 251 | 0  | 0  | NA | NA | NA | NA | \n",
       "| 288 | 0  | 0  | NA | NA | NA | NA | \n",
       "| 292 | 0  | 0  | NA | NA | NA | NA | \n",
       "| 308 | 0  | 0  | NA | NA | NA | NA | \n",
       "| 376 | 0  | 0  | NA | NA | NA | NA | \n",
       "| 387 | 0  | 0  | NA | NA | NA | NA | \n",
       "| 394 | 0  | 0  | NA | NA | NA | NA | \n",
       "| 432 | 0  | 0  | NA | NA | NA | NA | \n",
       "| 435 | 0  | 0  | NA | NA | NA | NA | \n",
       "| 442 | 0  | 0  | NA | NA | NA | NA | \n",
       "| 465 | 0  | 0  | NA | NA | NA | NA | \n",
       "| 496 | 0  | 0  | NA | NA | NA | NA | \n",
       "| 521 | 0  | 0  | NA | NA | NA | NA | \n",
       "| ... | ... | ... | ... | ... | ... | ... | \n",
       "| 2400 |  0     |  0     | NA     | NA     | NA     | NA     | \n",
       "| 2423 |  0     |  0     | NA     | NA     | NA     | NA     | \n",
       "| 2427 |  0     |  0     | NA     | NA     | NA     | NA     | \n",
       "| 2553 |  0     |  0     | NA     | NA     | NA     | NA     | \n",
       "| 2554 |  0     |  0     | NA     | NA     | NA     | NA     | \n",
       "| 2558 |  0     |  0     | NA     | NA     | NA     | NA     | \n",
       "| 2576 |  0     |  0     | NA     | NA     | NA     | NA     | \n",
       "| 2577 | NA     | NA     | NA     | NA     | NA     | Detchd | \n",
       "| 2580 |  0     |  0     | NA     | NA     | NA     | NA     | \n",
       "| 2604 |  0     |  0     | NA     | NA     | NA     | NA     | \n",
       "| 2610 |  0     |  0     | NA     | NA     | NA     | NA     | \n",
       "| 2692 |  0     |  0     | NA     | NA     | NA     | NA     | \n",
       "| 2694 |  0     |  0     | NA     | NA     | NA     | NA     | \n",
       "| 2709 |  0     |  0     | NA     | NA     | NA     | NA     | \n",
       "| 2768 |  0     |  0     | NA     | NA     | NA     | NA     | \n",
       "| 2772 |  0     |  0     | NA     | NA     | NA     | NA     | \n",
       "| 2790 |  0     |  0     | NA     | NA     | NA     | NA     | \n",
       "| 2792 |  0     |  0     | NA     | NA     | NA     | NA     | \n",
       "| 2800 |  0     |  0     | NA     | NA     | NA     | NA     | \n",
       "| 2860 |  0     |  0     | NA     | NA     | NA     | NA     | \n",
       "| 2863 |  0     |  0     | NA     | NA     | NA     | NA     | \n",
       "| 2871 |  0     |  0     | NA     | NA     | NA     | NA     | \n",
       "| 2889 |  0     |  0     | NA     | NA     | NA     | NA     | \n",
       "| 2892 |  0     |  0     | NA     | NA     | NA     | NA     | \n",
       "| 2893 |  0     |  0     | NA     | NA     | NA     | NA     | \n",
       "| 2894 |  0     |  0     | NA     | NA     | NA     | NA     | \n",
       "| 2910 |  0     |  0     | NA     | NA     | NA     | NA     | \n",
       "| 2914 |  0     |  0     | NA     | NA     | NA     | NA     | \n",
       "| 2915 |  0     |  0     | NA     | NA     | NA     | NA     | \n",
       "| 2918 |  0     |  0     | NA     | NA     | NA     | NA     | \n",
       "\n",
       "\n"
      ],
      "text/plain": [
       "     GarageArea GarageCars GarageQual GarageFinish GarageCond GarageType\n",
       "40   0          0          NA         NA           NA         NA        \n",
       "49   0          0          NA         NA           NA         NA        \n",
       "79   0          0          NA         NA           NA         NA        \n",
       "89   0          0          NA         NA           NA         NA        \n",
       "90   0          0          NA         NA           NA         NA        \n",
       "100  0          0          NA         NA           NA         NA        \n",
       "109  0          0          NA         NA           NA         NA        \n",
       "126  0          0          NA         NA           NA         NA        \n",
       "128  0          0          NA         NA           NA         NA        \n",
       "141  0          0          NA         NA           NA         NA        \n",
       "149  0          0          NA         NA           NA         NA        \n",
       "156  0          0          NA         NA           NA         NA        \n",
       "164  0          0          NA         NA           NA         NA        \n",
       "166  0          0          NA         NA           NA         NA        \n",
       "199  0          0          NA         NA           NA         NA        \n",
       "211  0          0          NA         NA           NA         NA        \n",
       "242  0          0          NA         NA           NA         NA        \n",
       "251  0          0          NA         NA           NA         NA        \n",
       "288  0          0          NA         NA           NA         NA        \n",
       "292  0          0          NA         NA           NA         NA        \n",
       "308  0          0          NA         NA           NA         NA        \n",
       "376  0          0          NA         NA           NA         NA        \n",
       "387  0          0          NA         NA           NA         NA        \n",
       "394  0          0          NA         NA           NA         NA        \n",
       "432  0          0          NA         NA           NA         NA        \n",
       "435  0          0          NA         NA           NA         NA        \n",
       "442  0          0          NA         NA           NA         NA        \n",
       "465  0          0          NA         NA           NA         NA        \n",
       "496  0          0          NA         NA           NA         NA        \n",
       "521  0          0          NA         NA           NA         NA        \n",
       "...  ...        ...        ...        ...          ...        ...       \n",
       "2400  0          0         NA         NA           NA         NA        \n",
       "2423  0          0         NA         NA           NA         NA        \n",
       "2427  0          0         NA         NA           NA         NA        \n",
       "2553  0          0         NA         NA           NA         NA        \n",
       "2554  0          0         NA         NA           NA         NA        \n",
       "2558  0          0         NA         NA           NA         NA        \n",
       "2576  0          0         NA         NA           NA         NA        \n",
       "2577 NA         NA         NA         NA           NA         Detchd    \n",
       "2580  0          0         NA         NA           NA         NA        \n",
       "2604  0          0         NA         NA           NA         NA        \n",
       "2610  0          0         NA         NA           NA         NA        \n",
       "2692  0          0         NA         NA           NA         NA        \n",
       "2694  0          0         NA         NA           NA         NA        \n",
       "2709  0          0         NA         NA           NA         NA        \n",
       "2768  0          0         NA         NA           NA         NA        \n",
       "2772  0          0         NA         NA           NA         NA        \n",
       "2790  0          0         NA         NA           NA         NA        \n",
       "2792  0          0         NA         NA           NA         NA        \n",
       "2800  0          0         NA         NA           NA         NA        \n",
       "2860  0          0         NA         NA           NA         NA        \n",
       "2863  0          0         NA         NA           NA         NA        \n",
       "2871  0          0         NA         NA           NA         NA        \n",
       "2889  0          0         NA         NA           NA         NA        \n",
       "2892  0          0         NA         NA           NA         NA        \n",
       "2893  0          0         NA         NA           NA         NA        \n",
       "2894  0          0         NA         NA           NA         NA        \n",
       "2910  0          0         NA         NA           NA         NA        \n",
       "2914  0          0         NA         NA           NA         NA        \n",
       "2915  0          0         NA         NA           NA         NA        \n",
       "2918  0          0         NA         NA           NA         NA        "
      ]
     },
     "metadata": {},
     "output_type": "display_data"
    }
   ],
   "source": [
    "garage.cols <- c('GarageArea', 'GarageCars', 'GarageQual', 'GarageFinish', 'GarageCond', 'GarageType')\n",
    "df.combined[is.na(df.combined$GarageCond),garage.cols]"
   ]
  },
  {
   "cell_type": "code",
   "execution_count": 52,
   "metadata": {},
   "outputs": [
    {
     "data": {
      "text/html": [
       "'Only one house who had NA’s in their garage columns had an area graeteer than 0. We can fill this house in manually and set the rest of the houses NA’s to 0.\\n\\nFor the house with GarageArea = 360 and GarageCars = 1, but NA’s in the other columns, we can use the most frequent values for each columns from houses with a similar area and car count.'"
      ],
      "text/latex": [
       "'Only one house who had NA’s in their garage columns had an area graeteer than 0. We can fill this house in manually and set the rest of the houses NA’s to 0.\\textbackslash{}n\\textbackslash{}nFor the house with GarageArea = 360 and GarageCars = 1, but NA’s in the other columns, we can use the most frequent values for each columns from houses with a similar area and car count.'"
      ],
      "text/markdown": [
       "'Only one house who had NA’s in their garage columns had an area graeteer than 0. We can fill this house in manually and set the rest of the houses NA’s to 0.\\n\\nFor the house with GarageArea = 360 and GarageCars = 1, but NA’s in the other columns, we can use the most frequent values for each columns from houses with a similar area and car count.'"
      ],
      "text/plain": [
       "[1] \"Only one house who had NAs in their garage columns had an area graeteer than 0. We can fill this house in manually and set the rest of the houses NAs to 0.\\n\\nFor the house with GarageArea = 360 and GarageCars = 1, but NAs in the other columns, we can use the most frequent values for each columns from houses with a similar area and car count.\""
      ]
     },
     "metadata": {},
     "output_type": "display_data"
    }
   ],
   "source": [
    "\"Only one house who had NA’s in their garage columns had an area graeteer than 0. We can fill this house in manually and set the rest of the houses NA’s to 0.\n",
    "\n",
    "For the house with GarageArea = 360 and GarageCars = 1, but NA’s in the other columns, we can use the most frequent values for each columns from houses with a similar area and car count.\""
   ]
  },
  {
   "cell_type": "code",
   "execution_count": 53,
   "metadata": {},
   "outputs": [
    {
     "data": {
      "text/html": [
       "<ol class=list-inline>\n",
       "\t<li>'GarageArea.352'</li>\n",
       "\t<li>'GarageCars.1'</li>\n",
       "\t<li>'GarageQual.TA'</li>\n",
       "\t<li>'GarageFinish.Unf'</li>\n",
       "\t<li>'GarageCond.TA'</li>\n",
       "\t<li>'GarageType.Attchd'</li>\n",
       "</ol>\n"
      ],
      "text/latex": [
       "\\begin{enumerate*}\n",
       "\\item 'GarageArea.352'\n",
       "\\item 'GarageCars.1'\n",
       "\\item 'GarageQual.TA'\n",
       "\\item 'GarageFinish.Unf'\n",
       "\\item 'GarageCond.TA'\n",
       "\\item 'GarageType.Attchd'\n",
       "\\end{enumerate*}\n"
      ],
      "text/markdown": [
       "1. 'GarageArea.352'\n",
       "2. 'GarageCars.1'\n",
       "3. 'GarageQual.TA'\n",
       "4. 'GarageFinish.Unf'\n",
       "5. 'GarageCond.TA'\n",
       "6. 'GarageType.Attchd'\n",
       "\n",
       "\n"
      ],
      "text/plain": [
       "[1] \"GarageArea.352\"    \"GarageCars.1\"      \"GarageQual.TA\"    \n",
       "[4] \"GarageFinish.Unf\"  \"GarageCond.TA\"     \"GarageType.Attchd\""
      ]
     },
     "metadata": {},
     "output_type": "display_data"
    }
   ],
   "source": [
    "idx <- which(((df.combined$GarageArea < 370) & (df.combined$GarageArea > 350)) & (df.combined$GarageCars == 1))\n",
    "\n",
    "names(sapply(df.combined[idx, garage.cols], function(x) sort(table(x), decreasing=TRUE)[1]))"
   ]
  },
  {
   "cell_type": "code",
   "execution_count": 54,
   "metadata": {},
   "outputs": [],
   "source": [
    "df.combined[2127,'GarageQual'] = 'TA'\n",
    "df.combined[2127, 'GarageFinish'] = 'Unf'\n",
    "df.combined[2127, 'GarageCond'] = 'TA'"
   ]
  },
  {
   "cell_type": "code",
   "execution_count": 56,
   "metadata": {},
   "outputs": [
    {
     "data": {
      "text/html": [
       "'Now we can fill in any missing numeric values with 0 and categoric with ‘None’ since these houses recorded having 0 area and 0 cars in their garage.'"
      ],
      "text/latex": [
       "'Now we can fill in any missing numeric values with 0 and categoric with ‘None’ since these houses recorded having 0 area and 0 cars in their garage.'"
      ],
      "text/markdown": [
       "'Now we can fill in any missing numeric values with 0 and categoric with ‘None’ since these houses recorded having 0 area and 0 cars in their garage.'"
      ],
      "text/plain": [
       "[1] \"Now we can fill in any missing numeric values with 0 and categoric with None since these houses recorded having 0 area and 0 cars in their garage.\""
      ]
     },
     "metadata": {},
     "output_type": "display_data"
    }
   ],
   "source": [
    "\"Now we can fill in any missing numeric values with 0 and categoric with ‘None’ since these houses recorded having 0 area and 0 cars in their garage.\""
   ]
  },
  {
   "cell_type": "code",
   "execution_count": 57,
   "metadata": {},
   "outputs": [],
   "source": [
    "for (col in garage.cols){\n",
    "  if (sapply(df.combined[col], is.numeric) == TRUE){\n",
    "    df.combined[sapply(df.combined[col], is.na), col] = 0\n",
    "  }\n",
    "  else{\n",
    "    df.combined[sapply(df.combined[col], is.na), col] = 'None'\n",
    "  }\n",
    "}"
   ]
  },
  {
   "cell_type": "code",
   "execution_count": 60,
   "metadata": {},
   "outputs": [
    {
     "data": {
      "text/html": [
       "'With only 1 missing value for KitchenQual and Electrical each we can fill in the missing value with the most frequent value from each column.'"
      ],
      "text/latex": [
       "'With only 1 missing value for KitchenQual and Electrical each we can fill in the missing value with the most frequent value from each column.'"
      ],
      "text/markdown": [
       "'With only 1 missing value for KitchenQual and Electrical each we can fill in the missing value with the most frequent value from each column.'"
      ],
      "text/plain": [
       "[1] \"With only 1 missing value for KitchenQual and Electrical each we can fill in the missing value with the most frequent value from each column.\""
      ]
     },
     "metadata": {},
     "output_type": "display_data"
    }
   ],
   "source": [
    "#KitchenQual: Kitchen quality\n",
    "#Electrical: Electrical system\n",
    "\"With only 1 missing value for KitchenQual and Electrical each we can fill in the missing value with the most frequent value from each column.\""
   ]
  },
  {
   "cell_type": "code",
   "execution_count": 61,
   "metadata": {
    "scrolled": true
   },
   "outputs": [
    {
     "name": "stderr",
     "output_type": "stream",
     "text": [
      "Warning message:\n",
      "\"Removed 1 rows containing non-finite values (stat_count).\"Warning message:\n",
      "\"Removed 1 rows containing non-finite values (stat_count).\"Warning message:\n",
      "\"Removed 1 rows containing non-finite values (stat_count).\""
     ]
    },
    {
     "data": {
      "image/png": "[encoded data removed]",
      "text/plain": [
       "plot without title"
      ]
     },
     "metadata": {},
     "output_type": "display_data"
    }
   ],
   "source": [
    "plot.categoric('KitchenQual', df.combined)"
   ]
  },
  {
   "cell_type": "code",
   "execution_count": 62,
   "metadata": {
    "scrolled": true
   },
   "outputs": [
    {
     "name": "stderr",
     "output_type": "stream",
     "text": [
      "Warning message:\n",
      "\"Removed 1 rows containing non-finite values (stat_count).\"Warning message:\n",
      "\"Removed 1 rows containing non-finite values (stat_count).\"Warning message:\n",
      "\"Removed 1 rows containing non-finite values (stat_count).\""
     ]
    },
    {
     "data": {
      "image/png": "[encoded data removed]",
      "text/plain": [
       "plot without title"
      ]
     },
     "metadata": {},
     "output_type": "display_data"
    }
   ],
   "source": [
    "df.combined$KitchenQual[is.na(df.combined$KitchenQual)] = 'TA'\n",
    "\n",
    "plot.categoric('Electrical', df.combined)"
   ]
  },
  {
   "cell_type": "code",
   "execution_count": 63,
   "metadata": {},
   "outputs": [],
   "source": [
    "df.combined$Electrical[is.na(df.combined$Electrical)] = 'SBrkr'"
   ]
  },
  {
   "cell_type": "code",
   "execution_count": 64,
   "metadata": {},
   "outputs": [
    {
     "data": {
      "text/html": [
       "'There are 11 basement features each with at least 1 missing value. We can take a look at the subset of just these columns from our data.'"
      ],
      "text/latex": [
       "'There are 11 basement features each with at least 1 missing value. We can take a look at the subset of just these columns from our data.'"
      ],
      "text/markdown": [
       "'There are 11 basement features each with at least 1 missing value. We can take a look at the subset of just these columns from our data.'"
      ],
      "text/plain": [
       "[1] \"There are 11 basement features each with at least 1 missing value. We can take a look at the subset of just these columns from our data.\""
      ]
     },
     "metadata": {},
     "output_type": "display_data"
    }
   ],
   "source": [
    "#BsmtQual: Height of the basement\n",
    "#BsmtCond: General condition of the basement\n",
    "#BsmtExposure: Walkout or garden level basement walls\n",
    "#BsmtFinType1: Quality of basement finished area\n",
    "#BsmtFinSF1: Type 1 finished square feet\n",
    "#BsmtFinType2: Quality of second finished area (if present)\n",
    "#BsmtFinSF2: Type 2 finished square feet\n",
    "#BsmtUnfSF: Unfinished square feet of basement area\n",
    "#TotalBsmtSF: Total square feet of basement area\n",
    "#BsmtFullBath: Basement full bathrooms\n",
    "#BsmtHalfBath: Basement half bathrooms\n",
    "\"There are 11 basement features each with at least 1 missing value. We can take a look at the subset of just these columns from our data.\""
   ]
  },
  {
   "cell_type": "code",
   "execution_count": 65,
   "metadata": {
    "scrolled": true
   },
   "outputs": [
    {
     "data": {
      "text/html": [
       "<table>\n",
       "<thead><tr><th></th><th scope=col>BsmtQual</th><th scope=col>BsmtCond</th><th scope=col>BsmtExposure</th><th scope=col>BsmtFinType1</th><th scope=col>BsmtFinSF1</th><th scope=col>BsmtFinType2</th><th scope=col>BsmtFinSF2</th><th scope=col>BsmtUnfSF</th><th scope=col>TotalBsmtSF</th><th scope=col>BsmtFullBath</th><th scope=col>BsmtHalfBath</th></tr></thead>\n",
       "<tbody>\n",
       "\t<tr><th scope=row>18</th><td>NA </td><td>NA </td><td>NA </td><td>NA </td><td>0  </td><td>NA </td><td>0  </td><td>  0</td><td>  0</td><td>0  </td><td>0  </td></tr>\n",
       "\t<tr><th scope=row>40</th><td>NA </td><td>NA </td><td>NA </td><td>NA </td><td>0  </td><td>NA </td><td>0  </td><td>  0</td><td>  0</td><td>0  </td><td>0  </td></tr>\n",
       "\t<tr><th scope=row>91</th><td>NA </td><td>NA </td><td>NA </td><td>NA </td><td>0  </td><td>NA </td><td>0  </td><td>  0</td><td>  0</td><td>0  </td><td>0  </td></tr>\n",
       "\t<tr><th scope=row>103</th><td>NA </td><td>NA </td><td>NA </td><td>NA </td><td>0  </td><td>NA </td><td>0  </td><td>  0</td><td>  0</td><td>0  </td><td>0  </td></tr>\n",
       "\t<tr><th scope=row>157</th><td>NA </td><td>NA </td><td>NA </td><td>NA </td><td>0  </td><td>NA </td><td>0  </td><td>  0</td><td>  0</td><td>0  </td><td>0  </td></tr>\n",
       "\t<tr><th scope=row>183</th><td>NA </td><td>NA </td><td>NA </td><td>NA </td><td>0  </td><td>NA </td><td>0  </td><td>  0</td><td>  0</td><td>0  </td><td>0  </td></tr>\n",
       "\t<tr><th scope=row>260</th><td>NA </td><td>NA </td><td>NA </td><td>NA </td><td>0  </td><td>NA </td><td>0  </td><td>  0</td><td>  0</td><td>0  </td><td>0  </td></tr>\n",
       "\t<tr><th scope=row>343</th><td>NA </td><td>NA </td><td>NA </td><td>NA </td><td>0  </td><td>NA </td><td>0  </td><td>  0</td><td>  0</td><td>0  </td><td>0  </td></tr>\n",
       "\t<tr><th scope=row>363</th><td>NA </td><td>NA </td><td>NA </td><td>NA </td><td>0  </td><td>NA </td><td>0  </td><td>  0</td><td>  0</td><td>0  </td><td>0  </td></tr>\n",
       "\t<tr><th scope=row>372</th><td>NA </td><td>NA </td><td>NA </td><td>NA </td><td>0  </td><td>NA </td><td>0  </td><td>  0</td><td>  0</td><td>0  </td><td>0  </td></tr>\n",
       "\t<tr><th scope=row>393</th><td>NA </td><td>NA </td><td>NA </td><td>NA </td><td>0  </td><td>NA </td><td>0  </td><td>  0</td><td>  0</td><td>0  </td><td>0  </td></tr>\n",
       "\t<tr><th scope=row>521</th><td>NA </td><td>NA </td><td>NA </td><td>NA </td><td>0  </td><td>NA </td><td>0  </td><td>  0</td><td>  0</td><td>0  </td><td>0  </td></tr>\n",
       "\t<tr><th scope=row>533</th><td>NA </td><td>NA </td><td>NA </td><td>NA </td><td>0  </td><td>NA </td><td>0  </td><td>  0</td><td>  0</td><td>0  </td><td>0  </td></tr>\n",
       "\t<tr><th scope=row>534</th><td>NA </td><td>NA </td><td>NA </td><td>NA </td><td>0  </td><td>NA </td><td>0  </td><td>  0</td><td>  0</td><td>0  </td><td>0  </td></tr>\n",
       "\t<tr><th scope=row>554</th><td>NA </td><td>NA </td><td>NA </td><td>NA </td><td>0  </td><td>NA </td><td>0  </td><td>  0</td><td>  0</td><td>0  </td><td>0  </td></tr>\n",
       "\t<tr><th scope=row>647</th><td>NA </td><td>NA </td><td>NA </td><td>NA </td><td>0  </td><td>NA </td><td>0  </td><td>  0</td><td>  0</td><td>0  </td><td>0  </td></tr>\n",
       "\t<tr><th scope=row>706</th><td>NA </td><td>NA </td><td>NA </td><td>NA </td><td>0  </td><td>NA </td><td>0  </td><td>  0</td><td>  0</td><td>0  </td><td>0  </td></tr>\n",
       "\t<tr><th scope=row>737</th><td>NA </td><td>NA </td><td>NA </td><td>NA </td><td>0  </td><td>NA </td><td>0  </td><td>  0</td><td>  0</td><td>0  </td><td>0  </td></tr>\n",
       "\t<tr><th scope=row>750</th><td>NA </td><td>NA </td><td>NA </td><td>NA </td><td>0  </td><td>NA </td><td>0  </td><td>  0</td><td>  0</td><td>0  </td><td>0  </td></tr>\n",
       "\t<tr><th scope=row>779</th><td>NA </td><td>NA </td><td>NA </td><td>NA </td><td>0  </td><td>NA </td><td>0  </td><td>  0</td><td>  0</td><td>0  </td><td>0  </td></tr>\n",
       "\t<tr><th scope=row>869</th><td>NA </td><td>NA </td><td>NA </td><td>NA </td><td>0  </td><td>NA </td><td>0  </td><td>  0</td><td>  0</td><td>0  </td><td>0  </td></tr>\n",
       "\t<tr><th scope=row>895</th><td>NA </td><td>NA </td><td>NA </td><td>NA </td><td>0  </td><td>NA </td><td>0  </td><td>  0</td><td>  0</td><td>0  </td><td>0  </td></tr>\n",
       "\t<tr><th scope=row>898</th><td>NA </td><td>NA </td><td>NA </td><td>NA </td><td>0  </td><td>NA </td><td>0  </td><td>  0</td><td>  0</td><td>0  </td><td>0  </td></tr>\n",
       "\t<tr><th scope=row>949</th><td>Gd </td><td>TA </td><td>NA </td><td>Unf</td><td>0  </td><td>Unf</td><td>0  </td><td>936</td><td>936</td><td>0  </td><td>0  </td></tr>\n",
       "\t<tr><th scope=row>985</th><td>NA </td><td>NA </td><td>NA </td><td>NA </td><td>0  </td><td>NA </td><td>0  </td><td>  0</td><td>  0</td><td>0  </td><td>0  </td></tr>\n",
       "\t<tr><th scope=row>1001</th><td>NA </td><td>NA </td><td>NA </td><td>NA </td><td>0  </td><td>NA </td><td>0  </td><td>  0</td><td>  0</td><td>0  </td><td>0  </td></tr>\n",
       "\t<tr><th scope=row>1012</th><td>NA </td><td>NA </td><td>NA </td><td>NA </td><td>0  </td><td>NA </td><td>0  </td><td>  0</td><td>  0</td><td>0  </td><td>0  </td></tr>\n",
       "\t<tr><th scope=row>1036</th><td>NA </td><td>NA </td><td>NA </td><td>NA </td><td>0  </td><td>NA </td><td>0  </td><td>  0</td><td>  0</td><td>0  </td><td>0  </td></tr>\n",
       "\t<tr><th scope=row>1046</th><td>NA </td><td>NA </td><td>NA </td><td>NA </td><td>0  </td><td>NA </td><td>0  </td><td>  0</td><td>  0</td><td>0  </td><td>0  </td></tr>\n",
       "\t<tr><th scope=row>1049</th><td>NA </td><td>NA </td><td>NA </td><td>NA </td><td>0  </td><td>NA </td><td>0  </td><td>  0</td><td>  0</td><td>0  </td><td>0  </td></tr>\n",
       "\t<tr><th scope=row>...</th><td>...</td><td>...</td><td>...</td><td>...</td><td>...</td><td>...</td><td>...</td><td>...</td><td>...</td><td>...</td><td>...</td></tr>\n",
       "\t<tr><th scope=row>2067</th><td>NA </td><td>NA </td><td>NA </td><td>NA </td><td> 0 </td><td>NA </td><td> 0 </td><td>  0</td><td>  0</td><td> 0 </td><td> 0 </td></tr>\n",
       "\t<tr><th scope=row>2069</th><td>NA </td><td>NA </td><td>NA </td><td>NA </td><td> 0 </td><td>NA </td><td> 0 </td><td>  0</td><td>  0</td><td> 0 </td><td> 0 </td></tr>\n",
       "\t<tr><th scope=row>2121</th><td>NA </td><td>NA </td><td>NA </td><td>NA </td><td>NA </td><td>NA </td><td>NA </td><td> NA</td><td> NA</td><td>NA </td><td>NA </td></tr>\n",
       "\t<tr><th scope=row>2123</th><td>NA </td><td>NA </td><td>NA </td><td>NA </td><td> 0 </td><td>NA </td><td> 0 </td><td>  0</td><td>  0</td><td> 0 </td><td> 0 </td></tr>\n",
       "\t<tr><th scope=row>2189</th><td>NA </td><td>NA </td><td>NA </td><td>NA </td><td> 0 </td><td>NA </td><td> 0 </td><td>  0</td><td>  0</td><td>NA </td><td>NA </td></tr>\n",
       "\t<tr><th scope=row>2190</th><td>NA </td><td>NA </td><td>NA </td><td>NA </td><td> 0 </td><td>NA </td><td> 0 </td><td>  0</td><td>  0</td><td> 0 </td><td> 0 </td></tr>\n",
       "\t<tr><th scope=row>2191</th><td>NA </td><td>NA </td><td>NA </td><td>NA </td><td> 0 </td><td>NA </td><td> 0 </td><td>  0</td><td>  0</td><td> 0 </td><td> 0 </td></tr>\n",
       "\t<tr><th scope=row>2194</th><td>NA </td><td>NA </td><td>NA </td><td>NA </td><td> 0 </td><td>NA </td><td> 0 </td><td>  0</td><td>  0</td><td> 0 </td><td> 0 </td></tr>\n",
       "\t<tr><th scope=row>2217</th><td>NA </td><td>NA </td><td>NA </td><td>NA </td><td> 0 </td><td>NA </td><td> 0 </td><td>  0</td><td>  0</td><td> 0 </td><td> 0 </td></tr>\n",
       "\t<tr><th scope=row>2225</th><td>NA </td><td>NA </td><td>NA </td><td>NA </td><td> 0 </td><td>NA </td><td> 0 </td><td>  0</td><td>  0</td><td> 0 </td><td> 0 </td></tr>\n",
       "\t<tr><th scope=row>2349</th><td>Gd </td><td>TA </td><td>NA </td><td>Unf</td><td> 0 </td><td>Unf</td><td> 0 </td><td>725</td><td>725</td><td> 0 </td><td> 0 </td></tr>\n",
       "\t<tr><th scope=row>2388</th><td>NA </td><td>NA </td><td>NA </td><td>NA </td><td> 0 </td><td>NA </td><td> 0 </td><td>  0</td><td>  0</td><td> 0 </td><td> 0 </td></tr>\n",
       "\t<tr><th scope=row>2436</th><td>NA </td><td>NA </td><td>NA </td><td>NA </td><td> 0 </td><td>NA </td><td> 0 </td><td>  0</td><td>  0</td><td> 0 </td><td> 0 </td></tr>\n",
       "\t<tr><th scope=row>2453</th><td>NA </td><td>NA </td><td>NA </td><td>NA </td><td> 0 </td><td>NA </td><td> 0 </td><td>  0</td><td>  0</td><td> 0 </td><td> 0 </td></tr>\n",
       "\t<tr><th scope=row>2454</th><td>NA </td><td>NA </td><td>NA </td><td>NA </td><td> 0 </td><td>NA </td><td> 0 </td><td>  0</td><td>  0</td><td> 0 </td><td> 0 </td></tr>\n",
       "\t<tr><th scope=row>2491</th><td>NA </td><td>NA </td><td>NA </td><td>NA </td><td> 0 </td><td>NA </td><td> 0 </td><td>  0</td><td>  0</td><td> 0 </td><td> 0 </td></tr>\n",
       "\t<tr><th scope=row>2499</th><td>NA </td><td>NA </td><td>NA </td><td>NA </td><td> 0 </td><td>NA </td><td> 0 </td><td>  0</td><td>  0</td><td> 0 </td><td> 0 </td></tr>\n",
       "\t<tr><th scope=row>2548</th><td>NA </td><td>NA </td><td>NA </td><td>NA </td><td> 0 </td><td>NA </td><td> 0 </td><td>  0</td><td>  0</td><td> 0 </td><td> 0 </td></tr>\n",
       "\t<tr><th scope=row>2553</th><td>NA </td><td>NA </td><td>NA </td><td>NA </td><td> 0 </td><td>NA </td><td> 0 </td><td>  0</td><td>  0</td><td> 0 </td><td> 0 </td></tr>\n",
       "\t<tr><th scope=row>2565</th><td>NA </td><td>NA </td><td>NA </td><td>NA </td><td> 0 </td><td>NA </td><td> 0 </td><td>  0</td><td>  0</td><td> 0 </td><td> 0 </td></tr>\n",
       "\t<tr><th scope=row>2579</th><td>NA </td><td>NA </td><td>NA </td><td>NA </td><td> 0 </td><td>NA </td><td> 0 </td><td>  0</td><td>  0</td><td> 0 </td><td> 0 </td></tr>\n",
       "\t<tr><th scope=row>2600</th><td>NA </td><td>NA </td><td>NA </td><td>NA </td><td> 0 </td><td>NA </td><td> 0 </td><td>  0</td><td>  0</td><td> 0 </td><td> 0 </td></tr>\n",
       "\t<tr><th scope=row>2703</th><td>NA </td><td>NA </td><td>NA </td><td>NA </td><td> 0 </td><td>NA </td><td> 0 </td><td>  0</td><td>  0</td><td> 0 </td><td> 0 </td></tr>\n",
       "\t<tr><th scope=row>2764</th><td>NA </td><td>NA </td><td>NA </td><td>NA </td><td> 0 </td><td>NA </td><td> 0 </td><td>  0</td><td>  0</td><td> 0 </td><td> 0 </td></tr>\n",
       "\t<tr><th scope=row>2767</th><td>NA </td><td>NA </td><td>NA </td><td>NA </td><td> 0 </td><td>NA </td><td> 0 </td><td>  0</td><td>  0</td><td> 0 </td><td> 0 </td></tr>\n",
       "\t<tr><th scope=row>2804</th><td>NA </td><td>NA </td><td>NA </td><td>NA </td><td> 0 </td><td>NA </td><td> 0 </td><td>  0</td><td>  0</td><td> 0 </td><td> 0 </td></tr>\n",
       "\t<tr><th scope=row>2805</th><td>NA </td><td>NA </td><td>NA </td><td>NA </td><td> 0 </td><td>NA </td><td> 0 </td><td>  0</td><td>  0</td><td> 0 </td><td> 0 </td></tr>\n",
       "\t<tr><th scope=row>2825</th><td>NA </td><td>NA </td><td>NA </td><td>NA </td><td> 0 </td><td>NA </td><td> 0 </td><td>  0</td><td>  0</td><td> 0 </td><td> 0 </td></tr>\n",
       "\t<tr><th scope=row>2892</th><td>NA </td><td>NA </td><td>NA </td><td>NA </td><td> 0 </td><td>NA </td><td> 0 </td><td>  0</td><td>  0</td><td> 0 </td><td> 0 </td></tr>\n",
       "\t<tr><th scope=row>2905</th><td>NA </td><td>NA </td><td>NA </td><td>NA </td><td> 0 </td><td>NA </td><td> 0 </td><td>  0</td><td>  0</td><td> 0 </td><td> 0 </td></tr>\n",
       "</tbody>\n",
       "</table>\n"
      ],
      "text/latex": [
       "\\begin{tabular}{r|lllllllllll}\n",
       "  & BsmtQual & BsmtCond & BsmtExposure & BsmtFinType1 & BsmtFinSF1 & BsmtFinType2 & BsmtFinSF2 & BsmtUnfSF & TotalBsmtSF & BsmtFullBath & BsmtHalfBath\\\\\n",
       "\\hline\n",
       "\t18 & NA  & NA  & NA  & NA  & 0   & NA  & 0   &   0 &   0 & 0   & 0  \\\\\n",
       "\t40 & NA  & NA  & NA  & NA  & 0   & NA  & 0   &   0 &   0 & 0   & 0  \\\\\n",
       "\t91 & NA  & NA  & NA  & NA  & 0   & NA  & 0   &   0 &   0 & 0   & 0  \\\\\n",
       "\t103 & NA  & NA  & NA  & NA  & 0   & NA  & 0   &   0 &   0 & 0   & 0  \\\\\n",
       "\t157 & NA  & NA  & NA  & NA  & 0   & NA  & 0   &   0 &   0 & 0   & 0  \\\\\n",
       "\t183 & NA  & NA  & NA  & NA  & 0   & NA  & 0   &   0 &   0 & 0   & 0  \\\\\n",
       "\t260 & NA  & NA  & NA  & NA  & 0   & NA  & 0   &   0 &   0 & 0   & 0  \\\\\n",
       "\t343 & NA  & NA  & NA  & NA  & 0   & NA  & 0   &   0 &   0 & 0   & 0  \\\\\n",
       "\t363 & NA  & NA  & NA  & NA  & 0   & NA  & 0   &   0 &   0 & 0   & 0  \\\\\n",
       "\t372 & NA  & NA  & NA  & NA  & 0   & NA  & 0   &   0 &   0 & 0   & 0  \\\\\n",
       "\t393 & NA  & NA  & NA  & NA  & 0   & NA  & 0   &   0 &   0 & 0   & 0  \\\\\n",
       "\t521 & NA  & NA  & NA  & NA  & 0   & NA  & 0   &   0 &   0 & 0   & 0  \\\\\n",
       "\t533 & NA  & NA  & NA  & NA  & 0   & NA  & 0   &   0 &   0 & 0   & 0  \\\\\n",
       "\t534 & NA  & NA  & NA  & NA  & 0   & NA  & 0   &   0 &   0 & 0   & 0  \\\\\n",
       "\t554 & NA  & NA  & NA  & NA  & 0   & NA  & 0   &   0 &   0 & 0   & 0  \\\\\n",
       "\t647 & NA  & NA  & NA  & NA  & 0   & NA  & 0   &   0 &   0 & 0   & 0  \\\\\n",
       "\t706 & NA  & NA  & NA  & NA  & 0   & NA  & 0   &   0 &   0 & 0   & 0  \\\\\n",
       "\t737 & NA  & NA  & NA  & NA  & 0   & NA  & 0   &   0 &   0 & 0   & 0  \\\\\n",
       "\t750 & NA  & NA  & NA  & NA  & 0   & NA  & 0   &   0 &   0 & 0   & 0  \\\\\n",
       "\t779 & NA  & NA  & NA  & NA  & 0   & NA  & 0   &   0 &   0 & 0   & 0  \\\\\n",
       "\t869 & NA  & NA  & NA  & NA  & 0   & NA  & 0   &   0 &   0 & 0   & 0  \\\\\n",
       "\t895 & NA  & NA  & NA  & NA  & 0   & NA  & 0   &   0 &   0 & 0   & 0  \\\\\n",
       "\t898 & NA  & NA  & NA  & NA  & 0   & NA  & 0   &   0 &   0 & 0   & 0  \\\\\n",
       "\t949 & Gd  & TA  & NA  & Unf & 0   & Unf & 0   & 936 & 936 & 0   & 0  \\\\\n",
       "\t985 & NA  & NA  & NA  & NA  & 0   & NA  & 0   &   0 &   0 & 0   & 0  \\\\\n",
       "\t1001 & NA  & NA  & NA  & NA  & 0   & NA  & 0   &   0 &   0 & 0   & 0  \\\\\n",
       "\t1012 & NA  & NA  & NA  & NA  & 0   & NA  & 0   &   0 &   0 & 0   & 0  \\\\\n",
       "\t1036 & NA  & NA  & NA  & NA  & 0   & NA  & 0   &   0 &   0 & 0   & 0  \\\\\n",
       "\t1046 & NA  & NA  & NA  & NA  & 0   & NA  & 0   &   0 &   0 & 0   & 0  \\\\\n",
       "\t1049 & NA  & NA  & NA  & NA  & 0   & NA  & 0   &   0 &   0 & 0   & 0  \\\\\n",
       "\t... & ... & ... & ... & ... & ... & ... & ... & ... & ... & ... & ...\\\\\n",
       "\t2067 & NA  & NA  & NA  & NA  &  0  & NA  &  0  &   0 &   0 &  0  &  0 \\\\\n",
       "\t2069 & NA  & NA  & NA  & NA  &  0  & NA  &  0  &   0 &   0 &  0  &  0 \\\\\n",
       "\t2121 & NA  & NA  & NA  & NA  & NA  & NA  & NA  &  NA &  NA & NA  & NA \\\\\n",
       "\t2123 & NA  & NA  & NA  & NA  &  0  & NA  &  0  &   0 &   0 &  0  &  0 \\\\\n",
       "\t2189 & NA  & NA  & NA  & NA  &  0  & NA  &  0  &   0 &   0 & NA  & NA \\\\\n",
       "\t2190 & NA  & NA  & NA  & NA  &  0  & NA  &  0  &   0 &   0 &  0  &  0 \\\\\n",
       "\t2191 & NA  & NA  & NA  & NA  &  0  & NA  &  0  &   0 &   0 &  0  &  0 \\\\\n",
       "\t2194 & NA  & NA  & NA  & NA  &  0  & NA  &  0  &   0 &   0 &  0  &  0 \\\\\n",
       "\t2217 & NA  & NA  & NA  & NA  &  0  & NA  &  0  &   0 &   0 &  0  &  0 \\\\\n",
       "\t2225 & NA  & NA  & NA  & NA  &  0  & NA  &  0  &   0 &   0 &  0  &  0 \\\\\n",
       "\t2349 & Gd  & TA  & NA  & Unf &  0  & Unf &  0  & 725 & 725 &  0  &  0 \\\\\n",
       "\t2388 & NA  & NA  & NA  & NA  &  0  & NA  &  0  &   0 &   0 &  0  &  0 \\\\\n",
       "\t2436 & NA  & NA  & NA  & NA  &  0  & NA  &  0  &   0 &   0 &  0  &  0 \\\\\n",
       "\t2453 & NA  & NA  & NA  & NA  &  0  & NA  &  0  &   0 &   0 &  0  &  0 \\\\\n",
       "\t2454 & NA  & NA  & NA  & NA  &  0  & NA  &  0  &   0 &   0 &  0  &  0 \\\\\n",
       "\t2491 & NA  & NA  & NA  & NA  &  0  & NA  &  0  &   0 &   0 &  0  &  0 \\\\\n",
       "\t2499 & NA  & NA  & NA  & NA  &  0  & NA  &  0  &   0 &   0 &  0  &  0 \\\\\n",
       "\t2548 & NA  & NA  & NA  & NA  &  0  & NA  &  0  &   0 &   0 &  0  &  0 \\\\\n",
       "\t2553 & NA  & NA  & NA  & NA  &  0  & NA  &  0  &   0 &   0 &  0  &  0 \\\\\n",
       "\t2565 & NA  & NA  & NA  & NA  &  0  & NA  &  0  &   0 &   0 &  0  &  0 \\\\\n",
       "\t2579 & NA  & NA  & NA  & NA  &  0  & NA  &  0  &   0 &   0 &  0  &  0 \\\\\n",
       "\t2600 & NA  & NA  & NA  & NA  &  0  & NA  &  0  &   0 &   0 &  0  &  0 \\\\\n",
       "\t2703 & NA  & NA  & NA  & NA  &  0  & NA  &  0  &   0 &   0 &  0  &  0 \\\\\n",
       "\t2764 & NA  & NA  & NA  & NA  &  0  & NA  &  0  &   0 &   0 &  0  &  0 \\\\\n",
       "\t2767 & NA  & NA  & NA  & NA  &  0  & NA  &  0  &   0 &   0 &  0  &  0 \\\\\n",
       "\t2804 & NA  & NA  & NA  & NA  &  0  & NA  &  0  &   0 &   0 &  0  &  0 \\\\\n",
       "\t2805 & NA  & NA  & NA  & NA  &  0  & NA  &  0  &   0 &   0 &  0  &  0 \\\\\n",
       "\t2825 & NA  & NA  & NA  & NA  &  0  & NA  &  0  &   0 &   0 &  0  &  0 \\\\\n",
       "\t2892 & NA  & NA  & NA  & NA  &  0  & NA  &  0  &   0 &   0 &  0  &  0 \\\\\n",
       "\t2905 & NA  & NA  & NA  & NA  &  0  & NA  &  0  &   0 &   0 &  0  &  0 \\\\\n",
       "\\end{tabular}\n"
      ],
      "text/markdown": [
       "\n",
       "| <!--/--> | BsmtQual | BsmtCond | BsmtExposure | BsmtFinType1 | BsmtFinSF1 | BsmtFinType2 | BsmtFinSF2 | BsmtUnfSF | TotalBsmtSF | BsmtFullBath | BsmtHalfBath | \n",
       "|---|---|---|---|---|---|---|---|---|---|---|---|---|---|---|---|---|---|---|---|---|---|---|---|---|---|---|---|---|---|---|---|---|---|---|---|---|---|---|---|---|---|---|---|---|---|---|---|---|---|---|---|---|---|---|---|---|---|---|---|---|\n",
       "| 18 | NA  | NA  | NA  | NA  | 0   | NA  | 0   |   0 |   0 | 0   | 0   | \n",
       "| 40 | NA  | NA  | NA  | NA  | 0   | NA  | 0   |   0 |   0 | 0   | 0   | \n",
       "| 91 | NA  | NA  | NA  | NA  | 0   | NA  | 0   |   0 |   0 | 0   | 0   | \n",
       "| 103 | NA  | NA  | NA  | NA  | 0   | NA  | 0   |   0 |   0 | 0   | 0   | \n",
       "| 157 | NA  | NA  | NA  | NA  | 0   | NA  | 0   |   0 |   0 | 0   | 0   | \n",
       "| 183 | NA  | NA  | NA  | NA  | 0   | NA  | 0   |   0 |   0 | 0   | 0   | \n",
       "| 260 | NA  | NA  | NA  | NA  | 0   | NA  | 0   |   0 |   0 | 0   | 0   | \n",
       "| 343 | NA  | NA  | NA  | NA  | 0   | NA  | 0   |   0 |   0 | 0   | 0   | \n",
       "| 363 | NA  | NA  | NA  | NA  | 0   | NA  | 0   |   0 |   0 | 0   | 0   | \n",
       "| 372 | NA  | NA  | NA  | NA  | 0   | NA  | 0   |   0 |   0 | 0   | 0   | \n",
       "| 393 | NA  | NA  | NA  | NA  | 0   | NA  | 0   |   0 |   0 | 0   | 0   | \n",
       "| 521 | NA  | NA  | NA  | NA  | 0   | NA  | 0   |   0 |   0 | 0   | 0   | \n",
       "| 533 | NA  | NA  | NA  | NA  | 0   | NA  | 0   |   0 |   0 | 0   | 0   | \n",
       "| 534 | NA  | NA  | NA  | NA  | 0   | NA  | 0   |   0 |   0 | 0   | 0   | \n",
       "| 554 | NA  | NA  | NA  | NA  | 0   | NA  | 0   |   0 |   0 | 0   | 0   | \n",
       "| 647 | NA  | NA  | NA  | NA  | 0   | NA  | 0   |   0 |   0 | 0   | 0   | \n",
       "| 706 | NA  | NA  | NA  | NA  | 0   | NA  | 0   |   0 |   0 | 0   | 0   | \n",
       "| 737 | NA  | NA  | NA  | NA  | 0   | NA  | 0   |   0 |   0 | 0   | 0   | \n",
       "| 750 | NA  | NA  | NA  | NA  | 0   | NA  | 0   |   0 |   0 | 0   | 0   | \n",
       "| 779 | NA  | NA  | NA  | NA  | 0   | NA  | 0   |   0 |   0 | 0   | 0   | \n",
       "| 869 | NA  | NA  | NA  | NA  | 0   | NA  | 0   |   0 |   0 | 0   | 0   | \n",
       "| 895 | NA  | NA  | NA  | NA  | 0   | NA  | 0   |   0 |   0 | 0   | 0   | \n",
       "| 898 | NA  | NA  | NA  | NA  | 0   | NA  | 0   |   0 |   0 | 0   | 0   | \n",
       "| 949 | Gd  | TA  | NA  | Unf | 0   | Unf | 0   | 936 | 936 | 0   | 0   | \n",
       "| 985 | NA  | NA  | NA  | NA  | 0   | NA  | 0   |   0 |   0 | 0   | 0   | \n",
       "| 1001 | NA  | NA  | NA  | NA  | 0   | NA  | 0   |   0 |   0 | 0   | 0   | \n",
       "| 1012 | NA  | NA  | NA  | NA  | 0   | NA  | 0   |   0 |   0 | 0   | 0   | \n",
       "| 1036 | NA  | NA  | NA  | NA  | 0   | NA  | 0   |   0 |   0 | 0   | 0   | \n",
       "| 1046 | NA  | NA  | NA  | NA  | 0   | NA  | 0   |   0 |   0 | 0   | 0   | \n",
       "| 1049 | NA  | NA  | NA  | NA  | 0   | NA  | 0   |   0 |   0 | 0   | 0   | \n",
       "| ... | ... | ... | ... | ... | ... | ... | ... | ... | ... | ... | ... | \n",
       "| 2067 | NA  | NA  | NA  | NA  |  0  | NA  |  0  |   0 |   0 |  0  |  0  | \n",
       "| 2069 | NA  | NA  | NA  | NA  |  0  | NA  |  0  |   0 |   0 |  0  |  0  | \n",
       "| 2121 | NA  | NA  | NA  | NA  | NA  | NA  | NA  |  NA |  NA | NA  | NA  | \n",
       "| 2123 | NA  | NA  | NA  | NA  |  0  | NA  |  0  |   0 |   0 |  0  |  0  | \n",
       "| 2189 | NA  | NA  | NA  | NA  |  0  | NA  |  0  |   0 |   0 | NA  | NA  | \n",
       "| 2190 | NA  | NA  | NA  | NA  |  0  | NA  |  0  |   0 |   0 |  0  |  0  | \n",
       "| 2191 | NA  | NA  | NA  | NA  |  0  | NA  |  0  |   0 |   0 |  0  |  0  | \n",
       "| 2194 | NA  | NA  | NA  | NA  |  0  | NA  |  0  |   0 |   0 |  0  |  0  | \n",
       "| 2217 | NA  | NA  | NA  | NA  |  0  | NA  |  0  |   0 |   0 |  0  |  0  | \n",
       "| 2225 | NA  | NA  | NA  | NA  |  0  | NA  |  0  |   0 |   0 |  0  |  0  | \n",
       "| 2349 | Gd  | TA  | NA  | Unf |  0  | Unf |  0  | 725 | 725 |  0  |  0  | \n",
       "| 2388 | NA  | NA  | NA  | NA  |  0  | NA  |  0  |   0 |   0 |  0  |  0  | \n",
       "| 2436 | NA  | NA  | NA  | NA  |  0  | NA  |  0  |   0 |   0 |  0  |  0  | \n",
       "| 2453 | NA  | NA  | NA  | NA  |  0  | NA  |  0  |   0 |   0 |  0  |  0  | \n",
       "| 2454 | NA  | NA  | NA  | NA  |  0  | NA  |  0  |   0 |   0 |  0  |  0  | \n",
       "| 2491 | NA  | NA  | NA  | NA  |  0  | NA  |  0  |   0 |   0 |  0  |  0  | \n",
       "| 2499 | NA  | NA  | NA  | NA  |  0  | NA  |  0  |   0 |   0 |  0  |  0  | \n",
       "| 2548 | NA  | NA  | NA  | NA  |  0  | NA  |  0  |   0 |   0 |  0  |  0  | \n",
       "| 2553 | NA  | NA  | NA  | NA  |  0  | NA  |  0  |   0 |   0 |  0  |  0  | \n",
       "| 2565 | NA  | NA  | NA  | NA  |  0  | NA  |  0  |   0 |   0 |  0  |  0  | \n",
       "| 2579 | NA  | NA  | NA  | NA  |  0  | NA  |  0  |   0 |   0 |  0  |  0  | \n",
       "| 2600 | NA  | NA  | NA  | NA  |  0  | NA  |  0  |   0 |   0 |  0  |  0  | \n",
       "| 2703 | NA  | NA  | NA  | NA  |  0  | NA  |  0  |   0 |   0 |  0  |  0  | \n",
       "| 2764 | NA  | NA  | NA  | NA  |  0  | NA  |  0  |   0 |   0 |  0  |  0  | \n",
       "| 2767 | NA  | NA  | NA  | NA  |  0  | NA  |  0  |   0 |   0 |  0  |  0  | \n",
       "| 2804 | NA  | NA  | NA  | NA  |  0  | NA  |  0  |   0 |   0 |  0  |  0  | \n",
       "| 2805 | NA  | NA  | NA  | NA  |  0  | NA  |  0  |   0 |   0 |  0  |  0  | \n",
       "| 2825 | NA  | NA  | NA  | NA  |  0  | NA  |  0  |   0 |   0 |  0  |  0  | \n",
       "| 2892 | NA  | NA  | NA  | NA  |  0  | NA  |  0  |   0 |   0 |  0  |  0  | \n",
       "| 2905 | NA  | NA  | NA  | NA  |  0  | NA  |  0  |   0 |   0 |  0  |  0  | \n",
       "\n",
       "\n"
      ],
      "text/plain": [
       "     BsmtQual BsmtCond BsmtExposure BsmtFinType1 BsmtFinSF1 BsmtFinType2\n",
       "18   NA       NA       NA           NA           0          NA          \n",
       "40   NA       NA       NA           NA           0          NA          \n",
       "91   NA       NA       NA           NA           0          NA          \n",
       "103  NA       NA       NA           NA           0          NA          \n",
       "157  NA       NA       NA           NA           0          NA          \n",
       "183  NA       NA       NA           NA           0          NA          \n",
       "260  NA       NA       NA           NA           0          NA          \n",
       "343  NA       NA       NA           NA           0          NA          \n",
       "363  NA       NA       NA           NA           0          NA          \n",
       "372  NA       NA       NA           NA           0          NA          \n",
       "393  NA       NA       NA           NA           0          NA          \n",
       "521  NA       NA       NA           NA           0          NA          \n",
       "533  NA       NA       NA           NA           0          NA          \n",
       "534  NA       NA       NA           NA           0          NA          \n",
       "554  NA       NA       NA           NA           0          NA          \n",
       "647  NA       NA       NA           NA           0          NA          \n",
       "706  NA       NA       NA           NA           0          NA          \n",
       "737  NA       NA       NA           NA           0          NA          \n",
       "750  NA       NA       NA           NA           0          NA          \n",
       "779  NA       NA       NA           NA           0          NA          \n",
       "869  NA       NA       NA           NA           0          NA          \n",
       "895  NA       NA       NA           NA           0          NA          \n",
       "898  NA       NA       NA           NA           0          NA          \n",
       "949  Gd       TA       NA           Unf          0          Unf         \n",
       "985  NA       NA       NA           NA           0          NA          \n",
       "1001 NA       NA       NA           NA           0          NA          \n",
       "1012 NA       NA       NA           NA           0          NA          \n",
       "1036 NA       NA       NA           NA           0          NA          \n",
       "1046 NA       NA       NA           NA           0          NA          \n",
       "1049 NA       NA       NA           NA           0          NA          \n",
       "...  ...      ...      ...          ...          ...        ...         \n",
       "2067 NA       NA       NA           NA            0         NA          \n",
       "2069 NA       NA       NA           NA            0         NA          \n",
       "2121 NA       NA       NA           NA           NA         NA          \n",
       "2123 NA       NA       NA           NA            0         NA          \n",
       "2189 NA       NA       NA           NA            0         NA          \n",
       "2190 NA       NA       NA           NA            0         NA          \n",
       "2191 NA       NA       NA           NA            0         NA          \n",
       "2194 NA       NA       NA           NA            0         NA          \n",
       "2217 NA       NA       NA           NA            0         NA          \n",
       "2225 NA       NA       NA           NA            0         NA          \n",
       "2349 Gd       TA       NA           Unf           0         Unf         \n",
       "2388 NA       NA       NA           NA            0         NA          \n",
       "2436 NA       NA       NA           NA            0         NA          \n",
       "2453 NA       NA       NA           NA            0         NA          \n",
       "2454 NA       NA       NA           NA            0         NA          \n",
       "2491 NA       NA       NA           NA            0         NA          \n",
       "2499 NA       NA       NA           NA            0         NA          \n",
       "2548 NA       NA       NA           NA            0         NA          \n",
       "2553 NA       NA       NA           NA            0         NA          \n",
       "2565 NA       NA       NA           NA            0         NA          \n",
       "2579 NA       NA       NA           NA            0         NA          \n",
       "2600 NA       NA       NA           NA            0         NA          \n",
       "2703 NA       NA       NA           NA            0         NA          \n",
       "2764 NA       NA       NA           NA            0         NA          \n",
       "2767 NA       NA       NA           NA            0         NA          \n",
       "2804 NA       NA       NA           NA            0         NA          \n",
       "2805 NA       NA       NA           NA            0         NA          \n",
       "2825 NA       NA       NA           NA            0         NA          \n",
       "2892 NA       NA       NA           NA            0         NA          \n",
       "2905 NA       NA       NA           NA            0         NA          \n",
       "     BsmtFinSF2 BsmtUnfSF TotalBsmtSF BsmtFullBath BsmtHalfBath\n",
       "18   0            0         0         0            0           \n",
       "40   0            0         0         0            0           \n",
       "91   0            0         0         0            0           \n",
       "103  0            0         0         0            0           \n",
       "157  0            0         0         0            0           \n",
       "183  0            0         0         0            0           \n",
       "260  0            0         0         0            0           \n",
       "343  0            0         0         0            0           \n",
       "363  0            0         0         0            0           \n",
       "372  0            0         0         0            0           \n",
       "393  0            0         0         0            0           \n",
       "521  0            0         0         0            0           \n",
       "533  0            0         0         0            0           \n",
       "534  0            0         0         0            0           \n",
       "554  0            0         0         0            0           \n",
       "647  0            0         0         0            0           \n",
       "706  0            0         0         0            0           \n",
       "737  0            0         0         0            0           \n",
       "750  0            0         0         0            0           \n",
       "779  0            0         0         0            0           \n",
       "869  0            0         0         0            0           \n",
       "895  0            0         0         0            0           \n",
       "898  0            0         0         0            0           \n",
       "949  0          936       936         0            0           \n",
       "985  0            0         0         0            0           \n",
       "1001 0            0         0         0            0           \n",
       "1012 0            0         0         0            0           \n",
       "1036 0            0         0         0            0           \n",
       "1046 0            0         0         0            0           \n",
       "1049 0            0         0         0            0           \n",
       "...  ...        ...       ...         ...          ...         \n",
       "2067  0           0         0          0            0          \n",
       "2069  0           0         0          0            0          \n",
       "2121 NA          NA        NA         NA           NA          \n",
       "2123  0           0         0          0            0          \n",
       "2189  0           0         0         NA           NA          \n",
       "2190  0           0         0          0            0          \n",
       "2191  0           0         0          0            0          \n",
       "2194  0           0         0          0            0          \n",
       "2217  0           0         0          0            0          \n",
       "2225  0           0         0          0            0          \n",
       "2349  0         725       725          0            0          \n",
       "2388  0           0         0          0            0          \n",
       "2436  0           0         0          0            0          \n",
       "2453  0           0         0          0            0          \n",
       "2454  0           0         0          0            0          \n",
       "2491  0           0         0          0            0          \n",
       "2499  0           0         0          0            0          \n",
       "2548  0           0         0          0            0          \n",
       "2553  0           0         0          0            0          \n",
       "2565  0           0         0          0            0          \n",
       "2579  0           0         0          0            0          \n",
       "2600  0           0         0          0            0          \n",
       "2703  0           0         0          0            0          \n",
       "2764  0           0         0          0            0          \n",
       "2767  0           0         0          0            0          \n",
       "2804  0           0         0          0            0          \n",
       "2805  0           0         0          0            0          \n",
       "2825  0           0         0          0            0          \n",
       "2892  0           0         0          0            0          \n",
       "2905  0           0         0          0            0          "
      ]
     },
     "metadata": {},
     "output_type": "display_data"
    }
   ],
   "source": [
    "bsmt.cols <- names(df.combined)[sapply(names(df.combined), function(x) str_detect(x, 'Bsmt'))]\n",
    "\n",
    "df.combined[is.na(df.combined$BsmtExposure),bsmt.cols]"
   ]
  },
  {
   "cell_type": "code",
   "execution_count": 66,
   "metadata": {
    "scrolled": true
   },
   "outputs": [
    {
     "name": "stderr",
     "output_type": "stream",
     "text": [
      "Warning message:\n",
      "\"Removed 82 rows containing non-finite values (stat_count).\"Warning message:\n",
      "\"Removed 82 rows containing non-finite values (stat_count).\"Warning message:\n",
      "\"Removed 82 rows containing non-finite values (stat_count).\""
     ]
    },
    {
     "data": {
      "image/png": "[encoded data removed]",
      "text/plain": [
       "plot without title"
      ]
     },
     "metadata": {},
     "output_type": "display_data"
    }
   ],
   "source": [
    "plot.categoric('BsmtExposure', df.combined)"
   ]
  },
  {
   "cell_type": "code",
   "execution_count": 67,
   "metadata": {},
   "outputs": [
    {
     "data": {
      "text/html": [
       "'Almost all of the missing values for each categoric basement feature comes from houses with 0 on each features corresponding to area. We can fill in these values with ‘None’ since these houses certainly don’t have basements. Rows 949, 1488 and 2349 are the only missing values from BsmtExposure, we can fill this with No as that is the most frequent value and these houses most likely don’t have any exposure for their basements. The rest of the basement columns corresponding to area will be filled with 0 since they likely don’t have a basement and the categoric missing values will be filled with NoBsmt.'"
      ],
      "text/latex": [
       "'Almost all of the missing values for each categoric basement feature comes from houses with 0 on each features corresponding to area. We can fill in these values with ‘None’ since these houses certainly don’t have basements. Rows 949, 1488 and 2349 are the only missing values from BsmtExposure, we can fill this with No as that is the most frequent value and these houses most likely don’t have any exposure for their basements. The rest of the basement columns corresponding to area will be filled with 0 since they likely don’t have a basement and the categoric missing values will be filled with NoBsmt.'"
      ],
      "text/markdown": [
       "'Almost all of the missing values for each categoric basement feature comes from houses with 0 on each features corresponding to area. We can fill in these values with ‘None’ since these houses certainly don’t have basements. Rows 949, 1488 and 2349 are the only missing values from BsmtExposure, we can fill this with No as that is the most frequent value and these houses most likely don’t have any exposure for their basements. The rest of the basement columns corresponding to area will be filled with 0 since they likely don’t have a basement and the categoric missing values will be filled with NoBsmt.'"
      ],
      "text/plain": [
       "[1] \"Almost all of the missing values for each categoric basement feature comes from houses with 0 on each features corresponding to area. We can fill in these values with None since these houses certainly dont have basements. Rows 949, 1488 and 2349 are the only missing values from BsmtExposure, we can fill this with No as that is the most frequent value and these houses most likely dont have any exposure for their basements. The rest of the basement columns corresponding to area will be filled with 0 since they likely dont have a basement and the categoric missing values will be filled with NoBsmt.\""
      ]
     },
     "metadata": {},
     "output_type": "display_data"
    }
   ],
   "source": [
    "\"Almost all of the missing values for each categoric basement feature comes from houses with 0 on each features corresponding to area. We can fill in these values with ‘None’ since these houses certainly don’t have basements. Rows 949, 1488 and 2349 are the only missing values from BsmtExposure, we can fill this with No as that is the most frequent value and these houses most likely don’t have any exposure for their basements. The rest of the basement columns corresponding to area will be filled with 0 since they likely don’t have a basement and the categoric missing values will be filled with NoBsmt.\""
   ]
  },
  {
   "cell_type": "code",
   "execution_count": 68,
   "metadata": {},
   "outputs": [],
   "source": [
    "df.combined[c(949, 1488, 2349), 'BsmtExposure'] = 'No'\n",
    "\n",
    "for (col in bsmt.cols){\n",
    "  if (sapply(df.combined[col], is.numeric) == TRUE){\n",
    "    df.combined[sapply(df.combined[col], is.na),col] = 0\n",
    "  }\n",
    "  else{\n",
    "    df.combined[sapply(df.combined[col],is.na),col] = 'None'\n",
    "  }\n",
    "}"
   ]
  },
  {
   "cell_type": "code",
   "execution_count": 69,
   "metadata": {},
   "outputs": [],
   "source": [
    "#Exterior1st: Exterior covering on house\n",
    "#Exterior2nd: Exterior covering on house (if more than one material)"
   ]
  },
  {
   "cell_type": "code",
   "execution_count": 70,
   "metadata": {},
   "outputs": [
    {
     "data": {
      "text/html": [
       "<table>\n",
       "<thead><tr><th></th><th scope=col>Exterior1st</th><th scope=col>Exterior2nd</th></tr></thead>\n",
       "<tbody>\n",
       "\t<tr><th scope=row>2152</th><td>NA</td><td>NA</td></tr>\n",
       "</tbody>\n",
       "</table>\n"
      ],
      "text/latex": [
       "\\begin{tabular}{r|ll}\n",
       "  & Exterior1st & Exterior2nd\\\\\n",
       "\\hline\n",
       "\t2152 & NA & NA\\\\\n",
       "\\end{tabular}\n"
      ],
      "text/markdown": [
       "\n",
       "| <!--/--> | Exterior1st | Exterior2nd | \n",
       "|---|\n",
       "| 2152 | NA | NA | \n",
       "\n",
       "\n"
      ],
      "text/plain": [
       "     Exterior1st Exterior2nd\n",
       "2152 NA          NA         "
      ]
     },
     "metadata": {},
     "output_type": "display_data"
    }
   ],
   "source": [
    "#plot.categoric(c('Exterior1st', 'Exterior2nd'), df.combined)\n",
    "idx <- which(is.na(df.combined$Exterior1st) | is.na(df.combined$Exterior2nd))\n",
    "df.combined[idx,c('Exterior1st', 'Exterior2nd')]"
   ]
  },
  {
   "cell_type": "code",
   "execution_count": 71,
   "metadata": {},
   "outputs": [
    {
     "data": {
      "text/html": [
       "'There is only 1 missing value for Exterior1st and Exterior2nd coming from the same hosue and there aren’t any other features that can help us predict what variable should be filled so we can fill this with ‘Other’ since the NA is likely due to having an exterior cover that is not listed.'"
      ],
      "text/latex": [
       "'There is only 1 missing value for Exterior1st and Exterior2nd coming from the same hosue and there aren’t any other features that can help us predict what variable should be filled so we can fill this with ‘Other’ since the NA is likely due to having an exterior cover that is not listed.'"
      ],
      "text/markdown": [
       "'There is only 1 missing value for Exterior1st and Exterior2nd coming from the same hosue and there aren’t any other features that can help us predict what variable should be filled so we can fill this with ‘Other’ since the NA is likely due to having an exterior cover that is not listed.'"
      ],
      "text/plain": [
       "[1] \"There is only 1 missing value for Exterior1st and Exterior2nd coming from the same hosue and there arent any other features that can help us predict what variable should be filled so we can fill this with Other since the NA is likely due to having an exterior cover that is not listed.\""
      ]
     },
     "metadata": {},
     "output_type": "display_data"
    }
   ],
   "source": [
    "\"There is only 1 missing value for Exterior1st and Exterior2nd coming from the same hosue and there aren’t any other features that can help us predict what variable should be filled so we can fill this with ‘Other’ since the NA is likely due to having an exterior cover that is not listed.\""
   ]
  },
  {
   "cell_type": "code",
   "execution_count": 72,
   "metadata": {},
   "outputs": [],
   "source": [
    "df.combined$Exterior1st[is.na(df.combined$Exterior1st)] = 'Other'\n",
    "df.combined$Exterior2nd[is.na(df.combined$Exterior2nd)] = 'Other'"
   ]
  },
  {
   "cell_type": "code",
   "execution_count": 74,
   "metadata": {},
   "outputs": [
    {
     "data": {
      "text/html": [
       "'SaleType, Functional and Utilities have less than 3 missing values. For SaleType we can see what the SaleCondition of the house was and use a contingency table to see which SaleType and SaleCondition overlap together the most.'"
      ],
      "text/latex": [
       "'SaleType, Functional and Utilities have less than 3 missing values. For SaleType we can see what the SaleCondition of the house was and use a contingency table to see which SaleType and SaleCondition overlap together the most.'"
      ],
      "text/markdown": [
       "'SaleType, Functional and Utilities have less than 3 missing values. For SaleType we can see what the SaleCondition of the house was and use a contingency table to see which SaleType and SaleCondition overlap together the most.'"
      ],
      "text/plain": [
       "[1] \"SaleType, Functional and Utilities have less than 3 missing values. For SaleType we can see what the SaleCondition of the house was and use a contingency table to see which SaleType and SaleCondition overlap together the most.\""
      ]
     },
     "metadata": {},
     "output_type": "display_data"
    }
   ],
   "source": [
    "#SaleType: Type of sale\n",
    "#Functional: Home functionality rating\n",
    "#Utilities: Type of utilities available\n",
    "\"SaleType, Functional and Utilities have less than 3 missing values. For SaleType we can see what the SaleCondition of the house was and use a contingency table to see which SaleType and SaleCondition overlap together the most.\""
   ]
  },
  {
   "cell_type": "code",
   "execution_count": 75,
   "metadata": {
    "scrolled": true
   },
   "outputs": [
    {
     "name": "stderr",
     "output_type": "stream",
     "text": [
      "Warning message:\n",
      "\"Removed 1 rows containing non-finite values (stat_count).\"Warning message:\n",
      "\"Removed 1 rows containing non-finite values (stat_count).\"Warning message:\n",
      "\"Removed 1 rows containing non-finite values (stat_count).\""
     ]
    },
    {
     "data": {
      "image/png": "[encoded data removed]",
      "text/plain": [
       "plot without title"
      ]
     },
     "metadata": {},
     "output_type": "display_data"
    }
   ],
   "source": [
    "plot.categoric('SaleType', df.combined)"
   ]
  },
  {
   "cell_type": "code",
   "execution_count": 76,
   "metadata": {},
   "outputs": [
    {
     "data": {
      "text/html": [
       "'Normal'"
      ],
      "text/latex": [
       "'Normal'"
      ],
      "text/markdown": [
       "'Normal'"
      ],
      "text/plain": [
       "[1] \"Normal\""
      ]
     },
     "metadata": {},
     "output_type": "display_data"
    }
   ],
   "source": [
    "df.combined[is.na(df.combined$SaleType),c('SaleCondition')]"
   ]
  },
  {
   "cell_type": "code",
   "execution_count": 77,
   "metadata": {},
   "outputs": [
    {
     "data": {
      "text/plain": [
       "         \n",
       "           COD  Con ConLD ConLI ConLw  CWD  New  Oth   WD\n",
       "  Abnorml   46    0     3     2     0    1    0    5  133\n",
       "  AdjLand    0    0     0     0     0    0    0    0   12\n",
       "  Alloca     0    0     0     0     0    0    0    0   24\n",
       "  Family     2    0     1     2     1    1    0    1   38\n",
       "  Normal    39    4    21     5     7   10    0    1 2314\n",
       "  Partial    0    1     1     0     0    0  239    0    4"
      ]
     },
     "metadata": {},
     "output_type": "display_data"
    }
   ],
   "source": [
    "table(df.combined$SaleCondition, df.combined$SaleType)"
   ]
  },
  {
   "cell_type": "code",
   "execution_count": 78,
   "metadata": {},
   "outputs": [
    {
     "data": {
      "text/html": [
       "'Most houses with a SaleCondition of ‘Normal’ almost all have a SaleType of ‘WD’. We’ll replace the missing value accordingly.'"
      ],
      "text/latex": [
       "'Most houses with a SaleCondition of ‘Normal’ almost all have a SaleType of ‘WD’. We’ll replace the missing value accordingly.'"
      ],
      "text/markdown": [
       "'Most houses with a SaleCondition of ‘Normal’ almost all have a SaleType of ‘WD’. We’ll replace the missing value accordingly.'"
      ],
      "text/plain": [
       "[1] \"Most houses with a SaleCondition of Normal almost all have a SaleType of WD. Well replace the missing value accordingly.\""
      ]
     },
     "metadata": {},
     "output_type": "display_data"
    }
   ],
   "source": [
    "\"Most houses with a SaleCondition of ‘Normal’ almost all have a SaleType of ‘WD’. We’ll replace the missing value accordingly.\""
   ]
  },
  {
   "cell_type": "code",
   "execution_count": 79,
   "metadata": {
    "scrolled": true
   },
   "outputs": [
    {
     "name": "stderr",
     "output_type": "stream",
     "text": [
      "Warning message:\n",
      "\"Removed 2 rows containing non-finite values (stat_count).\"Warning message:\n",
      "\"Removed 2 rows containing non-finite values (stat_count).\"Warning message:\n",
      "\"Removed 2 rows containing non-finite values (stat_count).\""
     ]
    },
    {
     "data": {
      "image/png": "[encoded data removed]",
      "text/plain": [
       "plot without title"
      ]
     },
     "metadata": {},
     "output_type": "display_data"
    }
   ],
   "source": [
    "df.combined$SaleType[is.na(df.combined$SaleType)] = 'WD'\n",
    "\n",
    "plot.categoric('Functional', df.combined)"
   ]
  },
  {
   "cell_type": "code",
   "execution_count": 80,
   "metadata": {},
   "outputs": [],
   "source": [
    "df.combined$Functional[is.na(df.combined$Functional)] = 'Typ'"
   ]
  },
  {
   "cell_type": "code",
   "execution_count": 81,
   "metadata": {},
   "outputs": [
    {
     "data": {
      "text/html": [
       "'Utilities only has 1 value for NoSeWa and the rest AllPub. We can drop this feature from our dataset as the house with ‘NoSeWa’ is from our training set and will have won’t help with any predictive modelling'"
      ],
      "text/latex": [
       "'Utilities only has 1 value for NoSeWa and the rest AllPub. We can drop this feature from our dataset as the house with ‘NoSeWa’ is from our training set and will have won’t help with any predictive modelling'"
      ],
      "text/markdown": [
       "'Utilities only has 1 value for NoSeWa and the rest AllPub. We can drop this feature from our dataset as the house with ‘NoSeWa’ is from our training set and will have won’t help with any predictive modelling'"
      ],
      "text/plain": [
       "[1] \"Utilities only has 1 value for NoSeWa and the rest AllPub. We can drop this feature from our dataset as the house with NoSeWa is from our training set and will have wont help with any predictive modelling\""
      ]
     },
     "metadata": {},
     "output_type": "display_data"
    }
   ],
   "source": [
    "\"Utilities only has 1 value for NoSeWa and the rest AllPub. We can drop this feature from our dataset as the house with ‘NoSeWa’ is from our training set and will have won’t help with any predictive modelling\""
   ]
  },
  {
   "cell_type": "code",
   "execution_count": 82,
   "metadata": {
    "scrolled": true
   },
   "outputs": [
    {
     "name": "stderr",
     "output_type": "stream",
     "text": [
      "Warning message:\n",
      "\"Removed 2 rows containing non-finite values (stat_count).\"Warning message:\n",
      "\"Removed 2 rows containing non-finite values (stat_count).\"Warning message:\n",
      "\"Removed 2 rows containing non-finite values (stat_count).\""
     ]
    },
    {
     "data": {
      "image/png": "[encoded data removed]",
      "text/plain": [
       "plot without title"
      ]
     },
     "metadata": {},
     "output_type": "display_data"
    }
   ],
   "source": [
    "plot.categoric('Utilities', df.combined)"
   ]
  },
  {
   "cell_type": "code",
   "execution_count": 83,
   "metadata": {},
   "outputs": [
    {
     "data": {
      "text/html": [
       "945"
      ],
      "text/latex": [
       "945"
      ],
      "text/markdown": [
       "945"
      ],
      "text/plain": [
       "[1] 945"
      ]
     },
     "metadata": {},
     "output_type": "display_data"
    }
   ],
   "source": [
    "which(df.combined$Utilities == 'NoSeWa') # in the training data set"
   ]
  },
  {
   "cell_type": "code",
   "execution_count": 84,
   "metadata": {},
   "outputs": [],
   "source": [
    "col.drops <- c('Utilities')\n",
    "df.combined <- df.combined[,!names(df.combined) %in% c('Utilities')]"
   ]
  },
  {
   "cell_type": "code",
   "execution_count": 85,
   "metadata": {},
   "outputs": [
    {
     "data": {
      "text/html": [
       "'There are only 4 missing values for MSZoning. We can see what the subclass is for the houses with missing values for Zoning.'"
      ],
      "text/latex": [
       "'There are only 4 missing values for MSZoning. We can see what the subclass is for the houses with missing values for Zoning.'"
      ],
      "text/markdown": [
       "'There are only 4 missing values for MSZoning. We can see what the subclass is for the houses with missing values for Zoning.'"
      ],
      "text/plain": [
       "[1] \"There are only 4 missing values for MSZoning. We can see what the subclass is for the houses with missing values for Zoning.\""
      ]
     },
     "metadata": {},
     "output_type": "display_data"
    }
   ],
   "source": [
    "#MSZoning: The general zoning classification\n",
    "#MSSubClass: The building class\n",
    "\"There are only 4 missing values for MSZoning. We can see what the subclass is for the houses with missing values for Zoning.\""
   ]
  },
  {
   "cell_type": "code",
   "execution_count": 86,
   "metadata": {},
   "outputs": [
    {
     "data": {
      "text/html": [
       "<table>\n",
       "<thead><tr><th></th><th scope=col>MSZoning</th><th scope=col>MSSubClass</th></tr></thead>\n",
       "<tbody>\n",
       "\t<tr><th scope=row>1916</th><td>NA</td><td>30</td></tr>\n",
       "\t<tr><th scope=row>2217</th><td>NA</td><td>20</td></tr>\n",
       "\t<tr><th scope=row>2251</th><td>NA</td><td>70</td></tr>\n",
       "\t<tr><th scope=row>2905</th><td>NA</td><td>20</td></tr>\n",
       "</tbody>\n",
       "</table>\n"
      ],
      "text/latex": [
       "\\begin{tabular}{r|ll}\n",
       "  & MSZoning & MSSubClass\\\\\n",
       "\\hline\n",
       "\t1916 & NA & 30\\\\\n",
       "\t2217 & NA & 20\\\\\n",
       "\t2251 & NA & 70\\\\\n",
       "\t2905 & NA & 20\\\\\n",
       "\\end{tabular}\n"
      ],
      "text/markdown": [
       "\n",
       "| <!--/--> | MSZoning | MSSubClass | \n",
       "|---|---|---|---|\n",
       "| 1916 | NA | 30 | \n",
       "| 2217 | NA | 20 | \n",
       "| 2251 | NA | 70 | \n",
       "| 2905 | NA | 20 | \n",
       "\n",
       "\n"
      ],
      "text/plain": [
       "     MSZoning MSSubClass\n",
       "1916 NA       30        \n",
       "2217 NA       20        \n",
       "2251 NA       70        \n",
       "2905 NA       20        "
      ]
     },
     "metadata": {},
     "output_type": "display_data"
    }
   ],
   "source": [
    "df.combined[is.na(df.combined$MSZoning),c('MSZoning','MSSubClass')]"
   ]
  },
  {
   "cell_type": "code",
   "execution_count": 87,
   "metadata": {
    "scrolled": true
   },
   "outputs": [
    {
     "name": "stderr",
     "output_type": "stream",
     "text": [
      "Warning message:\n",
      "\"Removed 4 rows containing non-finite values (stat_count).\"Warning message:\n",
      "\"Removed 4 rows containing non-finite values (stat_count).\"Warning message:\n",
      "\"Removed 4 rows containing non-finite values (stat_count).\""
     ]
    },
    {
     "data": {
      "image/png": "[encoded data removed]",
      "text/plain": [
       "plot without title"
      ]
     },
     "metadata": {},
     "output_type": "display_data"
    }
   ],
   "source": [
    "plot.categoric('MSZoning', df.combined)"
   ]
  },
  {
   "cell_type": "code",
   "execution_count": 88,
   "metadata": {},
   "outputs": [
    {
     "data": {
      "text/plain": [
       "         \n",
       "            20   30   40   45   50   60   70   75   80   85   90  120  150  160\n",
       "  C (all)    3    8    0    0    7    0    4    0    0    0    0    0    0    0\n",
       "  FV        34    0    0    0    0   43    0    0    0    0    0   19    0   43\n",
       "  RH         4    2    0    1    2    0    3    0    0    0    4    6    0    0\n",
       "  RL      1016   61    4    6  159  529   57    9  115   47   92  117    1   21\n",
       "  RM        20   67    2   11  119    3   63   14    3    1   13   40    0   64\n",
       "         \n",
       "           180  190\n",
       "  C (all)    0    3\n",
       "  FV         0    0\n",
       "  RH         0    4\n",
       "  RL         0   31\n",
       "  RM        17   23"
      ]
     },
     "metadata": {},
     "output_type": "display_data"
    }
   ],
   "source": [
    "table(df.combined$MSZoning, df.combined$MSSubClass)"
   ]
  },
  {
   "cell_type": "code",
   "execution_count": 89,
   "metadata": {},
   "outputs": [
    {
     "data": {
      "text/html": [
       "'For Subclasses with 20 ‘RL’ has the largest frequency, however, for Subclasses with 30 and 70 ‘RM’ has the most frequency. We will fill the missing values accordingly.'"
      ],
      "text/latex": [
       "'For Subclasses with 20 ‘RL’ has the largest frequency, however, for Subclasses with 30 and 70 ‘RM’ has the most frequency. We will fill the missing values accordingly.'"
      ],
      "text/markdown": [
       "'For Subclasses with 20 ‘RL’ has the largest frequency, however, for Subclasses with 30 and 70 ‘RM’ has the most frequency. We will fill the missing values accordingly.'"
      ],
      "text/plain": [
       "[1] \"For Subclasses with 20 RL has the largest frequency, however, for Subclasses with 30 and 70 RM has the most frequency. We will fill the missing values accordingly.\""
      ]
     },
     "metadata": {},
     "output_type": "display_data"
    }
   ],
   "source": [
    "\"For Subclasses with 20 ‘RL’ has the largest frequency, however, for Subclasses with 30 and 70 ‘RM’ has the most frequency. We will fill the missing values accordingly.\""
   ]
  },
  {
   "cell_type": "code",
   "execution_count": 90,
   "metadata": {},
   "outputs": [],
   "source": [
    "df.combined$MSZoning[c(2217, 2905)] = 'RL'\n",
    "df.combined$MSZoning[c(1916, 2251)] = 'RM'"
   ]
  },
  {
   "cell_type": "code",
   "execution_count": 92,
   "metadata": {},
   "outputs": [
    {
     "data": {
      "text/html": [
       "'There are 23 missing values for MasVnrArea and 24 for MasVnrType. We can see if both missing values come from the same houses'"
      ],
      "text/latex": [
       "'There are 23 missing values for MasVnrArea and 24 for MasVnrType. We can see if both missing values come from the same houses'"
      ],
      "text/markdown": [
       "'There are 23 missing values for MasVnrArea and 24 for MasVnrType. We can see if both missing values come from the same houses'"
      ],
      "text/plain": [
       "[1] \"There are 23 missing values for MasVnrArea and 24 for MasVnrType. We can see if both missing values come from the same houses\""
      ]
     },
     "metadata": {},
     "output_type": "display_data"
    }
   ],
   "source": [
    "#MasVnrType: Masonry veneer type\n",
    "#MasVnrArea: Masonry veneer area in square feet\n",
    "\"There are 23 missing values for MasVnrArea and 24 for MasVnrType. We can see if both missing values come from the same houses\""
   ]
  },
  {
   "cell_type": "code",
   "execution_count": 93,
   "metadata": {
    "scrolled": true
   },
   "outputs": [
    {
     "data": {
      "text/html": [
       "<table>\n",
       "<thead><tr><th></th><th scope=col>MasVnrType</th><th scope=col>MasVnrArea</th></tr></thead>\n",
       "<tbody>\n",
       "\t<tr><th scope=row>235</th><td>NA </td><td> NA</td></tr>\n",
       "\t<tr><th scope=row>530</th><td>NA </td><td> NA</td></tr>\n",
       "\t<tr><th scope=row>651</th><td>NA </td><td> NA</td></tr>\n",
       "\t<tr><th scope=row>937</th><td>NA </td><td> NA</td></tr>\n",
       "\t<tr><th scope=row>974</th><td>NA </td><td> NA</td></tr>\n",
       "\t<tr><th scope=row>978</th><td>NA </td><td> NA</td></tr>\n",
       "\t<tr><th scope=row>1244</th><td>NA </td><td> NA</td></tr>\n",
       "\t<tr><th scope=row>1279</th><td>NA </td><td> NA</td></tr>\n",
       "\t<tr><th scope=row>1692</th><td>NA </td><td> NA</td></tr>\n",
       "\t<tr><th scope=row>1707</th><td>NA </td><td> NA</td></tr>\n",
       "\t<tr><th scope=row>1883</th><td>NA </td><td> NA</td></tr>\n",
       "\t<tr><th scope=row>1993</th><td>NA </td><td> NA</td></tr>\n",
       "\t<tr><th scope=row>2005</th><td>NA </td><td> NA</td></tr>\n",
       "\t<tr><th scope=row>2042</th><td>NA </td><td> NA</td></tr>\n",
       "\t<tr><th scope=row>2312</th><td>NA </td><td> NA</td></tr>\n",
       "\t<tr><th scope=row>2326</th><td>NA </td><td> NA</td></tr>\n",
       "\t<tr><th scope=row>2341</th><td>NA </td><td> NA</td></tr>\n",
       "\t<tr><th scope=row>2350</th><td>NA </td><td> NA</td></tr>\n",
       "\t<tr><th scope=row>2369</th><td>NA </td><td> NA</td></tr>\n",
       "\t<tr><th scope=row>2593</th><td>NA </td><td> NA</td></tr>\n",
       "\t<tr><th scope=row>2611</th><td>NA </td><td>198</td></tr>\n",
       "\t<tr><th scope=row>2658</th><td>NA </td><td> NA</td></tr>\n",
       "\t<tr><th scope=row>2687</th><td>NA </td><td> NA</td></tr>\n",
       "\t<tr><th scope=row>2863</th><td>NA </td><td> NA</td></tr>\n",
       "</tbody>\n",
       "</table>\n"
      ],
      "text/latex": [
       "\\begin{tabular}{r|ll}\n",
       "  & MasVnrType & MasVnrArea\\\\\n",
       "\\hline\n",
       "\t235 & NA  &  NA\\\\\n",
       "\t530 & NA  &  NA\\\\\n",
       "\t651 & NA  &  NA\\\\\n",
       "\t937 & NA  &  NA\\\\\n",
       "\t974 & NA  &  NA\\\\\n",
       "\t978 & NA  &  NA\\\\\n",
       "\t1244 & NA  &  NA\\\\\n",
       "\t1279 & NA  &  NA\\\\\n",
       "\t1692 & NA  &  NA\\\\\n",
       "\t1707 & NA  &  NA\\\\\n",
       "\t1883 & NA  &  NA\\\\\n",
       "\t1993 & NA  &  NA\\\\\n",
       "\t2005 & NA  &  NA\\\\\n",
       "\t2042 & NA  &  NA\\\\\n",
       "\t2312 & NA  &  NA\\\\\n",
       "\t2326 & NA  &  NA\\\\\n",
       "\t2341 & NA  &  NA\\\\\n",
       "\t2350 & NA  &  NA\\\\\n",
       "\t2369 & NA  &  NA\\\\\n",
       "\t2593 & NA  &  NA\\\\\n",
       "\t2611 & NA  & 198\\\\\n",
       "\t2658 & NA  &  NA\\\\\n",
       "\t2687 & NA  &  NA\\\\\n",
       "\t2863 & NA  &  NA\\\\\n",
       "\\end{tabular}\n"
      ],
      "text/markdown": [
       "\n",
       "| <!--/--> | MasVnrType | MasVnrArea | \n",
       "|---|---|---|---|---|---|---|---|---|---|---|---|---|---|---|---|---|---|---|---|---|---|---|---|\n",
       "| 235 | NA  |  NA | \n",
       "| 530 | NA  |  NA | \n",
       "| 651 | NA  |  NA | \n",
       "| 937 | NA  |  NA | \n",
       "| 974 | NA  |  NA | \n",
       "| 978 | NA  |  NA | \n",
       "| 1244 | NA  |  NA | \n",
       "| 1279 | NA  |  NA | \n",
       "| 1692 | NA  |  NA | \n",
       "| 1707 | NA  |  NA | \n",
       "| 1883 | NA  |  NA | \n",
       "| 1993 | NA  |  NA | \n",
       "| 2005 | NA  |  NA | \n",
       "| 2042 | NA  |  NA | \n",
       "| 2312 | NA  |  NA | \n",
       "| 2326 | NA  |  NA | \n",
       "| 2341 | NA  |  NA | \n",
       "| 2350 | NA  |  NA | \n",
       "| 2369 | NA  |  NA | \n",
       "| 2593 | NA  |  NA | \n",
       "| 2611 | NA  | 198 | \n",
       "| 2658 | NA  |  NA | \n",
       "| 2687 | NA  |  NA | \n",
       "| 2863 | NA  |  NA | \n",
       "\n",
       "\n"
      ],
      "text/plain": [
       "     MasVnrType MasVnrArea\n",
       "235  NA          NA       \n",
       "530  NA          NA       \n",
       "651  NA          NA       \n",
       "937  NA          NA       \n",
       "974  NA          NA       \n",
       "978  NA          NA       \n",
       "1244 NA          NA       \n",
       "1279 NA          NA       \n",
       "1692 NA          NA       \n",
       "1707 NA          NA       \n",
       "1883 NA          NA       \n",
       "1993 NA          NA       \n",
       "2005 NA          NA       \n",
       "2042 NA          NA       \n",
       "2312 NA          NA       \n",
       "2326 NA          NA       \n",
       "2341 NA          NA       \n",
       "2350 NA          NA       \n",
       "2369 NA          NA       \n",
       "2593 NA          NA       \n",
       "2611 NA         198       \n",
       "2658 NA          NA       \n",
       "2687 NA          NA       \n",
       "2863 NA          NA       "
      ]
     },
     "metadata": {},
     "output_type": "display_data"
    }
   ],
   "source": [
    "df.combined[(is.na(df.combined$MasVnrType)) | (is.na(df.combined$MasVnrArea)), c('MasVnrType', 'MasVnrArea')]"
   ]
  },
  {
   "cell_type": "code",
   "execution_count": 94,
   "metadata": {},
   "outputs": [
    {
     "data": {
      "text/html": [
       "'All but one house has missing values for both columns. For houses with NA’s on both columns we can fill 0 for the area and None for the type since they likely do not have a masonry veneer. For the house with a MasVnrArea of 198 but NA for MasVnrType we can record the median areas for each type and see which type is closest to 198'"
      ],
      "text/latex": [
       "'All but one house has missing values for both columns. For houses with NA’s on both columns we can fill 0 for the area and None for the type since they likely do not have a masonry veneer. For the house with a MasVnrArea of 198 but NA for MasVnrType we can record the median areas for each type and see which type is closest to 198'"
      ],
      "text/markdown": [
       "'All but one house has missing values for both columns. For houses with NA’s on both columns we can fill 0 for the area and None for the type since they likely do not have a masonry veneer. For the house with a MasVnrArea of 198 but NA for MasVnrType we can record the median areas for each type and see which type is closest to 198'"
      ],
      "text/plain": [
       "[1] \"All but one house has missing values for both columns. For houses with NAs on both columns we can fill 0 for the area and None for the type since they likely do not have a masonry veneer. For the house with a MasVnrArea of 198 but NA for MasVnrType we can record the median areas for each type and see which type is closest to 198\""
      ]
     },
     "metadata": {},
     "output_type": "display_data"
    }
   ],
   "source": [
    "\"All but one house has missing values for both columns. For houses with NA’s on both columns we can fill 0 for the area and None for the type since they likely do not have a masonry veneer. For the house with a MasVnrArea of 198 but NA for MasVnrType we can record the median areas for each type and see which type is closest to 198\""
   ]
  },
  {
   "cell_type": "code",
   "execution_count": 95,
   "metadata": {},
   "outputs": [
    {
     "data": {
      "text/html": [
       "<table>\n",
       "<thead><tr><th scope=col>na.omit(MasVnrType)</th><th scope=col>MedianArea</th><th scope=col>counts</th></tr></thead>\n",
       "<tbody>\n",
       "\t<tr><td>None   </td><td>  0    </td><td>1742   </td></tr>\n",
       "\t<tr><td>BrkCmn </td><td>161    </td><td>  25   </td></tr>\n",
       "\t<tr><td>Stone  </td><td>200    </td><td> 249   </td></tr>\n",
       "\t<tr><td>BrkFace</td><td>203    </td><td> 879   </td></tr>\n",
       "</tbody>\n",
       "</table>\n"
      ],
      "text/latex": [
       "\\begin{tabular}{r|lll}\n",
       " na.omit(MasVnrType) & MedianArea & counts\\\\\n",
       "\\hline\n",
       "\t None    &   0     & 1742   \\\\\n",
       "\t BrkCmn  & 161     &   25   \\\\\n",
       "\t Stone   & 200     &  249   \\\\\n",
       "\t BrkFace & 203     &  879   \\\\\n",
       "\\end{tabular}\n"
      ],
      "text/markdown": [
       "\n",
       "na.omit(MasVnrType) | MedianArea | counts | \n",
       "|---|---|---|---|\n",
       "| None    |   0     | 1742    | \n",
       "| BrkCmn  | 161     |   25    | \n",
       "| Stone   | 200     |  249    | \n",
       "| BrkFace | 203     |  879    | \n",
       "\n",
       "\n"
      ],
      "text/plain": [
       "  na.omit(MasVnrType) MedianArea counts\n",
       "1 None                  0        1742  \n",
       "2 BrkCmn              161          25  \n",
       "3 Stone               200         249  \n",
       "4 BrkFace             203         879  "
      ]
     },
     "metadata": {},
     "output_type": "display_data"
    }
   ],
   "source": [
    "na.omit(df.combined[,c('MasVnrType','MasVnrArea')]) %>%\n",
    "  group_by(na.omit(MasVnrType)) %>%\n",
    "  summarise(MedianArea = median(MasVnrArea,na.rm = TRUE), counts = n()) %>%\n",
    "  arrange(MedianArea)"
   ]
  },
  {
   "cell_type": "code",
   "execution_count": 96,
   "metadata": {},
   "outputs": [],
   "source": [
    "#plot.categoric('MasVnrType', df.combined)\n",
    "\n",
    "df.combined[2611, 'MasVnrType'] = 'BrkFace'"
   ]
  },
  {
   "cell_type": "code",
   "execution_count": 97,
   "metadata": {},
   "outputs": [],
   "source": [
    "df.combined$MasVnrType[is.na(df.combined$MasVnrType)] = 'None'\n",
    "df.combined$MasVnrArea[is.na(df.combined$MasVnrArea)] = 0"
   ]
  },
  {
   "cell_type": "code",
   "execution_count": 98,
   "metadata": {},
   "outputs": [
    {
     "data": {
      "text/html": [
       "'There are 486 missing values for LotFrontage, which is quite a lot of values to fill and we can’t just replace these with 0. We’re given that “LotFrontage: Linear feet of street connected to property.” The area of each street connected to the house property is most likely going to have a similar area to other houses in its neighborhood. We can group by each neighborhood and take the median of each LotFrontage and fill the missing values of each LotFrontage based on what neighborhood the house comes from.'"
      ],
      "text/latex": [
       "'There are 486 missing values for LotFrontage, which is quite a lot of values to fill and we can’t just replace these with 0. We’re given that “LotFrontage: Linear feet of street connected to property.” The area of each street connected to the house property is most likely going to have a similar area to other houses in its neighborhood. We can group by each neighborhood and take the median of each LotFrontage and fill the missing values of each LotFrontage based on what neighborhood the house comes from.'"
      ],
      "text/markdown": [
       "'There are 486 missing values for LotFrontage, which is quite a lot of values to fill and we can’t just replace these with 0. We’re given that “LotFrontage: Linear feet of street connected to property.” The area of each street connected to the house property is most likely going to have a similar area to other houses in its neighborhood. We can group by each neighborhood and take the median of each LotFrontage and fill the missing values of each LotFrontage based on what neighborhood the house comes from.'"
      ],
      "text/plain": [
       "[1] \"There are 486 missing values for LotFrontage, which is quite a lot of values to fill and we cant just replace these with 0. Were given that LotFrontage: Linear feet of street connected to property. The area of each street connected to the house property is most likely going to have a similar area to other houses in its neighborhood. We can group by each neighborhood and take the median of each LotFrontage and fill the missing values of each LotFrontage based on what neighborhood the house comes from.\""
      ]
     },
     "metadata": {},
     "output_type": "display_data"
    }
   ],
   "source": [
    "#LotFrontage: Linear feet of street connected to property\n",
    "\"There are 486 missing values for LotFrontage, which is quite a lot of values to fill and we can’t just replace these with 0. We’re given that “LotFrontage: Linear feet of street connected to property.” The area of each street connected to the house property is most likely going to have a similar area to other houses in its neighborhood. We can group by each neighborhood and take the median of each LotFrontage and fill the missing values of each LotFrontage based on what neighborhood the house comes from.\""
   ]
  },
  {
   "cell_type": "code",
   "execution_count": 103,
   "metadata": {
    "scrolled": true
   },
   "outputs": [
    {
     "data": {
      "text/html": [
       "<table>\n",
       "<thead><tr><th scope=col>Neighborhood</th><th scope=col>LotFrontage</th></tr></thead>\n",
       "<tbody>\n",
       "\t<tr><td>Blmngtn</td><td>43.0   </td></tr>\n",
       "\t<tr><td>Blueste</td><td>24.0   </td></tr>\n",
       "\t<tr><td>BrDale </td><td>21.0   </td></tr>\n",
       "\t<tr><td>BrkSide</td><td>51.0   </td></tr>\n",
       "\t<tr><td>ClearCr</td><td>80.5   </td></tr>\n",
       "\t<tr><td>CollgCr</td><td>70.0   </td></tr>\n",
       "\t<tr><td>Crawfor</td><td>70.0   </td></tr>\n",
       "\t<tr><td>Edwards</td><td>65.0   </td></tr>\n",
       "\t<tr><td>Gilbert</td><td>64.0   </td></tr>\n",
       "\t<tr><td>IDOTRR </td><td>60.0   </td></tr>\n",
       "\t<tr><td>MeadowV</td><td>21.0   </td></tr>\n",
       "\t<tr><td>Mitchel</td><td>74.0   </td></tr>\n",
       "\t<tr><td>NAmes  </td><td>73.0   </td></tr>\n",
       "\t<tr><td>NoRidge</td><td>89.0   </td></tr>\n",
       "\t<tr><td>NPkVill</td><td>24.0   </td></tr>\n",
       "\t<tr><td>NridgHt</td><td>92.0   </td></tr>\n",
       "\t<tr><td>NWAmes </td><td>80.0   </td></tr>\n",
       "\t<tr><td>OldTown</td><td>60.0   </td></tr>\n",
       "\t<tr><td>Sawyer </td><td>72.0   </td></tr>\n",
       "\t<tr><td>SawyerW</td><td>67.0   </td></tr>\n",
       "\t<tr><td>Somerst</td><td>72.5   </td></tr>\n",
       "\t<tr><td>StoneBr</td><td>60.0   </td></tr>\n",
       "\t<tr><td>SWISU  </td><td>60.0   </td></tr>\n",
       "\t<tr><td>Timber </td><td>82.0   </td></tr>\n",
       "\t<tr><td>Veenker</td><td>80.0   </td></tr>\n",
       "</tbody>\n",
       "</table>\n"
      ],
      "text/latex": [
       "\\begin{tabular}{r|ll}\n",
       " Neighborhood & LotFrontage\\\\\n",
       "\\hline\n",
       "\t Blmngtn & 43.0   \\\\\n",
       "\t Blueste & 24.0   \\\\\n",
       "\t BrDale  & 21.0   \\\\\n",
       "\t BrkSide & 51.0   \\\\\n",
       "\t ClearCr & 80.5   \\\\\n",
       "\t CollgCr & 70.0   \\\\\n",
       "\t Crawfor & 70.0   \\\\\n",
       "\t Edwards & 65.0   \\\\\n",
       "\t Gilbert & 64.0   \\\\\n",
       "\t IDOTRR  & 60.0   \\\\\n",
       "\t MeadowV & 21.0   \\\\\n",
       "\t Mitchel & 74.0   \\\\\n",
       "\t NAmes   & 73.0   \\\\\n",
       "\t NoRidge & 89.0   \\\\\n",
       "\t NPkVill & 24.0   \\\\\n",
       "\t NridgHt & 92.0   \\\\\n",
       "\t NWAmes  & 80.0   \\\\\n",
       "\t OldTown & 60.0   \\\\\n",
       "\t Sawyer  & 72.0   \\\\\n",
       "\t SawyerW & 67.0   \\\\\n",
       "\t Somerst & 72.5   \\\\\n",
       "\t StoneBr & 60.0   \\\\\n",
       "\t SWISU   & 60.0   \\\\\n",
       "\t Timber  & 82.0   \\\\\n",
       "\t Veenker & 80.0   \\\\\n",
       "\\end{tabular}\n"
      ],
      "text/markdown": [
       "\n",
       "Neighborhood | LotFrontage | \n",
       "|---|---|---|---|---|---|---|---|---|---|---|---|---|---|---|---|---|---|---|---|---|---|---|---|---|\n",
       "| Blmngtn | 43.0    | \n",
       "| Blueste | 24.0    | \n",
       "| BrDale  | 21.0    | \n",
       "| BrkSide | 51.0    | \n",
       "| ClearCr | 80.5    | \n",
       "| CollgCr | 70.0    | \n",
       "| Crawfor | 70.0    | \n",
       "| Edwards | 65.0    | \n",
       "| Gilbert | 64.0    | \n",
       "| IDOTRR  | 60.0    | \n",
       "| MeadowV | 21.0    | \n",
       "| Mitchel | 74.0    | \n",
       "| NAmes   | 73.0    | \n",
       "| NoRidge | 89.0    | \n",
       "| NPkVill | 24.0    | \n",
       "| NridgHt | 92.0    | \n",
       "| NWAmes  | 80.0    | \n",
       "| OldTown | 60.0    | \n",
       "| Sawyer  | 72.0    | \n",
       "| SawyerW | 67.0    | \n",
       "| Somerst | 72.5    | \n",
       "| StoneBr | 60.0    | \n",
       "| SWISU   | 60.0    | \n",
       "| Timber  | 82.0    | \n",
       "| Veenker | 80.0    | \n",
       "\n",
       "\n"
      ],
      "text/plain": [
       "   Neighborhood LotFrontage\n",
       "1  Blmngtn      43.0       \n",
       "2  Blueste      24.0       \n",
       "3  BrDale       21.0       \n",
       "4  BrkSide      51.0       \n",
       "5  ClearCr      80.5       \n",
       "6  CollgCr      70.0       \n",
       "7  Crawfor      70.0       \n",
       "8  Edwards      65.0       \n",
       "9  Gilbert      64.0       \n",
       "10 IDOTRR       60.0       \n",
       "11 MeadowV      21.0       \n",
       "12 Mitchel      74.0       \n",
       "13 NAmes        73.0       \n",
       "14 NoRidge      89.0       \n",
       "15 NPkVill      24.0       \n",
       "16 NridgHt      92.0       \n",
       "17 NWAmes       80.0       \n",
       "18 OldTown      60.0       \n",
       "19 Sawyer       72.0       \n",
       "20 SawyerW      67.0       \n",
       "21 Somerst      72.5       \n",
       "22 StoneBr      60.0       \n",
       "23 SWISU        60.0       \n",
       "24 Timber       82.0       \n",
       "25 Veenker      80.0       "
      ]
     },
     "metadata": {},
     "output_type": "display_data"
    }
   ],
   "source": [
    "df.combined['Nbrh.factor'] <- factor(df.combined$Neighborhood, levels = unique(df.combined$Neighborhood))\n",
    "\n",
    "lot.by.nbrh <- aggregate(data = df.combined, LotFrontage~Neighborhood, median, na.rm = TRUE)\n",
    "lot.by.nbrh"
   ]
  },
  {
   "cell_type": "code",
   "execution_count": 104,
   "metadata": {},
   "outputs": [],
   "source": [
    "idx = which(is.na(df.combined$LotFrontage))\n",
    "\n",
    "for (i in idx){\n",
    "  lot.median <- lot.by.nbrh[lot.by.nbrh == df.combined$Neighborhood[i],'median']\n",
    "  df.combined[i,'LotFrontage'] <- lot.median[[1]]\n",
    "}"
   ]
  },
  {
   "cell_type": "code",
   "execution_count": 105,
   "metadata": {
    "scrolled": true
   },
   "outputs": [
    {
     "name": "stderr",
     "output_type": "stream",
     "text": [
      "Warning message:\n",
      "\"Removed 2348 rows containing non-finite values (stat_count).\"Warning message:\n",
      "\"Removed 2348 rows containing non-finite values (stat_count).\"Warning message:\n",
      "\"Removed 2348 rows containing non-finite values (stat_count).\""
     ]
    },
    {
     "data": {
      "image/png": "[encoded data removed]",
      "text/plain": [
       "plot without title"
      ]
     },
     "metadata": {},
     "output_type": "display_data"
    }
   ],
   "source": [
    "# Fence: Fence quality\n",
    "plot.categoric('Fence', df.combined)"
   ]
  },
  {
   "cell_type": "code",
   "execution_count": 106,
   "metadata": {},
   "outputs": [
    {
     "data": {
      "text/plain": [
       "\n",
       "Gar2 Othr Shed TenC \n",
       "   5    4   95    1 "
      ]
     },
     "metadata": {},
     "output_type": "display_data"
    }
   ],
   "source": [
    "df.combined$Fence[is.na(df.combined$Fence)] = 'None'\n",
    "\n",
    "\n",
    "table(df.combined$MiscFeature)"
   ]
  },
  {
   "cell_type": "code",
   "execution_count": 107,
   "metadata": {},
   "outputs": [],
   "source": [
    "df.combined$MiscFeature[is.na(df.combined$MiscFeature)] = 'None'"
   ]
  },
  {
   "cell_type": "code",
   "execution_count": 108,
   "metadata": {},
   "outputs": [
    {
     "data": {
      "text/html": [
       "'FireplaceQu denotes the fireplace quality. We can check to see if any of the missing values for FireplaceQu come from houses that recorded having at least 1 fireplace.'"
      ],
      "text/latex": [
       "'FireplaceQu denotes the fireplace quality. We can check to see if any of the missing values for FireplaceQu come from houses that recorded having at least 1 fireplace.'"
      ],
      "text/markdown": [
       "'FireplaceQu denotes the fireplace quality. We can check to see if any of the missing values for FireplaceQu come from houses that recorded having at least 1 fireplace.'"
      ],
      "text/plain": [
       "[1] \"FireplaceQu denotes the fireplace quality. We can check to see if any of the missing values for FireplaceQu come from houses that recorded having at least 1 fireplace.\""
      ]
     },
     "metadata": {},
     "output_type": "display_data"
    }
   ],
   "source": [
    "#Fireplaces: Number of fireplaces\n",
    "#FireplaceQu: Fireplace quality\n",
    "\"FireplaceQu denotes the fireplace quality. We can check to see if any of the missing values for FireplaceQu come from houses that recorded having at least 1 fireplace.\""
   ]
  },
  {
   "cell_type": "code",
   "execution_count": 109,
   "metadata": {
    "scrolled": true
   },
   "outputs": [
    {
     "name": "stderr",
     "output_type": "stream",
     "text": [
      "Warning message:\n",
      "\"Removed 1420 rows containing non-finite values (stat_count).\"Warning message:\n",
      "\"Removed 1420 rows containing non-finite values (stat_count).\"Warning message:\n",
      "\"Removed 1420 rows containing non-finite values (stat_count).\""
     ]
    },
    {
     "data": {
      "image/png": "[encoded data removed]",
      "text/plain": [
       "plot without title"
      ]
     },
     "metadata": {},
     "output_type": "display_data"
    }
   ],
   "source": [
    "plot.categoric('FireplaceQu', df.combined)"
   ]
  },
  {
   "cell_type": "code",
   "execution_count": 110,
   "metadata": {},
   "outputs": [
    {
     "data": {
      "text/html": [],
      "text/latex": [],
      "text/markdown": [],
      "text/plain": [
       "integer(0)"
      ]
     },
     "metadata": {},
     "output_type": "display_data"
    }
   ],
   "source": [
    "which((df.combined$Fireplaces > 0) & (is.na(df.combined$FireplaceQu)))"
   ]
  },
  {
   "cell_type": "code",
   "execution_count": 111,
   "metadata": {},
   "outputs": [
    {
     "data": {
      "text/html": [
       "'All the houses that have missing values did not record having any fireplaces. We can replace the NA’s with ‘None’ since these houses don’t have any fireplaces at all.'"
      ],
      "text/latex": [
       "'All the houses that have missing values did not record having any fireplaces. We can replace the NA’s with ‘None’ since these houses don’t have any fireplaces at all.'"
      ],
      "text/markdown": [
       "'All the houses that have missing values did not record having any fireplaces. We can replace the NA’s with ‘None’ since these houses don’t have any fireplaces at all.'"
      ],
      "text/plain": [
       "[1] \"All the houses that have missing values did not record having any fireplaces. We can replace the NAs with None since these houses dont have any fireplaces at all.\""
      ]
     },
     "metadata": {},
     "output_type": "display_data"
    }
   ],
   "source": [
    "\"All the houses that have missing values did not record having any fireplaces. We can replace the NA’s with ‘None’ since these houses don’t have any fireplaces at all.\""
   ]
  },
  {
   "cell_type": "code",
   "execution_count": 112,
   "metadata": {},
   "outputs": [],
   "source": [
    "df.combined$FireplaceQu[is.na(df.combined$FireplaceQu)] = 'None'"
   ]
  },
  {
   "cell_type": "code",
   "execution_count": 114,
   "metadata": {},
   "outputs": [
    {
     "data": {
      "text/html": [
       "'There are 2721 missing values for Alley and only 2 potential options - Grvl and Pave. We can fill ‘None’ for any of the houses with NA’s as these houses must not have any type of alley access.'"
      ],
      "text/latex": [
       "'There are 2721 missing values for Alley and only 2 potential options - Grvl and Pave. We can fill ‘None’ for any of the houses with NA’s as these houses must not have any type of alley access.'"
      ],
      "text/markdown": [
       "'There are 2721 missing values for Alley and only 2 potential options - Grvl and Pave. We can fill ‘None’ for any of the houses with NA’s as these houses must not have any type of alley access.'"
      ],
      "text/plain": [
       "[1] \"There are 2721 missing values for Alley and only 2 potential options - Grvl and Pave. We can fill None for any of the houses with NAs as these houses must not have any type of alley access.\""
      ]
     },
     "metadata": {},
     "output_type": "display_data"
    }
   ],
   "source": [
    "#Alley: Type of alley access\n",
    "\"There are 2721 missing values for Alley and only 2 potential options - Grvl and Pave. We can fill ‘None’ for any of the houses with NA’s as these houses must not have any type of alley access.\""
   ]
  },
  {
   "cell_type": "code",
   "execution_count": 115,
   "metadata": {
    "scrolled": true
   },
   "outputs": [
    {
     "name": "stderr",
     "output_type": "stream",
     "text": [
      "Warning message:\n",
      "\"Removed 2721 rows containing non-finite values (stat_count).\"Warning message:\n",
      "\"Removed 2721 rows containing non-finite values (stat_count).\"Warning message:\n",
      "\"Removed 2721 rows containing non-finite values (stat_count).\""
     ]
    },
    {
     "data": {
      "image/png": "[encoded data removed]",
      "text/plain": [
       "plot without title"
      ]
     },
     "metadata": {},
     "output_type": "display_data"
    }
   ],
   "source": [
    "plot.categoric('Alley', df.combined)"
   ]
  },
  {
   "cell_type": "code",
   "execution_count": 116,
   "metadata": {},
   "outputs": [],
   "source": [
    "df.combined$Alley[is.na(df.combined$Alley)] = 'None'"
   ]
  },
  {
   "cell_type": "code",
   "execution_count": 117,
   "metadata": {},
   "outputs": [
    {
     "name": "stdout",
     "output_type": "stream",
     "text": [
      "There are 0 missing values left"
     ]
    }
   ],
   "source": [
    "cat('There are', sum(sapply(df.combined, is.na)), 'missing values left')"
   ]
  },
  {
   "cell_type": "code",
   "execution_count": 118,
   "metadata": {},
   "outputs": [
    {
     "data": {
      "text/html": [
       "'Splitting data into a numeric set and a categoric set. Since we want our dataset to be strictly numeric values while retaining as much information as possible, we will have to transform any categoric into a binary feature using one-hot encoding.'"
      ],
      "text/latex": [
       "'Splitting data into a numeric set and a categoric set. Since we want our dataset to be strictly numeric values while retaining as much information as possible, we will have to transform any categoric into a binary feature using one-hot encoding.'"
      ],
      "text/markdown": [
       "'Splitting data into a numeric set and a categoric set. Since we want our dataset to be strictly numeric values while retaining as much information as possible, we will have to transform any categoric into a binary feature using one-hot encoding.'"
      ],
      "text/plain": [
       "[1] \"Splitting data into a numeric set and a categoric set. Since we want our dataset to be strictly numeric values while retaining as much information as possible, we will have to transform any categoric into a binary feature using one-hot encoding.\""
      ]
     },
     "metadata": {},
     "output_type": "display_data"
    }
   ],
   "source": [
    "# Adding custom numeric features\n",
    "\"Splitting data into a numeric set and a categoric set. Since we want our dataset to be strictly numeric values while retaining as much information as possible, we will have to transform any categoric into a binary feature using one-hot encoding.\""
   ]
  },
  {
   "cell_type": "code",
   "execution_count": 119,
   "metadata": {},
   "outputs": [],
   "source": [
    "num_features <- names(which(sapply(df.combined, is.numeric)))\n",
    "cat_features <- names(which(sapply(df.combined, is.character)))\n",
    "\n",
    "df.numeric <- df.combined[num_features]"
   ]
  },
  {
   "cell_type": "code",
   "execution_count": 120,
   "metadata": {},
   "outputs": [
    {
     "data": {
      "text/html": [
       "'We can transform any of the ordinal variables (variables that can be scaled) into numeric values. We can do this by determining which order the categories follow and assigning the values an order from 1,2,..,n. We’ll group each feature by its possible values and return the median SalePrice and mean OverallQual for each unique value, then map the higher priced/better quality homes larger numeric values and the lower priced/lower quality homes smaller numeric values.'"
      ],
      "text/latex": [
       "'We can transform any of the ordinal variables (variables that can be scaled) into numeric values. We can do this by determining which order the categories follow and assigning the values an order from 1,2,..,n. We’ll group each feature by its possible values and return the median SalePrice and mean OverallQual for each unique value, then map the higher priced/better quality homes larger numeric values and the lower priced/lower quality homes smaller numeric values.'"
      ],
      "text/markdown": [
       "'We can transform any of the ordinal variables (variables that can be scaled) into numeric values. We can do this by determining which order the categories follow and assigning the values an order from 1,2,..,n. We’ll group each feature by its possible values and return the median SalePrice and mean OverallQual for each unique value, then map the higher priced/better quality homes larger numeric values and the lower priced/lower quality homes smaller numeric values.'"
      ],
      "text/plain": [
       "[1] \"We can transform any of the ordinal variables (variables that can be scaled) into numeric values. We can do this by determining which order the categories follow and assigning the values an order from 1,2,..,n. Well group each feature by its possible values and return the median SalePrice and mean OverallQual for each unique value, then map the higher priced/better quality homes larger numeric values and the lower priced/lower quality homes smaller numeric values.\""
      ]
     },
     "metadata": {},
     "output_type": "display_data"
    }
   ],
   "source": [
    "\"We can transform any of the ordinal variables (variables that can be scaled) into numeric values. We can do this by determining which order the categories follow and assigning the values an order from 1,2,..,n. We’ll group each feature by its possible values and return the median SalePrice and mean OverallQual for each unique value, then map the higher priced/better quality homes larger numeric values and the lower priced/lower quality homes smaller numeric values.\""
   ]
  },
  {
   "cell_type": "code",
   "execution_count": 121,
   "metadata": {},
   "outputs": [],
   "source": [
    "group.df <- df.combined[1:1460,]\n",
    "group.df$SalePrice <- train$SalePrice\n",
    "      \n",
    "# function that groups a column by its features and returns the mdedian saleprice for each unique feature. \n",
    "group.prices <- function(col) {\n",
    "  group.table <- group.df[,c(col, 'SalePrice', 'OverallQual')] %>%\n",
    "    group_by_(col) %>%\n",
    "    summarise(mean.Quality = round(mean(OverallQual),2),\n",
    "      mean.Price = mean(SalePrice), n = n()) %>%\n",
    "    arrange(mean.Quality)\n",
    "    \n",
    "  print(qplot(x=reorder(group.table[[col]], -group.table[['mean.Price']]), y=group.table[['mean.Price']]) +\n",
    "    geom_bar(stat='identity', fill='cornflowerblue') +\n",
    "    theme_minimal() +\n",
    "    scale_y_continuous(labels = dollar) +\n",
    "    labs(x=col, y='Mean SalePrice') +\n",
    "    theme(axis.text.x = element_text(angle = 45)))\n",
    "  \n",
    "  return(data.frame(group.table))\n",
    "}\n",
    "\n",
    "## functional to compute the mean overall quality for each quality\n",
    "quality.mean <- function(col) {\n",
    "  group.table <- df.combined[,c(col, 'OverallQual')] %>%\n",
    "    group_by_(col) %>%\n",
    "    summarise(mean.qual = mean(OverallQual)) %>%\n",
    "    arrange(mean.qual)\n",
    "  \n",
    "  return(data.frame(group.table))\n",
    "}\n",
    "\n",
    "# function that maps a categoric value to its corresponding numeric value and returns that column to the data frame\n",
    "map.fcn <- function(cols, map.list, df){\n",
    "  for (col in cols){\n",
    "    df[col] <- as.numeric(map.list[df.combined[,col]])\n",
    "  }\n",
    "  return(df)\n",
    "}"
   ]
  },
  {
   "cell_type": "code",
   "execution_count": 122,
   "metadata": {},
   "outputs": [
    {
     "data": {
      "text/html": [
       "'Any of the columns with the suffix ‘Qual’ or ‘Cond’ denote the quality or condition of that specific feature. Each of these columns have the potential values: TA, Fa, Gd, None, Ex, Po. We’ll compute the mean house prices for these unique values to get a better sense of what their abbreviations mean.'"
      ],
      "text/latex": [
       "'Any of the columns with the suffix ‘Qual’ or ‘Cond’ denote the quality or condition of that specific feature. Each of these columns have the potential values: TA, Fa, Gd, None, Ex, Po. We’ll compute the mean house prices for these unique values to get a better sense of what their abbreviations mean.'"
      ],
      "text/markdown": [
       "'Any of the columns with the suffix ‘Qual’ or ‘Cond’ denote the quality or condition of that specific feature. Each of these columns have the potential values: TA, Fa, Gd, None, Ex, Po. We’ll compute the mean house prices for these unique values to get a better sense of what their abbreviations mean.'"
      ],
      "text/plain": [
       "[1] \"Any of the columns with the suffix Qual or Cond denote the quality or condition of that specific feature. Each of these columns have the potential values: TA, Fa, Gd, None, Ex, Po. Well compute the mean house prices for these unique values to get a better sense of what their abbreviations mean.\""
      ]
     },
     "metadata": {},
     "output_type": "display_data"
    }
   ],
   "source": [
    "\"Any of the columns with the suffix ‘Qual’ or ‘Cond’ denote the quality or condition of that specific feature. Each of these columns have the potential values: TA, Fa, Gd, None, Ex, Po. We’ll compute the mean house prices for these unique values to get a better sense of what their abbreviations mean.\""
   ]
  },
  {
   "cell_type": "code",
   "execution_count": 123,
   "metadata": {
    "scrolled": true
   },
   "outputs": [
    {
     "data": {
      "text/html": [
       "<table>\n",
       "<thead><tr><th scope=col>FireplaceQu</th><th scope=col>mean.Quality</th><th scope=col>mean.Price</th><th scope=col>n</th></tr></thead>\n",
       "<tbody>\n",
       "\t<tr><td>Po      </td><td>4.95    </td><td>129764.1</td><td> 20     </td></tr>\n",
       "\t<tr><td>None    </td><td>5.46    </td><td>141331.5</td><td>690     </td></tr>\n",
       "\t<tr><td>Fa      </td><td>5.76    </td><td>167298.5</td><td> 33     </td></tr>\n",
       "\t<tr><td>TA      </td><td>6.48    </td><td>205723.5</td><td>313     </td></tr>\n",
       "\t<tr><td>Gd      </td><td>6.89    </td><td>226351.4</td><td>380     </td></tr>\n",
       "\t<tr><td>Ex      </td><td>8.38    </td><td>337712.5</td><td> 24     </td></tr>\n",
       "</tbody>\n",
       "</table>\n"
      ],
      "text/latex": [
       "\\begin{tabular}{r|llll}\n",
       " FireplaceQu & mean.Quality & mean.Price & n\\\\\n",
       "\\hline\n",
       "\t Po       & 4.95     & 129764.1 &  20     \\\\\n",
       "\t None     & 5.46     & 141331.5 & 690     \\\\\n",
       "\t Fa       & 5.76     & 167298.5 &  33     \\\\\n",
       "\t TA       & 6.48     & 205723.5 & 313     \\\\\n",
       "\t Gd       & 6.89     & 226351.4 & 380     \\\\\n",
       "\t Ex       & 8.38     & 337712.5 &  24     \\\\\n",
       "\\end{tabular}\n"
      ],
      "text/markdown": [
       "\n",
       "FireplaceQu | mean.Quality | mean.Price | n | \n",
       "|---|---|---|---|---|---|\n",
       "| Po       | 4.95     | 129764.1 |  20      | \n",
       "| None     | 5.46     | 141331.5 | 690      | \n",
       "| Fa       | 5.76     | 167298.5 |  33      | \n",
       "| TA       | 6.48     | 205723.5 | 313      | \n",
       "| Gd       | 6.89     | 226351.4 | 380      | \n",
       "| Ex       | 8.38     | 337712.5 |  24      | \n",
       "\n",
       "\n"
      ],
      "text/plain": [
       "  FireplaceQu mean.Quality mean.Price n  \n",
       "1 Po          4.95         129764.1    20\n",
       "2 None        5.46         141331.5   690\n",
       "3 Fa          5.76         167298.5    33\n",
       "4 TA          6.48         205723.5   313\n",
       "5 Gd          6.89         226351.4   380\n",
       "6 Ex          8.38         337712.5    24"
      ]
     },
     "metadata": {},
     "output_type": "display_data"
    },
    {
     "data": {
      "image/png": "[encoded data removed]",
      "text/plain": [
       "plot without title"
      ]
     },
     "metadata": {},
     "output_type": "display_data"
    }
   ],
   "source": [
    "qual.cols <- c('ExterQual', 'ExterCond', 'GarageQual', 'GarageCond', 'FireplaceQu', 'KitchenQual', 'HeatingQC', 'BsmtQual')\n",
    "\n",
    "group.prices('FireplaceQu')"
   ]
  },
  {
   "cell_type": "code",
   "execution_count": 124,
   "metadata": {
    "scrolled": true
   },
   "outputs": [
    {
     "data": {
      "text/html": [
       "<table>\n",
       "<thead><tr><th scope=col>BsmtQual</th><th scope=col>mean.Quality</th><th scope=col>mean.Price</th><th scope=col>n</th></tr></thead>\n",
       "<tbody>\n",
       "\t<tr><td>None    </td><td>4.30    </td><td>105652.9</td><td> 37     </td></tr>\n",
       "\t<tr><td>Fa      </td><td>4.89    </td><td>115692.0</td><td> 35     </td></tr>\n",
       "\t<tr><td>TA      </td><td>5.33    </td><td>140759.8</td><td>649     </td></tr>\n",
       "\t<tr><td>Gd      </td><td>6.66    </td><td>202688.5</td><td>618     </td></tr>\n",
       "\t<tr><td>Ex      </td><td>8.26    </td><td>327041.0</td><td>121     </td></tr>\n",
       "</tbody>\n",
       "</table>\n"
      ],
      "text/latex": [
       "\\begin{tabular}{r|llll}\n",
       " BsmtQual & mean.Quality & mean.Price & n\\\\\n",
       "\\hline\n",
       "\t None     & 4.30     & 105652.9 &  37     \\\\\n",
       "\t Fa       & 4.89     & 115692.0 &  35     \\\\\n",
       "\t TA       & 5.33     & 140759.8 & 649     \\\\\n",
       "\t Gd       & 6.66     & 202688.5 & 618     \\\\\n",
       "\t Ex       & 8.26     & 327041.0 & 121     \\\\\n",
       "\\end{tabular}\n"
      ],
      "text/markdown": [
       "\n",
       "BsmtQual | mean.Quality | mean.Price | n | \n",
       "|---|---|---|---|---|\n",
       "| None     | 4.30     | 105652.9 |  37      | \n",
       "| Fa       | 4.89     | 115692.0 |  35      | \n",
       "| TA       | 5.33     | 140759.8 | 649      | \n",
       "| Gd       | 6.66     | 202688.5 | 618      | \n",
       "| Ex       | 8.26     | 327041.0 | 121      | \n",
       "\n",
       "\n"
      ],
      "text/plain": [
       "  BsmtQual mean.Quality mean.Price n  \n",
       "1 None     4.30         105652.9    37\n",
       "2 Fa       4.89         115692.0    35\n",
       "3 TA       5.33         140759.8   649\n",
       "4 Gd       6.66         202688.5   618\n",
       "5 Ex       8.26         327041.0   121"
      ]
     },
     "metadata": {},
     "output_type": "display_data"
    },
    {
     "data": {
      "image/png": "[encoded data removed]",
      "text/plain": [
       "plot without title"
      ]
     },
     "metadata": {},
     "output_type": "display_data"
    }
   ],
   "source": [
    "group.prices('BsmtQual')"
   ]
  },
  {
   "cell_type": "code",
   "execution_count": 125,
   "metadata": {
    "scrolled": true
   },
   "outputs": [
    {
     "data": {
      "text/html": [
       "<table>\n",
       "<thead><tr><th scope=col>KitchenQual</th><th scope=col>mean.Quality</th><th scope=col>mean.Price</th><th scope=col>n</th></tr></thead>\n",
       "<tbody>\n",
       "\t<tr><td>Fa      </td><td>4.49    </td><td>105565.2</td><td> 39     </td></tr>\n",
       "\t<tr><td>TA      </td><td>5.34    </td><td>139962.5</td><td>735     </td></tr>\n",
       "\t<tr><td>Gd      </td><td>6.79    </td><td>212116.0</td><td>586     </td></tr>\n",
       "\t<tr><td>Ex      </td><td>8.27    </td><td>328554.7</td><td>100     </td></tr>\n",
       "</tbody>\n",
       "</table>\n"
      ],
      "text/latex": [
       "\\begin{tabular}{r|llll}\n",
       " KitchenQual & mean.Quality & mean.Price & n\\\\\n",
       "\\hline\n",
       "\t Fa       & 4.49     & 105565.2 &  39     \\\\\n",
       "\t TA       & 5.34     & 139962.5 & 735     \\\\\n",
       "\t Gd       & 6.79     & 212116.0 & 586     \\\\\n",
       "\t Ex       & 8.27     & 328554.7 & 100     \\\\\n",
       "\\end{tabular}\n"
      ],
      "text/markdown": [
       "\n",
       "KitchenQual | mean.Quality | mean.Price | n | \n",
       "|---|---|---|---|\n",
       "| Fa       | 4.49     | 105565.2 |  39      | \n",
       "| TA       | 5.34     | 139962.5 | 735      | \n",
       "| Gd       | 6.79     | 212116.0 | 586      | \n",
       "| Ex       | 8.27     | 328554.7 | 100      | \n",
       "\n",
       "\n"
      ],
      "text/plain": [
       "  KitchenQual mean.Quality mean.Price n  \n",
       "1 Fa          4.49         105565.2    39\n",
       "2 TA          5.34         139962.5   735\n",
       "3 Gd          6.79         212116.0   586\n",
       "4 Ex          8.27         328554.7   100"
      ]
     },
     "metadata": {},
     "output_type": "display_data"
    },
    {
     "data": {
      "image/png": "[encoded data removed]",
      "text/plain": [
       "plot without title"
      ]
     },
     "metadata": {},
     "output_type": "display_data"
    }
   ],
   "source": [
    "group.prices('KitchenQual')"
   ]
  },
  {
   "cell_type": "code",
   "execution_count": 126,
   "metadata": {},
   "outputs": [
    {
     "data": {
      "text/html": [
       "'From seeing the mean saleprices from a few of the quality and condition features we can infer that the abbreviations mean poor, fair, typical/average, good and excelent. We’ll map numeric values from 0-5 to their corresponding categoric values (including 0 for None) and combine that to our dataframe.\\n\\nNote: we will set ‘None’ = 0 for all categories as None signifies that the house does not have that particular quality/condition to rank and regardless of the houses overall quality or sale price we will keep ‘None’ = 0 for consistency.'"
      ],
      "text/latex": [
       "'From seeing the mean saleprices from a few of the quality and condition features we can infer that the abbreviations mean poor, fair, typical/average, good and excelent. We’ll map numeric values from 0-5 to their corresponding categoric values (including 0 for None) and combine that to our dataframe.\\textbackslash{}n\\textbackslash{}nNote: we will set ‘None’ = 0 for all categories as None signifies that the house does not have that particular quality/condition to rank and regardless of the houses overall quality or sale price we will keep ‘None’ = 0 for consistency.'"
      ],
      "text/markdown": [
       "'From seeing the mean saleprices from a few of the quality and condition features we can infer that the abbreviations mean poor, fair, typical/average, good and excelent. We’ll map numeric values from 0-5 to their corresponding categoric values (including 0 for None) and combine that to our dataframe.\\n\\nNote: we will set ‘None’ = 0 for all categories as None signifies that the house does not have that particular quality/condition to rank and regardless of the houses overall quality or sale price we will keep ‘None’ = 0 for consistency.'"
      ],
      "text/plain": [
       "[1] \"From seeing the mean saleprices from a few of the quality and condition features we can infer that the abbreviations mean poor, fair, typical/average, good and excelent. Well map numeric values from 0-5 to their corresponding categoric values (including 0 for None) and combine that to our dataframe.\\n\\nNote: we will set None = 0 for all categories as None signifies that the house does not have that particular quality/condition to rank and regardless of the houses overall quality or sale price we will keep None = 0 for consistency.\""
      ]
     },
     "metadata": {},
     "output_type": "display_data"
    }
   ],
   "source": [
    "\"From seeing the mean saleprices from a few of the quality and condition features we can infer that the abbreviations mean poor, fair, typical/average, good and excelent. We’ll map numeric values from 0-5 to their corresponding categoric values (including 0 for None) and combine that to our dataframe.\n",
    "\n",
    "Note: we will set ‘None’ = 0 for all categories as None signifies that the house does not have that particular quality/condition to rank and regardless of the houses overall quality or sale price we will keep ‘None’ = 0 for consistency.\""
   ]
  },
  {
   "cell_type": "code",
   "execution_count": 127,
   "metadata": {},
   "outputs": [],
   "source": [
    "qual.list <- c('None' = 0, 'Po' = 1, 'Fa' = 2, 'TA' = 3, 'Gd' = 4, 'Ex' = 5)\n",
    "\n",
    "df.numeric <- map.fcn(qual.cols, qual.list, df.numeric)"
   ]
  },
  {
   "cell_type": "code",
   "execution_count": 128,
   "metadata": {
    "scrolled": true
   },
   "outputs": [
    {
     "data": {
      "text/html": [
       "<table>\n",
       "<thead><tr><th scope=col>BsmtExposure</th><th scope=col>mean.Quality</th><th scope=col>mean.Price</th><th scope=col>n</th></tr></thead>\n",
       "<tbody>\n",
       "\t<tr><td>None    </td><td>4.30    </td><td>105652.9</td><td> 37     </td></tr>\n",
       "\t<tr><td>No      </td><td>5.92    </td><td>165680.4</td><td>954     </td></tr>\n",
       "\t<tr><td>Mn      </td><td>6.25    </td><td>192789.7</td><td>114     </td></tr>\n",
       "\t<tr><td>Av      </td><td>6.57    </td><td>206643.4</td><td>221     </td></tr>\n",
       "\t<tr><td>Gd      </td><td>6.96    </td><td>257689.8</td><td>134     </td></tr>\n",
       "</tbody>\n",
       "</table>\n"
      ],
      "text/latex": [
       "\\begin{tabular}{r|llll}\n",
       " BsmtExposure & mean.Quality & mean.Price & n\\\\\n",
       "\\hline\n",
       "\t None     & 4.30     & 105652.9 &  37     \\\\\n",
       "\t No       & 5.92     & 165680.4 & 954     \\\\\n",
       "\t Mn       & 6.25     & 192789.7 & 114     \\\\\n",
       "\t Av       & 6.57     & 206643.4 & 221     \\\\\n",
       "\t Gd       & 6.96     & 257689.8 & 134     \\\\\n",
       "\\end{tabular}\n"
      ],
      "text/markdown": [
       "\n",
       "BsmtExposure | mean.Quality | mean.Price | n | \n",
       "|---|---|---|---|---|\n",
       "| None     | 4.30     | 105652.9 |  37      | \n",
       "| No       | 5.92     | 165680.4 | 954      | \n",
       "| Mn       | 6.25     | 192789.7 | 114      | \n",
       "| Av       | 6.57     | 206643.4 | 221      | \n",
       "| Gd       | 6.96     | 257689.8 | 134      | \n",
       "\n",
       "\n"
      ],
      "text/plain": [
       "  BsmtExposure mean.Quality mean.Price n  \n",
       "1 None         4.30         105652.9    37\n",
       "2 No           5.92         165680.4   954\n",
       "3 Mn           6.25         192789.7   114\n",
       "4 Av           6.57         206643.4   221\n",
       "5 Gd           6.96         257689.8   134"
      ]
     },
     "metadata": {},
     "output_type": "display_data"
    },
    {
     "data": {
      "image/png": "[encoded data removed]",
      "text/plain": [
       "plot without title"
      ]
     },
     "metadata": {},
     "output_type": "display_data"
    }
   ],
   "source": [
    "group.prices('BsmtExposure')"
   ]
  },
  {
   "cell_type": "code",
   "execution_count": 129,
   "metadata": {},
   "outputs": [],
   "source": [
    "bsmt.list <- c('None' = 0, 'No' = 1, 'Mn' = 2, 'Av' = 3, 'Gd' = 4)\n",
    "\n",
    "df.numeric = map.fcn(c('BsmtExposure'), bsmt.list, df.numeric)"
   ]
  },
  {
   "cell_type": "code",
   "execution_count": 130,
   "metadata": {
    "scrolled": true
   },
   "outputs": [
    {
     "data": {
      "text/html": [
       "<table>\n",
       "<thead><tr><th scope=col>BsmtFinType1</th><th scope=col>mean.Quality</th><th scope=col>mean.Price</th><th scope=col>n</th></tr></thead>\n",
       "<tbody>\n",
       "\t<tr><td>None    </td><td>4.30    </td><td>105652.9</td><td> 37     </td></tr>\n",
       "\t<tr><td>BLQ     </td><td>5.35    </td><td>149493.7</td><td>148     </td></tr>\n",
       "\t<tr><td>Rec     </td><td>5.35    </td><td>146889.2</td><td>133     </td></tr>\n",
       "\t<tr><td>LwQ     </td><td>5.54    </td><td>151852.7</td><td> 74     </td></tr>\n",
       "\t<tr><td>ALQ     </td><td>5.55    </td><td>161573.1</td><td>220     </td></tr>\n",
       "\t<tr><td>Unf     </td><td>6.20    </td><td>170670.6</td><td>430     </td></tr>\n",
       "\t<tr><td>GLQ     </td><td>7.05    </td><td>235413.7</td><td>418     </td></tr>\n",
       "</tbody>\n",
       "</table>\n"
      ],
      "text/latex": [
       "\\begin{tabular}{r|llll}\n",
       " BsmtFinType1 & mean.Quality & mean.Price & n\\\\\n",
       "\\hline\n",
       "\t None     & 4.30     & 105652.9 &  37     \\\\\n",
       "\t BLQ      & 5.35     & 149493.7 & 148     \\\\\n",
       "\t Rec      & 5.35     & 146889.2 & 133     \\\\\n",
       "\t LwQ      & 5.54     & 151852.7 &  74     \\\\\n",
       "\t ALQ      & 5.55     & 161573.1 & 220     \\\\\n",
       "\t Unf      & 6.20     & 170670.6 & 430     \\\\\n",
       "\t GLQ      & 7.05     & 235413.7 & 418     \\\\\n",
       "\\end{tabular}\n"
      ],
      "text/markdown": [
       "\n",
       "BsmtFinType1 | mean.Quality | mean.Price | n | \n",
       "|---|---|---|---|---|---|---|\n",
       "| None     | 4.30     | 105652.9 |  37      | \n",
       "| BLQ      | 5.35     | 149493.7 | 148      | \n",
       "| Rec      | 5.35     | 146889.2 | 133      | \n",
       "| LwQ      | 5.54     | 151852.7 |  74      | \n",
       "| ALQ      | 5.55     | 161573.1 | 220      | \n",
       "| Unf      | 6.20     | 170670.6 | 430      | \n",
       "| GLQ      | 7.05     | 235413.7 | 418      | \n",
       "\n",
       "\n"
      ],
      "text/plain": [
       "  BsmtFinType1 mean.Quality mean.Price n  \n",
       "1 None         4.30         105652.9    37\n",
       "2 BLQ          5.35         149493.7   148\n",
       "3 Rec          5.35         146889.2   133\n",
       "4 LwQ          5.54         151852.7    74\n",
       "5 ALQ          5.55         161573.1   220\n",
       "6 Unf          6.20         170670.6   430\n",
       "7 GLQ          7.05         235413.7   418"
      ]
     },
     "metadata": {},
     "output_type": "display_data"
    },
    {
     "data": {
      "image/png": "[encoded data removed]",
      "text/plain": [
       "plot without title"
      ]
     },
     "metadata": {},
     "output_type": "display_data"
    }
   ],
   "source": [
    "group.prices('BsmtFinType1')"
   ]
  },
  {
   "cell_type": "code",
   "execution_count": 131,
   "metadata": {},
   "outputs": [
    {
     "data": {
      "text/html": [
       "'Here returning the mean sale prices might not be as helpful as computing the median basement areas for both columns to determine which quality is better than the other.'"
      ],
      "text/latex": [
       "'Here returning the mean sale prices might not be as helpful as computing the median basement areas for both columns to determine which quality is better than the other.'"
      ],
      "text/markdown": [
       "'Here returning the mean sale prices might not be as helpful as computing the median basement areas for both columns to determine which quality is better than the other.'"
      ],
      "text/plain": [
       "[1] \"Here returning the mean sale prices might not be as helpful as computing the median basement areas for both columns to determine which quality is better than the other.\""
      ]
     },
     "metadata": {},
     "output_type": "display_data"
    }
   ],
   "source": [
    "#BsmtFinType1: Quality of basement finished area\n",
    "#BsmtFinSF1: Type 1 finished square feet\n",
    "\"Here returning the mean sale prices might not be as helpful as computing the median basement areas for both columns to determine which quality is better than the other.\""
   ]
  },
  {
   "cell_type": "code",
   "execution_count": 132,
   "metadata": {
    "scrolled": true
   },
   "outputs": [
    {
     "data": {},
     "metadata": {},
     "output_type": "display_data"
    },
    {
     "data": {
      "image/png": "[encoded data removed]",
      "text/plain": [
       "plot without title"
      ]
     },
     "metadata": {},
     "output_type": "display_data"
    }
   ],
   "source": [
    "# visualization for BsmtFinTyp2 instead of another table\n",
    "df.combined[,c('BsmtFinType1', 'BsmtFinSF1')] %>%\n",
    "  group_by(BsmtFinType1) %>%\n",
    "  summarise(medianArea = median(BsmtFinSF1), counts = n()) %>%\n",
    "  arrange(medianArea) %>%\n",
    "  ggplot(aes(x=reorder(BsmtFinType1,-medianArea), y=medianArea)) +\n",
    "  geom_bar(stat = 'identity', fill='cornflowerblue') +\n",
    "  labs(x='BsmtFinType2', y='Median of BsmtFinSF2') +\n",
    "  geom_text(aes(label = sort(medianArea)), vjust = -0.5) +\n",
    "  scale_y_continuous(limits = c(0,850)) +\n",
    "  theme_minimal()"
   ]
  },
  {
   "cell_type": "code",
   "execution_count": 134,
   "metadata": {},
   "outputs": [
    {
     "data": {
      "text/html": [
       "'Through investigating the relationships between the basement quality and areas we an see the true order of qualities of each basement to be ‘None’ &lt; ‘Unf’ &lt; ‘LwQ’ &lt; ‘BLQ’ &lt; ‘Rec’ &lt; ‘ALQ’ &lt; ‘GLQ’.'"
      ],
      "text/latex": [
       "'Through investigating the relationships between the basement quality and areas we an see the true order of qualities of each basement to be ‘None’ < ‘Unf’ < ‘LwQ’ < ‘BLQ’ < ‘Rec’ < ‘ALQ’ < ‘GLQ’.'"
      ],
      "text/markdown": [
       "'Through investigating the relationships between the basement quality and areas we an see the true order of qualities of each basement to be ‘None’ &lt; ‘Unf’ &lt; ‘LwQ’ &lt; ‘BLQ’ &lt; ‘Rec’ &lt; ‘ALQ’ &lt; ‘GLQ’.'"
      ],
      "text/plain": [
       "[1] \"Through investigating the relationships between the basement quality and areas we an see the true order of qualities of each basement to be None < Unf < LwQ < BLQ < Rec < ALQ < GLQ.\""
      ]
     },
     "metadata": {},
     "output_type": "display_data"
    }
   ],
   "source": [
    " \"Through investigating the relationships between the basement quality and areas we an see the true order of qualities of each basement to be ‘None’ < ‘Unf’ < ‘LwQ’ < ‘BLQ’ < ‘Rec’ < ‘ALQ’ < ‘GLQ’.\""
   ]
  },
  {
   "cell_type": "code",
   "execution_count": 135,
   "metadata": {},
   "outputs": [],
   "source": [
    "bsmt.fin.list <- c('None' = 0, 'Unf' = 1, 'LwQ' = 2,'Rec'= 3, 'BLQ' = 4, 'ALQ' = 5, 'GLQ' = 6)\n",
    "df.numeric <- map.fcn(c('BsmtFinType1','BsmtFinType2'), bsmt.fin.list, df.numeric)"
   ]
  },
  {
   "cell_type": "code",
   "execution_count": 137,
   "metadata": {},
   "outputs": [
    {
     "data": {
      "text/html": [
       "'This feature doesn’t really tell us much and functionality is very vague to tie which other features have a correlation with it. We can compute the mean sale prices for each functional category and assign numeric values accordingly.'"
      ],
      "text/latex": [
       "'This feature doesn’t really tell us much and functionality is very vague to tie which other features have a correlation with it. We can compute the mean sale prices for each functional category and assign numeric values accordingly.'"
      ],
      "text/markdown": [
       "'This feature doesn’t really tell us much and functionality is very vague to tie which other features have a correlation with it. We can compute the mean sale prices for each functional category and assign numeric values accordingly.'"
      ],
      "text/plain": [
       "[1] \"This feature doesnt really tell us much and functionality is very vague to tie which other features have a correlation with it. We can compute the mean sale prices for each functional category and assign numeric values accordingly.\""
      ]
     },
     "metadata": {},
     "output_type": "display_data"
    }
   ],
   "source": [
    "#Functional: Home functionality rating\n",
    "\"This feature doesn’t really tell us much and functionality is very vague to tie which other features have a correlation with it. We can compute the mean sale prices for each functional category and assign numeric values accordingly.\""
   ]
  },
  {
   "cell_type": "code",
   "execution_count": 138,
   "metadata": {
    "scrolled": true
   },
   "outputs": [
    {
     "data": {
      "text/html": [
       "<table>\n",
       "<thead><tr><th scope=col>Functional</th><th scope=col>mean.Quality</th><th scope=col>mean.Price</th><th scope=col>n</th></tr></thead>\n",
       "<tbody>\n",
       "\t<tr><td>Min2    </td><td>4.97    </td><td>144240.6</td><td>  34    </td></tr>\n",
       "\t<tr><td>Maj2    </td><td>5.00    </td><td> 85800.0</td><td>   5    </td></tr>\n",
       "\t<tr><td>Min1    </td><td>5.26    </td><td>146385.5</td><td>  31    </td></tr>\n",
       "\t<tr><td>Mod     </td><td>5.40    </td><td>168393.3</td><td>  15    </td></tr>\n",
       "\t<tr><td>Maj1    </td><td>5.50    </td><td>153948.1</td><td>  14    </td></tr>\n",
       "\t<tr><td>Sev     </td><td>6.00    </td><td>129000.0</td><td>   1    </td></tr>\n",
       "\t<tr><td>Typ     </td><td>6.16    </td><td>183429.1</td><td>1360    </td></tr>\n",
       "</tbody>\n",
       "</table>\n"
      ],
      "text/latex": [
       "\\begin{tabular}{r|llll}\n",
       " Functional & mean.Quality & mean.Price & n\\\\\n",
       "\\hline\n",
       "\t Min2     & 4.97     & 144240.6 &   34    \\\\\n",
       "\t Maj2     & 5.00     &  85800.0 &    5    \\\\\n",
       "\t Min1     & 5.26     & 146385.5 &   31    \\\\\n",
       "\t Mod      & 5.40     & 168393.3 &   15    \\\\\n",
       "\t Maj1     & 5.50     & 153948.1 &   14    \\\\\n",
       "\t Sev      & 6.00     & 129000.0 &    1    \\\\\n",
       "\t Typ      & 6.16     & 183429.1 & 1360    \\\\\n",
       "\\end{tabular}\n"
      ],
      "text/markdown": [
       "\n",
       "Functional | mean.Quality | mean.Price | n | \n",
       "|---|---|---|---|---|---|---|\n",
       "| Min2     | 4.97     | 144240.6 |   34     | \n",
       "| Maj2     | 5.00     |  85800.0 |    5     | \n",
       "| Min1     | 5.26     | 146385.5 |   31     | \n",
       "| Mod      | 5.40     | 168393.3 |   15     | \n",
       "| Maj1     | 5.50     | 153948.1 |   14     | \n",
       "| Sev      | 6.00     | 129000.0 |    1     | \n",
       "| Typ      | 6.16     | 183429.1 | 1360     | \n",
       "\n",
       "\n"
      ],
      "text/plain": [
       "  Functional mean.Quality mean.Price n   \n",
       "1 Min2       4.97         144240.6     34\n",
       "2 Maj2       5.00          85800.0      5\n",
       "3 Min1       5.26         146385.5     31\n",
       "4 Mod        5.40         168393.3     15\n",
       "5 Maj1       5.50         153948.1     14\n",
       "6 Sev        6.00         129000.0      1\n",
       "7 Typ        6.16         183429.1   1360"
      ]
     },
     "metadata": {},
     "output_type": "display_data"
    },
    {
     "data": {
      "image/png": "[encoded data removed]",
      "text/plain": [
       "plot without title"
      ]
     },
     "metadata": {},
     "output_type": "display_data"
    }
   ],
   "source": [
    "group.prices('Functional')"
   ]
  },
  {
   "cell_type": "code",
   "execution_count": 139,
   "metadata": {},
   "outputs": [],
   "source": [
    "functional.list <- c('None' = 0, 'Sal' = 1, 'Sev' = 2, 'Maj2' = 3, 'Maj1' = 4, 'Mod' = 5, 'Min2' = 6, 'Min1' = 7, 'Typ'= 8)\n",
    "\n",
    "df.numeric['Functional'] <- as.numeric(functional.list[df.combined$Functional])"
   ]
  },
  {
   "cell_type": "code",
   "execution_count": 140,
   "metadata": {},
   "outputs": [
    {
     "data": {
      "text/html": [
       "'We’ll continue to do the same for GarageFinish and Fence:'"
      ],
      "text/latex": [
       "'We’ll continue to do the same for GarageFinish and Fence:'"
      ],
      "text/markdown": [
       "'We’ll continue to do the same for GarageFinish and Fence:'"
      ],
      "text/plain": [
       "[1] \"Well continue to do the same for GarageFinish and Fence:\""
      ]
     },
     "metadata": {},
     "output_type": "display_data"
    }
   ],
   "source": [
    "\"We’ll continue to do the same for GarageFinish and Fence:\""
   ]
  },
  {
   "cell_type": "code",
   "execution_count": 141,
   "metadata": {
    "scrolled": true
   },
   "outputs": [
    {
     "data": {
      "text/html": [
       "<table>\n",
       "<thead><tr><th scope=col>GarageFinish</th><th scope=col>mean.Quality</th><th scope=col>mean.Price</th><th scope=col>n</th></tr></thead>\n",
       "<tbody>\n",
       "\t<tr><td>None    </td><td>4.60    </td><td>103317.3</td><td> 81     </td></tr>\n",
       "\t<tr><td>Unf     </td><td>5.40    </td><td>142156.4</td><td>605     </td></tr>\n",
       "\t<tr><td>RFn     </td><td>6.57    </td><td>202068.9</td><td>422     </td></tr>\n",
       "\t<tr><td>Fin     </td><td>7.07    </td><td>240052.7</td><td>352     </td></tr>\n",
       "</tbody>\n",
       "</table>\n"
      ],
      "text/latex": [
       "\\begin{tabular}{r|llll}\n",
       " GarageFinish & mean.Quality & mean.Price & n\\\\\n",
       "\\hline\n",
       "\t None     & 4.60     & 103317.3 &  81     \\\\\n",
       "\t Unf      & 5.40     & 142156.4 & 605     \\\\\n",
       "\t RFn      & 6.57     & 202068.9 & 422     \\\\\n",
       "\t Fin      & 7.07     & 240052.7 & 352     \\\\\n",
       "\\end{tabular}\n"
      ],
      "text/markdown": [
       "\n",
       "GarageFinish | mean.Quality | mean.Price | n | \n",
       "|---|---|---|---|\n",
       "| None     | 4.60     | 103317.3 |  81      | \n",
       "| Unf      | 5.40     | 142156.4 | 605      | \n",
       "| RFn      | 6.57     | 202068.9 | 422      | \n",
       "| Fin      | 7.07     | 240052.7 | 352      | \n",
       "\n",
       "\n"
      ],
      "text/plain": [
       "  GarageFinish mean.Quality mean.Price n  \n",
       "1 None         4.60         103317.3    81\n",
       "2 Unf          5.40         142156.4   605\n",
       "3 RFn          6.57         202068.9   422\n",
       "4 Fin          7.07         240052.7   352"
      ]
     },
     "metadata": {},
     "output_type": "display_data"
    },
    {
     "data": {
      "image/png": "[encoded data removed]",
      "text/plain": [
       "plot without title"
      ]
     },
     "metadata": {},
     "output_type": "display_data"
    }
   ],
   "source": [
    "group.prices('GarageFinish')"
   ]
  },
  {
   "cell_type": "code",
   "execution_count": 142,
   "metadata": {
    "scrolled": true
   },
   "outputs": [
    {
     "data": {
      "text/html": [
       "<table>\n",
       "<thead><tr><th scope=col>Fence</th><th scope=col>mean.Quality</th><th scope=col>mean.Price</th><th scope=col>n</th></tr></thead>\n",
       "<tbody>\n",
       "\t<tr><td>GdWo    </td><td>5.17    </td><td>140379.3</td><td>  54    </td></tr>\n",
       "\t<tr><td>MnWw    </td><td>5.18    </td><td>134286.4</td><td>  11    </td></tr>\n",
       "\t<tr><td>MnPrv   </td><td>5.45    </td><td>148751.1</td><td> 157    </td></tr>\n",
       "\t<tr><td>None    </td><td>6.23    </td><td>187596.8</td><td>1179    </td></tr>\n",
       "\t<tr><td>GdPrv   </td><td>6.31    </td><td>178927.5</td><td>  59    </td></tr>\n",
       "</tbody>\n",
       "</table>\n"
      ],
      "text/latex": [
       "\\begin{tabular}{r|llll}\n",
       " Fence & mean.Quality & mean.Price & n\\\\\n",
       "\\hline\n",
       "\t GdWo     & 5.17     & 140379.3 &   54    \\\\\n",
       "\t MnWw     & 5.18     & 134286.4 &   11    \\\\\n",
       "\t MnPrv    & 5.45     & 148751.1 &  157    \\\\\n",
       "\t None     & 6.23     & 187596.8 & 1179    \\\\\n",
       "\t GdPrv    & 6.31     & 178927.5 &   59    \\\\\n",
       "\\end{tabular}\n"
      ],
      "text/markdown": [
       "\n",
       "Fence | mean.Quality | mean.Price | n | \n",
       "|---|---|---|---|---|\n",
       "| GdWo     | 5.17     | 140379.3 |   54     | \n",
       "| MnWw     | 5.18     | 134286.4 |   11     | \n",
       "| MnPrv    | 5.45     | 148751.1 |  157     | \n",
       "| None     | 6.23     | 187596.8 | 1179     | \n",
       "| GdPrv    | 6.31     | 178927.5 |   59     | \n",
       "\n",
       "\n"
      ],
      "text/plain": [
       "  Fence mean.Quality mean.Price n   \n",
       "1 GdWo  5.17         140379.3     54\n",
       "2 MnWw  5.18         134286.4     11\n",
       "3 MnPrv 5.45         148751.1    157\n",
       "4 None  6.23         187596.8   1179\n",
       "5 GdPrv 6.31         178927.5     59"
      ]
     },
     "metadata": {},
     "output_type": "display_data"
    },
    {
     "data": {
      "image/png": "[encoded data removed]",
      "text/plain": [
       "plot without title"
      ]
     },
     "metadata": {},
     "output_type": "display_data"
    }
   ],
   "source": [
    "garage.fin.list <- c('None' = 0,'Unf' = 1, 'RFn' = 1, 'Fin' = 2)\n",
    "\n",
    "df.numeric['GarageFinish'] <- as.numeric(garage.fin.list[df.combined$GarageFinish])\n",
    "\n",
    "\n",
    "group.prices('Fence')"
   ]
  },
  {
   "cell_type": "code",
   "execution_count": 143,
   "metadata": {},
   "outputs": [],
   "source": [
    "fence.list <- c('None' = 0, 'MnWw' = 1, 'GdWo' = 1, 'MnPrv' = 2, 'GdPrv' = 4)\n",
    "\n",
    "df.numeric['Fence'] <- as.numeric(fence.list[df.combined$Fence])\n",
    "\n",
    "MSdwelling.list <- c('20' = 1, '30'= 0, '40' = 0, '45' = 0,'50' = 0, '60' = 1, '70' = 0, '75' = 0, '80' = 0, '85' = 0, '90' = 0, '120' = 1, '150' = 0, '160' = 0, '180' = 0, '190' = 0)\n",
    "\n",
    "df.numeric['NewerDwelling'] <- as.numeric(MSdwelling.list[as.character(df.combined$MSSubClass)])"
   ]
  },
  {
   "cell_type": "code",
   "execution_count": 144,
   "metadata": {},
   "outputs": [
    {
     "data": {
      "image/png": "[encoded data removed]",
      "text/plain": [
       "Plot with title \"\""
      ]
     },
     "metadata": {},
     "output_type": "display_data"
    }
   ],
   "source": [
    "# Correlation\n",
    "# need the SalePrice column\n",
    "corr.df <- cbind(df.numeric[1:1460,], train['SalePrice'])\n",
    "\n",
    "# only using the first 1460 rows - training data\n",
    "correlations <- cor(corr.df)\n",
    "# only want the columns that show strong correlations with SalePrice\n",
    "corr.SalePrice <- as.matrix(sort(correlations[,'SalePrice'], decreasing = TRUE))\n",
    "\n",
    "corr.idx <- names(which(apply(corr.SalePrice, 1, function(x) (x > 0.5 | x < -0.5))))\n",
    "\n",
    "corrplot(as.matrix(correlations[corr.idx,corr.idx]), type = 'upper', method='color', addCoef.col = 'black', tl.cex = .7,cl.cex = .7, number.cex=.7)"
   ]
  },
  {
   "cell_type": "code",
   "execution_count": 151,
   "metadata": {
    "scrolled": true
   },
   "outputs": [
    {
     "name": "stderr",
     "output_type": "stream",
     "text": [
      "Warning message in simpleLoess(y, x, w, span, degree = degree, parametric = parametric, :\n",
      "\"pseudoinverse used at 1.985\"Warning message in simpleLoess(y, x, w, span, degree = degree, parametric = parametric, :\n",
      "\"neighborhood radius 2.015\"Warning message in simpleLoess(y, x, w, span, degree = degree, parametric = parametric, :\n",
      "\"reciprocal condition number  1.3045e-016\"Warning message in simpleLoess(y, x, w, span, degree = degree, parametric = parametric, :\n",
      "\"There are other near singularities as well. 4.0602\"Warning message in predLoess(object$y, object$x, newx = if (is.null(newdata)) object$x else if (is.data.frame(newdata)) as.matrix(model.frame(delete.response(terms(object)), :\n",
      "\"pseudoinverse used at 1.985\"Warning message in predLoess(object$y, object$x, newx = if (is.null(newdata)) object$x else if (is.data.frame(newdata)) as.matrix(model.frame(delete.response(terms(object)), :\n",
      "\"neighborhood radius 2.015\"Warning message in predLoess(object$y, object$x, newx = if (is.null(newdata)) object$x else if (is.data.frame(newdata)) as.matrix(model.frame(delete.response(terms(object)), :\n",
      "\"reciprocal condition number  1.3045e-016\"Warning message in predLoess(object$y, object$x, newx = if (is.null(newdata)) object$x else if (is.data.frame(newdata)) as.matrix(model.frame(delete.response(terms(object)), :\n",
      "\"There are other near singularities as well. 4.0602\"Warning message in simpleLoess(y, x, w, span, degree = degree, parametric = parametric, :\n",
      "\"pseudoinverse used at 1.985\"Warning message in simpleLoess(y, x, w, span, degree = degree, parametric = parametric, :\n",
      "\"neighborhood radius 2.015\"Warning message in simpleLoess(y, x, w, span, degree = degree, parametric = parametric, :\n",
      "\"reciprocal condition number  1.3045e-016\"Warning message in simpleLoess(y, x, w, span, degree = degree, parametric = parametric, :\n",
      "\"There are other near singularities as well. 4.0602\"Warning message in predLoess(object$y, object$x, newx = if (is.null(newdata)) object$x else if (is.data.frame(newdata)) as.matrix(model.frame(delete.response(terms(object)), :\n",
      "\"pseudoinverse used at 1.985\"Warning message in predLoess(object$y, object$x, newx = if (is.null(newdata)) object$x else if (is.data.frame(newdata)) as.matrix(model.frame(delete.response(terms(object)), :\n",
      "\"neighborhood radius 2.015\"Warning message in predLoess(object$y, object$x, newx = if (is.null(newdata)) object$x else if (is.data.frame(newdata)) as.matrix(model.frame(delete.response(terms(object)), :\n",
      "\"reciprocal condition number  1.3045e-016\"Warning message in predLoess(object$y, object$x, newx = if (is.null(newdata)) object$x else if (is.data.frame(newdata)) as.matrix(model.frame(delete.response(terms(object)), :\n",
      "\"There are other near singularities as well. 4.0602\"Warning message in simpleLoess(y, x, w, span, degree = degree, parametric = parametric, :\n",
      "\"pseudoinverse used at 1.985\"Warning message in simpleLoess(y, x, w, span, degree = degree, parametric = parametric, :\n",
      "\"neighborhood radius 2.015\"Warning message in simpleLoess(y, x, w, span, degree = degree, parametric = parametric, :\n",
      "\"reciprocal condition number  7.088e-017\"Warning message in simpleLoess(y, x, w, span, degree = degree, parametric = parametric, :\n",
      "\"There are other near singularities as well. 4.0602\"Warning message in predLoess(object$y, object$x, newx = if (is.null(newdata)) object$x else if (is.data.frame(newdata)) as.matrix(model.frame(delete.response(terms(object)), :\n",
      "\"pseudoinverse used at 1.985\"Warning message in predLoess(object$y, object$x, newx = if (is.null(newdata)) object$x else if (is.data.frame(newdata)) as.matrix(model.frame(delete.response(terms(object)), :\n",
      "\"neighborhood radius 2.015\"Warning message in predLoess(object$y, object$x, newx = if (is.null(newdata)) object$x else if (is.data.frame(newdata)) as.matrix(model.frame(delete.response(terms(object)), :\n",
      "\"reciprocal condition number  7.088e-017\"Warning message in predLoess(object$y, object$x, newx = if (is.null(newdata)) object$x else if (is.data.frame(newdata)) as.matrix(model.frame(delete.response(terms(object)), :\n",
      "\"There are other near singularities as well. 4.0602\""
     ]
    },
    {
     "data": {},
     "metadata": {},
     "output_type": "display_data"
    },
    {
     "data": {
      "image/png": "[encoded data removed]",
      "text/plain": [
       "plot without title"
      ]
     },
     "metadata": {},
     "output_type": "display_data"
    }
   ],
   "source": [
    "lm.plt <- function(data, mapping, ...){\n",
    "   plt <- ggplot(data = data, mapping = mapping) + \n",
    "    geom_point(shape = 20, alpha = 0.7, color = 'darkseagreen') +\n",
    "    geom_smooth(method=loess, fill=\"red\", color=\"red\") +\n",
    "    geom_smooth(method=lm, fill=\"blue\", color=\"blue\") +\n",
    "    theme_minimal()\n",
    "  return(plt)\n",
    "}\n",
    "\n",
    "ggpairs(corr.df, corr.idx[1:6], lower = list(continuous = lm.plt))"
   ]
  },
  {
   "cell_type": "code",
   "execution_count": 152,
   "metadata": {},
   "outputs": [
    {
     "data": {
      "text/html": [
       "'The blue lines in the scatter plots represent a simple linear regression fit while the red lines represent a local polynomial fit. We can see both OverallQual and GrLivArea and TotalBsmtSF follow a linear model, but have some outliers we may want to look into. For instance, there are multiple houses with an overall quality of 10, but have suspisciously low prices. We can see similar behavior in GrLivArea and TotalBsmtSF. GarageCars and GarageArea both follow more of a quadratic fit. It seems that having a 4 car garage does not result in a higher house price and same with an extremely large area.'"
      ],
      "text/latex": [
       "'The blue lines in the scatter plots represent a simple linear regression fit while the red lines represent a local polynomial fit. We can see both OverallQual and GrLivArea and TotalBsmtSF follow a linear model, but have some outliers we may want to look into. For instance, there are multiple houses with an overall quality of 10, but have suspisciously low prices. We can see similar behavior in GrLivArea and TotalBsmtSF. GarageCars and GarageArea both follow more of a quadratic fit. It seems that having a 4 car garage does not result in a higher house price and same with an extremely large area.'"
      ],
      "text/markdown": [
       "'The blue lines in the scatter plots represent a simple linear regression fit while the red lines represent a local polynomial fit. We can see both OverallQual and GrLivArea and TotalBsmtSF follow a linear model, but have some outliers we may want to look into. For instance, there are multiple houses with an overall quality of 10, but have suspisciously low prices. We can see similar behavior in GrLivArea and TotalBsmtSF. GarageCars and GarageArea both follow more of a quadratic fit. It seems that having a 4 car garage does not result in a higher house price and same with an extremely large area.'"
      ],
      "text/plain": [
       "[1] \"The blue lines in the scatter plots represent a simple linear regression fit while the red lines represent a local polynomial fit. We can see both OverallQual and GrLivArea and TotalBsmtSF follow a linear model, but have some outliers we may want to look into. For instance, there are multiple houses with an overall quality of 10, but have suspisciously low prices. We can see similar behavior in GrLivArea and TotalBsmtSF. GarageCars and GarageArea both follow more of a quadratic fit. It seems that having a 4 car garage does not result in a higher house price and same with an extremely large area.\""
      ]
     },
     "metadata": {},
     "output_type": "display_data"
    }
   ],
   "source": [
    "\"The blue lines in the scatter plots represent a simple linear regression fit while the red lines represent a local polynomial fit. We can see both OverallQual and GrLivArea and TotalBsmtSF follow a linear model, but have some outliers we may want to look into. For instance, there are multiple houses with an overall quality of 10, but have suspisciously low prices. We can see similar behavior in GrLivArea and TotalBsmtSF. GarageCars and GarageArea both follow more of a quadratic fit. It seems that having a 4 car garage does not result in a higher house price and same with an extremely large area.\""
   ]
  },
  {
   "cell_type": "code",
   "execution_count": 153,
   "metadata": {
    "scrolled": true
   },
   "outputs": [
    {
     "name": "stderr",
     "output_type": "stream",
     "text": [
      "Warning message in simpleLoess(y, x, w, span, degree = degree, parametric = parametric, :\n",
      "\"pseudoinverse used at 5.025\"Warning message in simpleLoess(y, x, w, span, degree = degree, parametric = parametric, :\n",
      "\"neighborhood radius 2.025\"Warning message in simpleLoess(y, x, w, span, degree = degree, parametric = parametric, :\n",
      "\"reciprocal condition number  1.1943e-016\"Warning message in simpleLoess(y, x, w, span, degree = degree, parametric = parametric, :\n",
      "\"There are other near singularities as well. 1\"Warning message in predLoess(object$y, object$x, newx = if (is.null(newdata)) object$x else if (is.data.frame(newdata)) as.matrix(model.frame(delete.response(terms(object)), :\n",
      "\"pseudoinverse used at 5.025\"Warning message in predLoess(object$y, object$x, newx = if (is.null(newdata)) object$x else if (is.data.frame(newdata)) as.matrix(model.frame(delete.response(terms(object)), :\n",
      "\"neighborhood radius 2.025\"Warning message in predLoess(object$y, object$x, newx = if (is.null(newdata)) object$x else if (is.data.frame(newdata)) as.matrix(model.frame(delete.response(terms(object)), :\n",
      "\"reciprocal condition number  1.1943e-016\"Warning message in predLoess(object$y, object$x, newx = if (is.null(newdata)) object$x else if (is.data.frame(newdata)) as.matrix(model.frame(delete.response(terms(object)), :\n",
      "\"There are other near singularities as well. 1\""
     ]
    },
    {
     "data": {},
     "metadata": {},
     "output_type": "display_data"
    },
    {
     "data": {
      "image/png": "[encoded data removed]",
      "text/plain": [
       "plot without title"
      ]
     },
     "metadata": {},
     "output_type": "display_data"
    }
   ],
   "source": [
    "ggpairs(corr.df, corr.idx[c(1,7:11)], lower = list(continuous = lm.plt))"
   ]
  },
  {
   "cell_type": "code",
   "execution_count": 154,
   "metadata": {},
   "outputs": [
    {
     "data": {
      "text/html": [
       "'More of the same with the remaining features with 1stFlrSF, FullBath, TotRmsAbvGrd following linear model while YearBuilt and YearRemodAdd both having non-linear/quadratic models. Taking a closer look to YearBuilt and YearRemodAdd we can see that the most expensive homes are the most recently built and remodelled.'"
      ],
      "text/latex": [
       "'More of the same with the remaining features with 1stFlrSF, FullBath, TotRmsAbvGrd following linear model while YearBuilt and YearRemodAdd both having non-linear/quadratic models. Taking a closer look to YearBuilt and YearRemodAdd we can see that the most expensive homes are the most recently built and remodelled.'"
      ],
      "text/markdown": [
       "'More of the same with the remaining features with 1stFlrSF, FullBath, TotRmsAbvGrd following linear model while YearBuilt and YearRemodAdd both having non-linear/quadratic models. Taking a closer look to YearBuilt and YearRemodAdd we can see that the most expensive homes are the most recently built and remodelled.'"
      ],
      "text/plain": [
       "[1] \"More of the same with the remaining features with 1stFlrSF, FullBath, TotRmsAbvGrd following linear model while YearBuilt and YearRemodAdd both having non-linear/quadratic models. Taking a closer look to YearBuilt and YearRemodAdd we can see that the most expensive homes are the most recently built and remodelled.\""
      ]
     },
     "metadata": {},
     "output_type": "display_data"
    }
   ],
   "source": [
    "\"More of the same with the remaining features with 1stFlrSF, FullBath, TotRmsAbvGrd following linear model while YearBuilt and YearRemodAdd both having non-linear/quadratic models. Taking a closer look to YearBuilt and YearRemodAdd we can see that the most expensive homes are the most recently built and remodelled.\""
   ]
  },
  {
   "cell_type": "code",
   "execution_count": 155,
   "metadata": {},
   "outputs": [
    {
     "data": {
      "text/html": [
       "'Now for some of the nominal variables we can take one of the categories that is distict from the others and create a binary feature that returns 1 if the house has that specific value and 0 if it does not.'"
      ],
      "text/latex": [
       "'Now for some of the nominal variables we can take one of the categories that is distict from the others and create a binary feature that returns 1 if the house has that specific value and 0 if it does not.'"
      ],
      "text/markdown": [
       "'Now for some of the nominal variables we can take one of the categories that is distict from the others and create a binary feature that returns 1 if the house has that specific value and 0 if it does not.'"
      ],
      "text/plain": [
       "[1] \"Now for some of the nominal variables we can take one of the categories that is distict from the others and create a binary feature that returns 1 if the house has that specific value and 0 if it does not.\""
      ]
     },
     "metadata": {},
     "output_type": "display_data"
    }
   ],
   "source": [
    "\"Now for some of the nominal variables we can take one of the categories that is distict from the others and create a binary feature that returns 1 if the house has that specific value and 0 if it does not.\""
   ]
  },
  {
   "cell_type": "code",
   "execution_count": 156,
   "metadata": {
    "scrolled": true
   },
   "outputs": [
    {
     "data": {
      "image/png": "[encoded data removed]",
      "text/plain": [
       "plot without title"
      ]
     },
     "metadata": {},
     "output_type": "display_data"
    }
   ],
   "source": [
    "plot.categoric('LotShape', df.combined)"
   ]
  },
  {
   "cell_type": "code",
   "execution_count": 157,
   "metadata": {},
   "outputs": [],
   "source": [
    "df.numeric['RegularLotShape'] <- (df.combined$LotShape == 'Reg') * 1"
   ]
  },
  {
   "cell_type": "code",
   "execution_count": 158,
   "metadata": {},
   "outputs": [],
   "source": [
    "#LandContour: Flatness of the property\n",
    "#LandSlope: Slope of property\n",
    "#Electrical: Electrical system\n",
    "#GarageType: Garage location\n",
    "#PavedDrive: Paved driveway\n",
    "#MiscFeature: Miscellaneous feature not covered in other categories"
   ]
  },
  {
   "cell_type": "code",
   "execution_count": 159,
   "metadata": {
    "scrolled": true
   },
   "outputs": [
    {
     "data": {
      "image/png": "[encoded data removed]",
      "text/plain": [
       "plot without title"
      ]
     },
     "metadata": {},
     "output_type": "display_data"
    }
   ],
   "source": [
    "plot.categoric('LandContour', df.combined)"
   ]
  },
  {
   "cell_type": "code",
   "execution_count": 160,
   "metadata": {
    "scrolled": true
   },
   "outputs": [
    {
     "data": {
      "image/png": "[encoded data removed]",
      "text/plain": [
       "plot without title"
      ]
     },
     "metadata": {},
     "output_type": "display_data"
    }
   ],
   "source": [
    "df.numeric['LandLeveled'] <- (df.combined$LandContour == 'Lvl') * 1\n",
    "\n",
    "plot.categoric('LandSlope', df.combined)"
   ]
  },
  {
   "cell_type": "code",
   "execution_count": 161,
   "metadata": {
    "scrolled": true
   },
   "outputs": [
    {
     "data": {
      "image/png": "[encoded data removed]",
      "text/plain": [
       "plot without title"
      ]
     },
     "metadata": {},
     "output_type": "display_data"
    }
   ],
   "source": [
    "df.numeric['LandSlopeGentle'] <- (df.combined$LandSlope == 'Gtl') * 1\n",
    "\n",
    "plot.categoric('Electrical', df.combined)"
   ]
  },
  {
   "cell_type": "code",
   "execution_count": 162,
   "metadata": {
    "scrolled": true
   },
   "outputs": [
    {
     "data": {
      "image/png": "[encoded data removed]",
      "text/plain": [
       "plot without title"
      ]
     },
     "metadata": {},
     "output_type": "display_data"
    }
   ],
   "source": [
    "df.numeric['ElectricalSB'] <- (df.combined$Electrical == 'SBrkr') * 1\n",
    "\n",
    "plot.categoric('GarageType', df.combined)"
   ]
  },
  {
   "cell_type": "code",
   "execution_count": 163,
   "metadata": {
    "scrolled": true
   },
   "outputs": [
    {
     "data": {
      "image/png": "[encoded data removed]",
      "text/plain": [
       "plot without title"
      ]
     },
     "metadata": {},
     "output_type": "display_data"
    }
   ],
   "source": [
    "df.numeric['GarageDetchd'] <- (df.combined$GarageType == 'Detchd') * 1\n",
    "\n",
    "plot.categoric('PavedDrive', df.combined)"
   ]
  },
  {
   "cell_type": "code",
   "execution_count": 164,
   "metadata": {},
   "outputs": [],
   "source": [
    "df.numeric['HasPavedDrive'] <- (df.combined$PavedDrive == 'Y') * 1\n",
    "\n",
    "df.numeric['HasWoodDeck'] <- (df.combined$WoodDeckSF > 0) * 1\n",
    "\n",
    "df.numeric['Has2ndFlr'] <- (df.combined$X2ndFlrSF > 0) * 1\n",
    "\n",
    "df.numeric['HasMasVnr'] <- (df.combined$MasVnrArea > 0) * 1"
   ]
  },
  {
   "cell_type": "code",
   "execution_count": 165,
   "metadata": {
    "scrolled": true
   },
   "outputs": [
    {
     "data": {
      "image/png": "[encoded data removed]",
      "text/plain": [
       "plot without title"
      ]
     },
     "metadata": {},
     "output_type": "display_data"
    }
   ],
   "source": [
    "plot.categoric('MiscFeature', df.combined)"
   ]
  },
  {
   "cell_type": "code",
   "execution_count": 166,
   "metadata": {},
   "outputs": [],
   "source": [
    "df.numeric['HasShed'] <- (df.combined$MiscFeature == 'Shed') * 1"
   ]
  },
  {
   "cell_type": "code",
   "execution_count": 167,
   "metadata": {},
   "outputs": [
    {
     "data": {
      "text/html": [
       "'Many of the houses recorded the same year for YearBuilt and YearRemodAdd. We can create a new column that records that a house was remodelled if the year it was built is different than the remodel year. This'"
      ],
      "text/latex": [
       "'Many of the houses recorded the same year for YearBuilt and YearRemodAdd. We can create a new column that records that a house was remodelled if the year it was built is different than the remodel year. This'"
      ],
      "text/markdown": [
       "'Many of the houses recorded the same year for YearBuilt and YearRemodAdd. We can create a new column that records that a house was remodelled if the year it was built is different than the remodel year. This'"
      ],
      "text/plain": [
       "[1] \"Many of the houses recorded the same year for YearBuilt and YearRemodAdd. We can create a new column that records that a house was remodelled if the year it was built is different than the remodel year. This\""
      ]
     },
     "metadata": {},
     "output_type": "display_data"
    }
   ],
   "source": [
    "#YearBuilt: Original construction date\n",
    "#YearRemodAdd: Remodel date\n",
    "\"Many of the houses recorded the same year for YearBuilt and YearRemodAdd. We can create a new column that records that a house was remodelled if the year it was built is different than the remodel year. This\""
   ]
  },
  {
   "cell_type": "code",
   "execution_count": 168,
   "metadata": {},
   "outputs": [],
   "source": [
    "df.numeric['Remodeled'] <- (df.combined$YearBuilt != df.combined$YearRemodAdd) * 1"
   ]
  },
  {
   "cell_type": "code",
   "execution_count": 169,
   "metadata": {},
   "outputs": [
    {
     "data": {
      "text/html": [
       "'We can also create a column that seperates which houses have been recently remodelled vs those who are not. Houses that have been remodelled after the year they were sold will fall into this category.'"
      ],
      "text/latex": [
       "'We can also create a column that seperates which houses have been recently remodelled vs those who are not. Houses that have been remodelled after the year they were sold will fall into this category.'"
      ],
      "text/markdown": [
       "'We can also create a column that seperates which houses have been recently remodelled vs those who are not. Houses that have been remodelled after the year they were sold will fall into this category.'"
      ],
      "text/plain": [
       "[1] \"We can also create a column that seperates which houses have been recently remodelled vs those who are not. Houses that have been remodelled after the year they were sold will fall into this category.\""
      ]
     },
     "metadata": {},
     "output_type": "display_data"
    }
   ],
   "source": [
    "\"We can also create a column that seperates which houses have been recently remodelled vs those who are not. Houses that have been remodelled after the year they were sold will fall into this category.\""
   ]
  },
  {
   "cell_type": "code",
   "execution_count": 170,
   "metadata": {},
   "outputs": [],
   "source": [
    "df.numeric['RecentRemodel'] <- (df.combined$YearRemodAdd >= df.combined$YrSold) * 1"
   ]
  },
  {
   "cell_type": "code",
   "execution_count": 172,
   "metadata": {},
   "outputs": [
    {
     "data": {
      "text/html": [
       "'There can be potential value to homes who were sold the same year they were built as this could be an indicator that these houses were hot in the market.'"
      ],
      "text/latex": [
       "'There can be potential value to homes who were sold the same year they were built as this could be an indicator that these houses were hot in the market.'"
      ],
      "text/markdown": [
       "'There can be potential value to homes who were sold the same year they were built as this could be an indicator that these houses were hot in the market.'"
      ],
      "text/plain": [
       "[1] \"There can be potential value to homes who were sold the same year they were built as this could be an indicator that these houses were hot in the market.\""
      ]
     },
     "metadata": {},
     "output_type": "display_data"
    }
   ],
   "source": [
    "\"There can be potential value to homes who were sold the same year they were built as this could be an indicator that these houses were hot in the market.\""
   ]
  },
  {
   "cell_type": "code",
   "execution_count": 173,
   "metadata": {},
   "outputs": [],
   "source": [
    "cols.binary <- c('X2ndFlrSF', 'MasVnrArea', 'WoodDeckSF', 'OpenPorchSF', 'EnclosedPorch', 'X3SsnPorch', 'ScreenPorch')\n",
    "\n",
    "for (col in cols.binary){\n",
    "  df.numeric[str_c('Has',col)] <- (df.combined[,col] != 0) * 1\n",
    "}"
   ]
  },
  {
   "cell_type": "code",
   "execution_count": 174,
   "metadata": {},
   "outputs": [
    {
     "data": {
      "text/html": [
       "'We know how important the year a house was built and sold but what about what the specific month it was sold? How do houses sold during summer compare to the other seasons?'"
      ],
      "text/latex": [
       "'We know how important the year a house was built and sold but what about what the specific month it was sold? How do houses sold during summer compare to the other seasons?'"
      ],
      "text/markdown": [
       "'We know how important the year a house was built and sold but what about what the specific month it was sold? How do houses sold during summer compare to the other seasons?'"
      ],
      "text/plain": [
       "[1] \"We know how important the year a house was built and sold but what about what the specific month it was sold? How do houses sold during summer compare to the other seasons?\""
      ]
     },
     "metadata": {},
     "output_type": "display_data"
    }
   ],
   "source": [
    "\"We know how important the year a house was built and sold but what about what the specific month it was sold? How do houses sold during summer compare to the other seasons?\""
   ]
  },
  {
   "cell_type": "code",
   "execution_count": 175,
   "metadata": {
    "scrolled": true
   },
   "outputs": [
    {
     "data": {},
     "metadata": {},
     "output_type": "display_data"
    },
    {
     "data": {
      "image/png": "[encoded data removed]",
      "text/plain": [
       "plot without title"
      ]
     },
     "metadata": {},
     "output_type": "display_data"
    }
   ],
   "source": [
    "ggplot(df.combined, aes(x=MoSold)) +\n",
    "  geom_bar(fill = 'cornflowerblue') +\n",
    "  geom_text(aes(label=..count..), stat='count', vjust = -.5) +\n",
    "  theme_minimal() +\n",
    "  scale_x_continuous(breaks = 1:12)"
   ]
  },
  {
   "cell_type": "code",
   "execution_count": 176,
   "metadata": {},
   "outputs": [
    {
     "data": {
      "text/html": [
       "'The largest proportion of houses sold is during the summer months: May, June, July. Let’s add a column that seperates the the summer houses from the rest.'"
      ],
      "text/latex": [
       "'The largest proportion of houses sold is during the summer months: May, June, July. Let’s add a column that seperates the the summer houses from the rest.'"
      ],
      "text/markdown": [
       "'The largest proportion of houses sold is during the summer months: May, June, July. Let’s add a column that seperates the the summer houses from the rest.'"
      ],
      "text/plain": [
       "[1] \"The largest proportion of houses sold is during the summer months: May, June, July. Lets add a column that seperates the the summer houses from the rest.\""
      ]
     },
     "metadata": {},
     "output_type": "display_data"
    }
   ],
   "source": [
    "\"The largest proportion of houses sold is during the summer months: May, June, July. Let’s add a column that seperates the the summer houses from the rest.\""
   ]
  },
  {
   "cell_type": "code",
   "execution_count": 177,
   "metadata": {},
   "outputs": [],
   "source": [
    "df.numeric['HighSeason'] <- (df.combined$MoSold %in% c(5,6,7)) * 1"
   ]
  },
  {
   "cell_type": "code",
   "execution_count": 179,
   "metadata": {},
   "outputs": [
    {
     "data": {
      "text/html": [
       "'Lets check which if we can create a variable with respect to richness of neighborhood'"
      ],
      "text/latex": [
       "'Lets check which if we can create a variable with respect to richness of neighborhood'"
      ],
      "text/markdown": [
       "'Lets check which if we can create a variable with respect to richness of neighborhood'"
      ],
      "text/plain": [
       "[1] \"Lets check which if we can create a variable with respect to richness of neighborhood\""
      ]
     },
     "metadata": {},
     "output_type": "display_data"
    }
   ],
   "source": [
    "\"Lets check which if we can create a variable with respect to richness of neighborhood\""
   ]
  },
  {
   "cell_type": "code",
   "execution_count": 180,
   "metadata": {
    "scrolled": true
   },
   "outputs": [
    {
     "data": {},
     "metadata": {},
     "output_type": "display_data"
    },
    {
     "data": {
      "image/png": "[encoded data removed]",
      "text/plain": [
       "plot without title"
      ]
     },
     "metadata": {},
     "output_type": "display_data"
    }
   ],
   "source": [
    "train[,c('Neighborhood','SalePrice')] %>%\n",
    "  group_by(Neighborhood) %>%\n",
    "  summarise(median.price = median(SalePrice, na.rm = TRUE)) %>%\n",
    "  arrange(median.price) %>%\n",
    "  mutate(nhbr.sorted = factor(Neighborhood, levels=Neighborhood)) %>%\n",
    "  ggplot(aes(x=nhbr.sorted, y=median.price)) +\n",
    "  geom_point() +\n",
    "  geom_text(aes(label = median.price, angle = 45), vjust = 2) +\n",
    "  theme_minimal() +\n",
    "  labs(x='Neighborhood', y='Median price') +\n",
    "  theme(text = element_text(size=12),\n",
    "        axis.text.x = element_text(angle=45))"
   ]
  },
  {
   "cell_type": "code",
   "execution_count": 181,
   "metadata": {},
   "outputs": [
    {
     "data": {
      "text/html": [
       "'StoneBr, NoRidge, NridgHt have a large gap between them versus the rest of the median prices from any of the other neighborhods. It would be wise of us to check if this is from outliers or if these houses are much pricier as a whole.'"
      ],
      "text/latex": [
       "'StoneBr, NoRidge, NridgHt have a large gap between them versus the rest of the median prices from any of the other neighborhods. It would be wise of us to check if this is from outliers or if these houses are much pricier as a whole.'"
      ],
      "text/markdown": [
       "'StoneBr, NoRidge, NridgHt have a large gap between them versus the rest of the median prices from any of the other neighborhods. It would be wise of us to check if this is from outliers or if these houses are much pricier as a whole.'"
      ],
      "text/plain": [
       "[1] \"StoneBr, NoRidge, NridgHt have a large gap between them versus the rest of the median prices from any of the other neighborhods. It would be wise of us to check if this is from outliers or if these houses are much pricier as a whole.\""
      ]
     },
     "metadata": {},
     "output_type": "display_data"
    }
   ],
   "source": [
    "\"StoneBr, NoRidge, NridgHt have a large gap between them versus the rest of the median prices from any of the other neighborhods. It would be wise of us to check if this is from outliers or if these houses are much pricier as a whole.\""
   ]
  },
  {
   "cell_type": "code",
   "execution_count": 182,
   "metadata": {
    "scrolled": true
   },
   "outputs": [
    {
     "data": {},
     "metadata": {},
     "output_type": "display_data"
    },
    {
     "data": {
      "image/png": "[encoded data removed]",
      "text/plain": [
       "plot without title"
      ]
     },
     "metadata": {},
     "output_type": "display_data"
    }
   ],
   "source": [
    "other.nbrh <- unique(df.combined$Neighborhood)[!unique(df.combined$Neighborhood) %in% c('StoneBr', 'NoRidge','NridgHt')]\n",
    "\n",
    "ggplot(train, aes(x=SalePrice, y=GrLivArea, colour=Neighborhood)) +\n",
    "  geom_point(shape=16, alpha=.8, size=4) +\n",
    "  scale_color_manual(limits = c(other.nbrh, 'StoneBr', 'NoRidge', 'NridgHt'), values = c(rep('black', length(other.nbrh)), 'indianred',\n",
    "                                    'cornflowerblue', 'darkseagreen')) +\n",
    "  theme_minimal() +\n",
    "  scale_x_continuous(label=dollar)"
   ]
  },
  {
   "cell_type": "code",
   "execution_count": 183,
   "metadata": {},
   "outputs": [
    {
     "data": {
      "text/html": [
       "'3 houses from StoneBr, NoRidge and NridgHt with house prices over $500,000 which no other Neighborhood is in the same range. What pops out even more in this plot is the 2 houses with an enormous GrLivArea of over 4500 square ft yet very low sale prices. We certianly have an opportunity to explore these outliers in depth, we’ll take a look at this later.\\n\\nIn the mean time lets one-hot encode the more expensive neighborhoods and add that to our dataframe'"
      ],
      "text/latex": [
       "'3 houses from StoneBr, NoRidge and NridgHt with house prices over \\$500,000 which no other Neighborhood is in the same range. What pops out even more in this plot is the 2 houses with an enormous GrLivArea of over 4500 square ft yet very low sale prices. We certianly have an opportunity to explore these outliers in depth, we’ll take a look at this later.\\textbackslash{}n\\textbackslash{}nIn the mean time lets one-hot encode the more expensive neighborhoods and add that to our dataframe'"
      ],
      "text/markdown": [
       "'3 houses from StoneBr, NoRidge and NridgHt with house prices over $500,000 which no other Neighborhood is in the same range. What pops out even more in this plot is the 2 houses with an enormous GrLivArea of over 4500 square ft yet very low sale prices. We certianly have an opportunity to explore these outliers in depth, we’ll take a look at this later.\\n\\nIn the mean time lets one-hot encode the more expensive neighborhoods and add that to our dataframe'"
      ],
      "text/plain": [
       "[1] \"3 houses from StoneBr, NoRidge and NridgHt with house prices over $500,000 which no other Neighborhood is in the same range. What pops out even more in this plot is the 2 houses with an enormous GrLivArea of over 4500 square ft yet very low sale prices. We certianly have an opportunity to explore these outliers in depth, well take a look at this later.\\n\\nIn the mean time lets one-hot encode the more expensive neighborhoods and add that to our dataframe\""
      ]
     },
     "metadata": {},
     "output_type": "display_data"
    }
   ],
   "source": [
    "\"3 houses from StoneBr, NoRidge and NridgHt with house prices over $500,000 which no other Neighborhood is in the same range. What pops out even more in this plot is the 2 houses with an enormous GrLivArea of over 4500 square ft yet very low sale prices. We certianly have an opportunity to explore these outliers in depth, we’ll take a look at this later.\n",
    "\n",
    "In the mean time lets one-hot encode the more expensive neighborhoods and add that to our dataframe\""
   ]
  },
  {
   "cell_type": "code",
   "execution_count": 185,
   "metadata": {},
   "outputs": [],
   "source": [
    "nbrh.rich <- c('Crawfor', 'Somerst, Timber', 'StoneBr', 'NoRidge', 'NridgeHt')\n",
    "df.numeric['NbrhRich'] <- (df.combined$Neighborhood %in% nbrh.rich) *1"
   ]
  },
  {
   "cell_type": "code",
   "execution_count": 186,
   "metadata": {
    "scrolled": true
   },
   "outputs": [
    {
     "data": {
      "text/html": [
       "<table>\n",
       "<thead><tr><th scope=col>Neighborhood</th><th scope=col>mean.Quality</th><th scope=col>mean.Price</th><th scope=col>n</th></tr></thead>\n",
       "<tbody>\n",
       "\t<tr><td>MeadowV  </td><td>4.47     </td><td> 98576.47</td><td> 17      </td></tr>\n",
       "\t<tr><td>IDOTRR   </td><td>4.76     </td><td>100123.78</td><td> 37      </td></tr>\n",
       "\t<tr><td>Sawyer   </td><td>5.03     </td><td>136793.14</td><td> 74      </td></tr>\n",
       "\t<tr><td>BrkSide  </td><td>5.05     </td><td>124834.05</td><td> 58      </td></tr>\n",
       "\t<tr><td>Edwards  </td><td>5.08     </td><td>128219.70</td><td>100      </td></tr>\n",
       "\t<tr><td>NAmes    </td><td>5.36     </td><td>145847.08</td><td>225      </td></tr>\n",
       "\t<tr><td>OldTown  </td><td>5.39     </td><td>128225.30</td><td>113      </td></tr>\n",
       "\t<tr><td>SWISU    </td><td>5.44     </td><td>142591.36</td><td> 25      </td></tr>\n",
       "\t<tr><td>Mitchel  </td><td>5.59     </td><td>156270.12</td><td> 49      </td></tr>\n",
       "\t<tr><td>BrDale   </td><td>5.69     </td><td>104493.75</td><td> 16      </td></tr>\n",
       "\t<tr><td>ClearCr  </td><td>5.89     </td><td>212565.43</td><td> 28      </td></tr>\n",
       "\t<tr><td>Blueste  </td><td>6.00     </td><td>137500.00</td><td>  2      </td></tr>\n",
       "\t<tr><td>NPkVill  </td><td>6.00     </td><td>142694.44</td><td>  9      </td></tr>\n",
       "\t<tr><td>Crawfor  </td><td>6.27     </td><td>210624.73</td><td> 51      </td></tr>\n",
       "\t<tr><td>SawyerW  </td><td>6.32     </td><td>186555.80</td><td> 59      </td></tr>\n",
       "\t<tr><td>NWAmes   </td><td>6.33     </td><td>189050.07</td><td> 73      </td></tr>\n",
       "\t<tr><td>Gilbert  </td><td>6.56     </td><td>192854.51</td><td> 79      </td></tr>\n",
       "\t<tr><td>CollgCr  </td><td>6.64     </td><td>197965.77</td><td>150      </td></tr>\n",
       "\t<tr><td>Veenker  </td><td>6.73     </td><td>238772.73</td><td> 11      </td></tr>\n",
       "\t<tr><td>Timber   </td><td>7.16     </td><td>242247.45</td><td> 38      </td></tr>\n",
       "\t<tr><td>Blmngtn  </td><td>7.18     </td><td>194870.88</td><td> 17      </td></tr>\n",
       "\t<tr><td>Somerst  </td><td>7.34     </td><td>225379.84</td><td> 86      </td></tr>\n",
       "\t<tr><td>NoRidge  </td><td>7.93     </td><td>335295.32</td><td> 41      </td></tr>\n",
       "\t<tr><td>StoneBr  </td><td>8.16     </td><td>310499.00</td><td> 25      </td></tr>\n",
       "\t<tr><td>NridgHt  </td><td>8.26     </td><td>316270.62</td><td> 77      </td></tr>\n",
       "</tbody>\n",
       "</table>\n"
      ],
      "text/latex": [
       "\\begin{tabular}{r|llll}\n",
       " Neighborhood & mean.Quality & mean.Price & n\\\\\n",
       "\\hline\n",
       "\t MeadowV   & 4.47      &  98576.47 &  17      \\\\\n",
       "\t IDOTRR    & 4.76      & 100123.78 &  37      \\\\\n",
       "\t Sawyer    & 5.03      & 136793.14 &  74      \\\\\n",
       "\t BrkSide   & 5.05      & 124834.05 &  58      \\\\\n",
       "\t Edwards   & 5.08      & 128219.70 & 100      \\\\\n",
       "\t NAmes     & 5.36      & 145847.08 & 225      \\\\\n",
       "\t OldTown   & 5.39      & 128225.30 & 113      \\\\\n",
       "\t SWISU     & 5.44      & 142591.36 &  25      \\\\\n",
       "\t Mitchel   & 5.59      & 156270.12 &  49      \\\\\n",
       "\t BrDale    & 5.69      & 104493.75 &  16      \\\\\n",
       "\t ClearCr   & 5.89      & 212565.43 &  28      \\\\\n",
       "\t Blueste   & 6.00      & 137500.00 &   2      \\\\\n",
       "\t NPkVill   & 6.00      & 142694.44 &   9      \\\\\n",
       "\t Crawfor   & 6.27      & 210624.73 &  51      \\\\\n",
       "\t SawyerW   & 6.32      & 186555.80 &  59      \\\\\n",
       "\t NWAmes    & 6.33      & 189050.07 &  73      \\\\\n",
       "\t Gilbert   & 6.56      & 192854.51 &  79      \\\\\n",
       "\t CollgCr   & 6.64      & 197965.77 & 150      \\\\\n",
       "\t Veenker   & 6.73      & 238772.73 &  11      \\\\\n",
       "\t Timber    & 7.16      & 242247.45 &  38      \\\\\n",
       "\t Blmngtn   & 7.18      & 194870.88 &  17      \\\\\n",
       "\t Somerst   & 7.34      & 225379.84 &  86      \\\\\n",
       "\t NoRidge   & 7.93      & 335295.32 &  41      \\\\\n",
       "\t StoneBr   & 8.16      & 310499.00 &  25      \\\\\n",
       "\t NridgHt   & 8.26      & 316270.62 &  77      \\\\\n",
       "\\end{tabular}\n"
      ],
      "text/markdown": [
       "\n",
       "Neighborhood | mean.Quality | mean.Price | n | \n",
       "|---|---|---|---|---|---|---|---|---|---|---|---|---|---|---|---|---|---|---|---|---|---|---|---|---|\n",
       "| MeadowV   | 4.47      |  98576.47 |  17       | \n",
       "| IDOTRR    | 4.76      | 100123.78 |  37       | \n",
       "| Sawyer    | 5.03      | 136793.14 |  74       | \n",
       "| BrkSide   | 5.05      | 124834.05 |  58       | \n",
       "| Edwards   | 5.08      | 128219.70 | 100       | \n",
       "| NAmes     | 5.36      | 145847.08 | 225       | \n",
       "| OldTown   | 5.39      | 128225.30 | 113       | \n",
       "| SWISU     | 5.44      | 142591.36 |  25       | \n",
       "| Mitchel   | 5.59      | 156270.12 |  49       | \n",
       "| BrDale    | 5.69      | 104493.75 |  16       | \n",
       "| ClearCr   | 5.89      | 212565.43 |  28       | \n",
       "| Blueste   | 6.00      | 137500.00 |   2       | \n",
       "| NPkVill   | 6.00      | 142694.44 |   9       | \n",
       "| Crawfor   | 6.27      | 210624.73 |  51       | \n",
       "| SawyerW   | 6.32      | 186555.80 |  59       | \n",
       "| NWAmes    | 6.33      | 189050.07 |  73       | \n",
       "| Gilbert   | 6.56      | 192854.51 |  79       | \n",
       "| CollgCr   | 6.64      | 197965.77 | 150       | \n",
       "| Veenker   | 6.73      | 238772.73 |  11       | \n",
       "| Timber    | 7.16      | 242247.45 |  38       | \n",
       "| Blmngtn   | 7.18      | 194870.88 |  17       | \n",
       "| Somerst   | 7.34      | 225379.84 |  86       | \n",
       "| NoRidge   | 7.93      | 335295.32 |  41       | \n",
       "| StoneBr   | 8.16      | 310499.00 |  25       | \n",
       "| NridgHt   | 8.26      | 316270.62 |  77       | \n",
       "\n",
       "\n"
      ],
      "text/plain": [
       "   Neighborhood mean.Quality mean.Price n  \n",
       "1  MeadowV      4.47          98576.47   17\n",
       "2  IDOTRR       4.76         100123.78   37\n",
       "3  Sawyer       5.03         136793.14   74\n",
       "4  BrkSide      5.05         124834.05   58\n",
       "5  Edwards      5.08         128219.70  100\n",
       "6  NAmes        5.36         145847.08  225\n",
       "7  OldTown      5.39         128225.30  113\n",
       "8  SWISU        5.44         142591.36   25\n",
       "9  Mitchel      5.59         156270.12   49\n",
       "10 BrDale       5.69         104493.75   16\n",
       "11 ClearCr      5.89         212565.43   28\n",
       "12 Blueste      6.00         137500.00    2\n",
       "13 NPkVill      6.00         142694.44    9\n",
       "14 Crawfor      6.27         210624.73   51\n",
       "15 SawyerW      6.32         186555.80   59\n",
       "16 NWAmes       6.33         189050.07   73\n",
       "17 Gilbert      6.56         192854.51   79\n",
       "18 CollgCr      6.64         197965.77  150\n",
       "19 Veenker      6.73         238772.73   11\n",
       "20 Timber       7.16         242247.45   38\n",
       "21 Blmngtn      7.18         194870.88   17\n",
       "22 Somerst      7.34         225379.84   86\n",
       "23 NoRidge      7.93         335295.32   41\n",
       "24 StoneBr      8.16         310499.00   25\n",
       "25 NridgHt      8.26         316270.62   77"
      ]
     },
     "metadata": {},
     "output_type": "display_data"
    },
    {
     "data": {
      "image/png": "[encoded data removed]",
      "text/plain": [
       "plot without title"
      ]
     },
     "metadata": {},
     "output_type": "display_data"
    }
   ],
   "source": [
    "group.prices('Neighborhood')"
   ]
  },
  {
   "cell_type": "code",
   "execution_count": 187,
   "metadata": {},
   "outputs": [],
   "source": [
    "nbrh.map <- c('MeadowV' = 0, 'IDOTRR' = 1, 'Sawyer' = 1, 'BrDale' = 1, 'OldTown' = 1, 'Edwards' = 1, \n",
    "             'BrkSide' = 1, 'Blueste' = 1, 'SWISU' = 2, 'NAmes' = 2, 'NPkVill' = 2, 'Mitchel' = 2,\n",
    "             'SawyerW' = 2, 'Gilbert' = 2, 'NWAmes' = 2, 'Blmngtn' = 2, 'CollgCr' = 2, 'ClearCr' = 3, \n",
    "             'Crawfor' = 3, 'Veenker' = 3, 'Somerst' = 3, 'Timber' = 3, 'StoneBr' = 4, 'NoRidge' = 4, \n",
    "             'NridgHt' = 4)\n",
    "\n",
    "df.numeric['NeighborhoodBin'] <- as.numeric(nbrh.map[df.combined$Neighborhood])"
   ]
  },
  {
   "cell_type": "code",
   "execution_count": 188,
   "metadata": {},
   "outputs": [],
   "source": [
    "#SaleCondition: Condition of sale"
   ]
  },
  {
   "cell_type": "code",
   "execution_count": 189,
   "metadata": {
    "scrolled": true
   },
   "outputs": [
    {
     "data": {
      "text/html": [
       "<table>\n",
       "<thead><tr><th scope=col>SaleCondition</th><th scope=col>mean.Quality</th><th scope=col>mean.Price</th><th scope=col>n</th></tr></thead>\n",
       "<tbody>\n",
       "\t<tr><td>AdjLand </td><td>5.00    </td><td>104125.0</td><td>   4    </td></tr>\n",
       "\t<tr><td>Alloca  </td><td>5.42    </td><td>167377.4</td><td>  12    </td></tr>\n",
       "\t<tr><td>Abnorml </td><td>5.57    </td><td>146526.6</td><td> 101    </td></tr>\n",
       "\t<tr><td>Family  </td><td>5.80    </td><td>149600.0</td><td>  20    </td></tr>\n",
       "\t<tr><td>Normal  </td><td>6.01    </td><td>175202.2</td><td>1198    </td></tr>\n",
       "\t<tr><td>Partial </td><td>7.56    </td><td>272291.8</td><td> 125    </td></tr>\n",
       "</tbody>\n",
       "</table>\n"
      ],
      "text/latex": [
       "\\begin{tabular}{r|llll}\n",
       " SaleCondition & mean.Quality & mean.Price & n\\\\\n",
       "\\hline\n",
       "\t AdjLand  & 5.00     & 104125.0 &    4    \\\\\n",
       "\t Alloca   & 5.42     & 167377.4 &   12    \\\\\n",
       "\t Abnorml  & 5.57     & 146526.6 &  101    \\\\\n",
       "\t Family   & 5.80     & 149600.0 &   20    \\\\\n",
       "\t Normal   & 6.01     & 175202.2 & 1198    \\\\\n",
       "\t Partial  & 7.56     & 272291.8 &  125    \\\\\n",
       "\\end{tabular}\n"
      ],
      "text/markdown": [
       "\n",
       "SaleCondition | mean.Quality | mean.Price | n | \n",
       "|---|---|---|---|---|---|\n",
       "| AdjLand  | 5.00     | 104125.0 |    4     | \n",
       "| Alloca   | 5.42     | 167377.4 |   12     | \n",
       "| Abnorml  | 5.57     | 146526.6 |  101     | \n",
       "| Family   | 5.80     | 149600.0 |   20     | \n",
       "| Normal   | 6.01     | 175202.2 | 1198     | \n",
       "| Partial  | 7.56     | 272291.8 |  125     | \n",
       "\n",
       "\n"
      ],
      "text/plain": [
       "  SaleCondition mean.Quality mean.Price n   \n",
       "1 AdjLand       5.00         104125.0      4\n",
       "2 Alloca        5.42         167377.4     12\n",
       "3 Abnorml       5.57         146526.6    101\n",
       "4 Family        5.80         149600.0     20\n",
       "5 Normal        6.01         175202.2   1198\n",
       "6 Partial       7.56         272291.8    125"
      ]
     },
     "metadata": {},
     "output_type": "display_data"
    },
    {
     "data": {
      "image/png": "[encoded data removed]",
      "text/plain": [
       "plot without title"
      ]
     },
     "metadata": {},
     "output_type": "display_data"
    }
   ],
   "source": [
    "group.prices('SaleCondition')"
   ]
  },
  {
   "cell_type": "code",
   "execution_count": 190,
   "metadata": {
    "scrolled": true
   },
   "outputs": [
    {
     "data": {
      "text/html": [
       "<table>\n",
       "<thead><tr><th scope=col>HeatingQC</th><th scope=col>mean.Quality</th><th scope=col>mean.Price</th><th scope=col>n</th></tr></thead>\n",
       "<tbody>\n",
       "\t<tr><td>Fa      </td><td>5.00    </td><td>123919.5</td><td> 49     </td></tr>\n",
       "\t<tr><td>Po      </td><td>5.00    </td><td> 87000.0</td><td>  1     </td></tr>\n",
       "\t<tr><td>TA      </td><td>5.37    </td><td>142362.9</td><td>428     </td></tr>\n",
       "\t<tr><td>Gd      </td><td>5.70    </td><td>156858.9</td><td>241     </td></tr>\n",
       "\t<tr><td>Ex      </td><td>6.72    </td><td>214914.4</td><td>741     </td></tr>\n",
       "</tbody>\n",
       "</table>\n"
      ],
      "text/latex": [
       "\\begin{tabular}{r|llll}\n",
       " HeatingQC & mean.Quality & mean.Price & n\\\\\n",
       "\\hline\n",
       "\t Fa       & 5.00     & 123919.5 &  49     \\\\\n",
       "\t Po       & 5.00     &  87000.0 &   1     \\\\\n",
       "\t TA       & 5.37     & 142362.9 & 428     \\\\\n",
       "\t Gd       & 5.70     & 156858.9 & 241     \\\\\n",
       "\t Ex       & 6.72     & 214914.4 & 741     \\\\\n",
       "\\end{tabular}\n"
      ],
      "text/markdown": [
       "\n",
       "HeatingQC | mean.Quality | mean.Price | n | \n",
       "|---|---|---|---|---|\n",
       "| Fa       | 5.00     | 123919.5 |  49      | \n",
       "| Po       | 5.00     |  87000.0 |   1      | \n",
       "| TA       | 5.37     | 142362.9 | 428      | \n",
       "| Gd       | 5.70     | 156858.9 | 241      | \n",
       "| Ex       | 6.72     | 214914.4 | 741      | \n",
       "\n",
       "\n"
      ],
      "text/plain": [
       "  HeatingQC mean.Quality mean.Price n  \n",
       "1 Fa        5.00         123919.5    49\n",
       "2 Po        5.00          87000.0     1\n",
       "3 TA        5.37         142362.9   428\n",
       "4 Gd        5.70         156858.9   241\n",
       "5 Ex        6.72         214914.4   741"
      ]
     },
     "metadata": {},
     "output_type": "display_data"
    },
    {
     "data": {
      "image/png": "[encoded data removed]",
      "text/plain": [
       "plot without title"
      ]
     },
     "metadata": {},
     "output_type": "display_data"
    }
   ],
   "source": [
    "df.numeric['PartialPlan'] <- (df.combined$SaleCondition == 'Partial') * 1\n",
    "\n",
    "group.prices('HeatingQC')"
   ]
  },
  {
   "cell_type": "code",
   "execution_count": 191,
   "metadata": {},
   "outputs": [],
   "source": [
    "heating.list <- c('Po' = 0, 'Fa' = 1, 'TA' = 2, 'Gd' = 3, 'Ex' = 4)\n",
    "\n",
    "df.numeric['HeatingScale'] <- as.numeric(heating.list[df.combined$HeatingQC])"
   ]
  },
  {
   "cell_type": "code",
   "execution_count": 192,
   "metadata": {},
   "outputs": [],
   "source": [
    "#1stFlrSF: First Floor square feet\n",
    "#2ndFlrSF: Second floor square feet\n",
    "#LowQualFinSF: Low quality finished square feet (all floors)"
   ]
  },
  {
   "cell_type": "code",
   "execution_count": 193,
   "metadata": {},
   "outputs": [],
   "source": [
    "area.cols <- c('LotFrontage', 'LotArea', 'MasVnrArea', 'BsmtFinSF1', 'BsmtFinSF2', 'BsmtUnfSF',\n",
    "             'TotalBsmtSF', 'X1stFlrSF', 'X2ndFlrSF', 'GrLivArea', 'GarageArea', 'WoodDeckSF', \n",
    "             'OpenPorchSF', 'EnclosedPorch', 'X3SsnPorch', 'ScreenPorch', 'LowQualFinSF', 'PoolArea')\n",
    "\n",
    "df.numeric['TotalArea'] <- as.numeric(rowSums(df.combined[,area.cols]))"
   ]
  },
  {
   "cell_type": "code",
   "execution_count": 194,
   "metadata": {},
   "outputs": [],
   "source": [
    "df.numeric['AreaInside'] <- as.numeric(df.combined$X1stFlrSF + df.combined$X2ndFlrSF)"
   ]
  },
  {
   "cell_type": "code",
   "execution_count": 195,
   "metadata": {},
   "outputs": [],
   "source": [
    "df.numeric['Age'] <- as.numeric(2010 - df.combined$YearBuilt)\n",
    "\n",
    "df.numeric['TimeSinceSold'] <- as.numeric(2010 - df.combined$YrSold)\n",
    "\n",
    "# how many years since the house was remodelled and sold \n",
    "df.numeric['YearSinceRemodel'] <- as.numeric(df.combined$YrSold - df.combined$YearRemodAdd)"
   ]
  },
  {
   "cell_type": "code",
   "execution_count": 196,
   "metadata": {},
   "outputs": [],
   "source": [
    "# Correlation plot with OverallQual"
   ]
  },
  {
   "cell_type": "code",
   "execution_count": 197,
   "metadata": {
    "scrolled": true
   },
   "outputs": [
    {
     "data": {
      "image/png": "[encoded data removed]",
      "text/plain": [
       "Plot with title \"\""
      ]
     },
     "metadata": {},
     "output_type": "display_data"
    }
   ],
   "source": [
    "corr.OverallQual <- as.matrix(sort(correlations[,'OverallQual'], decreasing = TRUE))\n",
    "\n",
    "corr.idx <- names(which(apply(corr.OverallQual, 1, function(x) (x > 0.5 | x < -0.5))))\n",
    "\n",
    "corrplot(as.matrix(correlations[corr.idx, corr.idx]), type = 'upper',\n",
    "         method = 'color', addCoef.col = 'black', tl.cex =.7, cl.cex = .7,\n",
    "         number.cex = .7)"
   ]
  },
  {
   "cell_type": "code",
   "execution_count": 198,
   "metadata": {
    "scrolled": true
   },
   "outputs": [
    {
     "name": "stderr",
     "output_type": "stream",
     "text": [
      "`stat_bin()` using `bins = 30`. Pick better value with `binwidth`.\n"
     ]
    },
    {
     "data": {},
     "metadata": {},
     "output_type": "display_data"
    },
    {
     "data": {
      "image/png": "[encoded data removed]",
      "text/plain": [
       "plot without title"
      ]
     },
     "metadata": {},
     "output_type": "display_data"
    }
   ],
   "source": [
    "# Outliers\n",
    "train.test.df <- rbind(dplyr::select(train,-SalePrice), test)\n",
    "train.test.df$type <- c(rep('train',1460),rep('test',1459))\n",
    "\n",
    "ggplot(train, aes(x=GrLivArea)) +\n",
    "  geom_histogram(fill='lightblue',color='white') +\n",
    "  theme_minimal()"
   ]
  },
  {
   "cell_type": "code",
   "execution_count": 199,
   "metadata": {
    "scrolled": true
   },
   "outputs": [
    {
     "data": {
      "image/png": "[encoded data removed]",
      "text/plain": [
       "Plot with title \"GrLivArea\""
      ]
     },
     "metadata": {},
     "output_type": "display_data"
    }
   ],
   "source": [
    "outlier_values <- boxplot.stats(train$GrLivArea)$out  # outlier values.\n",
    "boxplot(train$GrLivArea, main=\"GrLivArea\", boxwex=0.1)\n",
    "mtext(paste(\"Outliers: \", paste(outlier_values[outlier_values>4000], collapse=\", \")), cex=0.6)"
   ]
  },
  {
   "cell_type": "code",
   "execution_count": 200,
   "metadata": {
    "scrolled": true
   },
   "outputs": [
    {
     "data": {},
     "metadata": {},
     "output_type": "display_data"
    },
    {
     "data": {
      "image/png": "[encoded data removed]",
      "text/plain": [
       "plot without title"
      ]
     },
     "metadata": {},
     "output_type": "display_data"
    }
   ],
   "source": [
    "ggplot(train.test.df, aes(x=type, y=GrLivArea, fill=type)) +\n",
    "  geom_boxplot() +\n",
    "  theme_minimal() +\n",
    "  scale_fill_manual(breaks = c(\"test\", \"train\"), values = c(\"indianred\", \"lightblue\"))"
   ]
  },
  {
   "cell_type": "code",
   "execution_count": 201,
   "metadata": {},
   "outputs": [
    {
     "data": {
      "text/html": [
       "<ol class=list-inline>\n",
       "\t<li>2915</li>\n",
       "\t<li>80</li>\n",
       "</ol>\n"
      ],
      "text/latex": [
       "\\begin{enumerate*}\n",
       "\\item 2915\n",
       "\\item 80\n",
       "\\end{enumerate*}\n"
      ],
      "text/markdown": [
       "1. 2915\n",
       "2. 80\n",
       "\n",
       "\n"
      ],
      "text/plain": [
       "[1] 2915   80"
      ]
     },
     "metadata": {},
     "output_type": "display_data"
    }
   ],
   "source": [
    "idx.outliers <- which(train$GrLivArea > 4000)\n",
    "df.numeric <- df.numeric[!1:nrow(df.numeric) %in% idx.outliers,]\n",
    "df.combined <- df.combined[!1:nrow(df.combined) %in% idx.outliers,]\n",
    "dim(df.numeric)"
   ]
  },
  {
   "cell_type": "code",
   "execution_count": 202,
   "metadata": {},
   "outputs": [
    {
     "data": {
      "text/html": [
       "'For the rest of the categoric features we can one-hot encode each value to get as many splits in the data as possible'"
      ],
      "text/latex": [
       "'For the rest of the categoric features we can one-hot encode each value to get as many splits in the data as possible'"
      ],
      "text/markdown": [
       "'For the rest of the categoric features we can one-hot encode each value to get as many splits in the data as possible'"
      ],
      "text/plain": [
       "[1] \"For the rest of the categoric features we can one-hot encode each value to get as many splits in the data as possible\""
      ]
     },
     "metadata": {},
     "output_type": "display_data"
    }
   ],
   "source": [
    "\"For the rest of the categoric features we can one-hot encode each value to get as many splits in the data as possible\""
   ]
  },
  {
   "cell_type": "code",
   "execution_count": 203,
   "metadata": {},
   "outputs": [],
   "source": [
    "# one hot encoding for categorical data\n",
    "# sparse data performs better for trees/xgboost\n",
    "dummy <- dummyVars(\" ~ .\",data=df.combined[,cat_features])\n",
    "df.categoric <- data.frame(predict(dummy,newdata=df.combined[,cat_features]))"
   ]
  },
  {
   "cell_type": "code",
   "execution_count": 205,
   "metadata": {},
   "outputs": [
    {
     "data": {
      "text/html": [
       "'YearBuilt had a correlation coefficient of 0.57 with SalePrice, GarageYrBlt had a coefficiient of 0.56 and YearRemodAdd had scored a 0.55. Knowing how important these features are we want to make as much use with them as possible. The houses in our data start from 1871 and were built up until 2010. We can bin houses into sequences of 20, which will give us 7 different bins for a feature built in a year to fall into. This will allow us to differentiate the different times/era houses, garages and remodeling took place.'"
      ],
      "text/latex": [
       "'YearBuilt had a correlation coefficient of 0.57 with SalePrice, GarageYrBlt had a coefficiient of 0.56 and YearRemodAdd had scored a 0.55. Knowing how important these features are we want to make as much use with them as possible. The houses in our data start from 1871 and were built up until 2010. We can bin houses into sequences of 20, which will give us 7 different bins for a feature built in a year to fall into. This will allow us to differentiate the different times/era houses, garages and remodeling took place.'"
      ],
      "text/markdown": [
       "'YearBuilt had a correlation coefficient of 0.57 with SalePrice, GarageYrBlt had a coefficiient of 0.56 and YearRemodAdd had scored a 0.55. Knowing how important these features are we want to make as much use with them as possible. The houses in our data start from 1871 and were built up until 2010. We can bin houses into sequences of 20, which will give us 7 different bins for a feature built in a year to fall into. This will allow us to differentiate the different times/era houses, garages and remodeling took place.'"
      ],
      "text/plain": [
       "[1] \"YearBuilt had a correlation coefficient of 0.57 with SalePrice, GarageYrBlt had a coefficiient of 0.56 and YearRemodAdd had scored a 0.55. Knowing how important these features are we want to make as much use with them as possible. The houses in our data start from 1871 and were built up until 2010. We can bin houses into sequences of 20, which will give us 7 different bins for a feature built in a year to fall into. This will allow us to differentiate the different times/era houses, garages and remodeling took place.\""
      ]
     },
     "metadata": {},
     "output_type": "display_data"
    }
   ],
   "source": [
    "\"YearBuilt had a correlation coefficient of 0.57 with SalePrice, GarageYrBlt had a coefficiient of 0.56 and YearRemodAdd had scored a 0.55. Knowing how important these features are we want to make as much use with them as possible. The houses in our data start from 1871 and were built up until 2010. We can bin houses into sequences of 20, which will give us 7 different bins for a feature built in a year to fall into. This will allow us to differentiate the different times/era houses, garages and remodeling took place.\""
   ]
  },
  {
   "cell_type": "code",
   "execution_count": 204,
   "metadata": {},
   "outputs": [],
   "source": [
    "# every 20 years create a new bin\n",
    "# 7 total bins\n",
    "# min year is 1871, max year is 2010!\n",
    "year.map = function(col.combined, col.name) {\n",
    "  for (i in 1:7) {\n",
    "    year.seq = seq(1871+(i-1)*20, 1871+i*20-1)\n",
    "    idx = which(df.combined[,col.combined] %in% year.seq)\n",
    "    df.categoric[idx,col.name] = i\n",
    "  }\n",
    "  return(df.categoric)\n",
    "}"
   ]
  },
  {
   "cell_type": "code",
   "execution_count": 206,
   "metadata": {},
   "outputs": [],
   "source": [
    "df.categoric['GarageYrBltBin'] = 0\n",
    "df.categoric <- year.map('GarageYrBlt', 'GarageYrBltBin')\n",
    "df.categoric['YearBuiltBin'] = 0\n",
    "df.categoric <- year.map('YearBuilt','YearBuiltBin')\n",
    "df.categoric['YearRemodAddBin'] = 0\n",
    "df.categoric <- year.map('YearRemodAdd', 'YearRemodAddBin')"
   ]
  },
  {
   "cell_type": "code",
   "execution_count": 208,
   "metadata": {},
   "outputs": [
    {
     "data": {
      "text/html": [
       "'Now that we 3 new columns that generalize what year a house, garage and remodeling took place we’ll need to one-hot encode these columns so that each bin is turned into a binary column. The new columns are ranged from 1-7, but we don’t know what specific order they follow so it will benefit us more to give each bin its own column.'"
      ],
      "text/latex": [
       "'Now that we 3 new columns that generalize what year a house, garage and remodeling took place we’ll need to one-hot encode these columns so that each bin is turned into a binary column. The new columns are ranged from 1-7, but we don’t know what specific order they follow so it will benefit us more to give each bin its own column.'"
      ],
      "text/markdown": [
       "'Now that we 3 new columns that generalize what year a house, garage and remodeling took place we’ll need to one-hot encode these columns so that each bin is turned into a binary column. The new columns are ranged from 1-7, but we don’t know what specific order they follow so it will benefit us more to give each bin its own column.'"
      ],
      "text/plain": [
       "[1] \"Now that we 3 new columns that generalize what year a house, garage and remodeling took place well need to one-hot encode these columns so that each bin is turned into a binary column. The new columns are ranged from 1-7, but we dont know what specific order they follow so it will benefit us more to give each bin its own column.\""
      ]
     },
     "metadata": {},
     "output_type": "display_data"
    }
   ],
   "source": [
    "\"Now that we 3 new columns that generalize what year a house, garage and remodeling took place we’ll need to one-hot encode these columns so that each bin is turned into a binary column. The new columns are ranged from 1-7, but we don’t know what specific order they follow so it will benefit us more to give each bin its own column.\""
   ]
  },
  {
   "cell_type": "code",
   "execution_count": 207,
   "metadata": {},
   "outputs": [],
   "source": [
    "bin.cols <- c('GarageYrBltBin', 'YearBuiltBin', 'YearRemodAddBin')\n",
    "\n",
    "for (col in bin.cols) {\n",
    "  df.categoric <- cbind(df.categoric, model.matrix(~.-1, df.categoric[col]))\n",
    "}\n",
    "\n",
    "# lets drop the orginal 'GarageYrBltBin', 'YearBuiltBin', 'YearRemodAddBin' from our dataframe\n",
    "df.categoric <- df.categoric[,!names(df.categoric) %in% bin.cols]"
   ]
  },
  {
   "cell_type": "code",
   "execution_count": 209,
   "metadata": {},
   "outputs": [],
   "source": [
    "df <- cbind(df.numeric, df.categoric)"
   ]
  },
  {
   "cell_type": "code",
   "execution_count": 212,
   "metadata": {},
   "outputs": [],
   "source": [
    "y.true <- train$SalePrice[which(!1:1460 %in% idx.outliers)]\n",
    "y_train <- log(y.true+1)\n",
    "x_train <- df[1:1456,]\n",
    "\n",
    "x_test <- df[1457:nrow(df),]\n",
    "\n",
    "dtrain <- xgb.DMatrix(as.matrix(x_train), label = y_train)\n",
    "dtest <- xgb.DMatrix(as.matrix(x_test))"
   ]
  },
  {
   "cell_type": "code",
   "execution_count": 224,
   "metadata": {},
   "outputs": [],
   "source": [
    "# Training model\n",
    "# XgBoost\n",
    "xgb_params <- list(\n",
    "  booster = 'gbtree',\n",
    "  objective = 'reg:linear',\n",
    "  colsample_bytree=1,\n",
    "  eta=0.01,\n",
    "  max_depth=4,\n",
    "  min_child_weight=3,\n",
    "  alpha=0.3,\n",
    "  lambda=0.4,\n",
    "  gamma=0.01, # less overfit\n",
    "  subsample=0.6,\n",
    "  seed=5,\n",
    "  silent=TRUE)\n",
    "xgb.fit <- xgb.train(xgb_params,dtrain, nrounds = 50000)"
   ]
  },
  {
   "cell_type": "code",
   "execution_count": 225,
   "metadata": {},
   "outputs": [
    {
     "data": {
      "text/html": [
       "7472.42989335998"
      ],
      "text/latex": [
       "7472.42989335998"
      ],
      "text/markdown": [
       "7472.42989335998"
      ],
      "text/plain": [
       "[1] 7472.43"
      ]
     },
     "metadata": {},
     "output_type": "display_data"
    }
   ],
   "source": [
    "rmse_eval <- function(y.true, y.pred) {\n",
    "  mse_eval <- sum((y.true - exp(y.pred)-1)^2) / length(y.true)\n",
    "  return(sqrt(mse_eval))\n",
    "}\n",
    "\n",
    "y_pred.xgb <- predict(xgb.fit, dtrain)\n",
    "rmse_eval(y.true, y_pred.xgb)"
   ]
  },
  {
   "cell_type": "code",
   "execution_count": 219,
   "metadata": {},
   "outputs": [],
   "source": [
    "# ridge, lasso, elasticnet\n",
    "\n",
    "glm.cv.ridge <- cv.glmnet(as.matrix(x_train), y_train, alpha = 0)\n",
    "glm.cv.lasso <- cv.glmnet(as.matrix(x_train), y_train, alpha = 1)\n",
    "glm.cv.net <- cv.glmnet(data.matrix(x_train), y_train, alpha = 0.001)\n",
    "\n",
    "# use the lamdba that minimizes the error\n",
    "penalty.ridge <- glm.cv.ridge$lambda.min\n",
    "penalty.lasso <- glm.cv.lasso$lambda.min\n",
    "penalty.net <- glm.cv.net$lambda.min"
   ]
  },
  {
   "cell_type": "code",
   "execution_count": 220,
   "metadata": {},
   "outputs": [],
   "source": [
    "glm.ridge <- glmnet(x = as.matrix(x_train), y = y_train, alpha = 0, lambda = penalty.ridge )\n",
    "glm.lasso <- glmnet(x = as.matrix(x_train), y = y_train, alpha = 1, lambda = penalty.lasso)\n",
    "glm.net <- glmnet(x = as.matrix(x_train), y = y_train, alpha = 0.001, lambda = penalty.net)\n",
    "\n",
    "y_pred.ridge <- as.numeric(predict(glm.ridge, as.matrix(x_train)))\n",
    "y_pred.lasso <- as.numeric(predict(glm.lasso, as.matrix(x_train)))\n",
    "y_pred.net <- as.numeric(predict(glm.net, as.matrix(x_train)))"
   ]
  },
  {
   "cell_type": "code",
   "execution_count": 221,
   "metadata": {},
   "outputs": [
    {
     "data": {
      "text/html": [
       "17289.2476042556"
      ],
      "text/latex": [
       "17289.2476042556"
      ],
      "text/markdown": [
       "17289.2476042556"
      ],
      "text/plain": [
       "[1] 17289.25"
      ]
     },
     "metadata": {},
     "output_type": "display_data"
    },
    {
     "data": {
      "text/html": [
       "18192.0041729543"
      ],
      "text/latex": [
       "18192.0041729543"
      ],
      "text/markdown": [
       "18192.0041729543"
      ],
      "text/plain": [
       "[1] 18192"
      ]
     },
     "metadata": {},
     "output_type": "display_data"
    },
    {
     "data": {
      "text/html": [
       "17321.091288447"
      ],
      "text/latex": [
       "17321.091288447"
      ],
      "text/markdown": [
       "17321.091288447"
      ],
      "text/plain": [
       "[1] 17321.09"
      ]
     },
     "metadata": {},
     "output_type": "display_data"
    }
   ],
   "source": [
    "rmse_eval(y.true, y_pred.ridge)\n",
    "rmse_eval(y.true, y_pred.lasso)\n",
    "rmse_eval(y.true, y_pred.net)"
   ]
  },
  {
   "cell_type": "code",
   "execution_count": 215,
   "metadata": {},
   "outputs": [
    {
     "data": {
      "text/html": [
       "'Here we have the RMSE for elastic-net, lasso and ridge are all very similar yet not as low as the RMSE we got from XGBoost, however, ridge, lasso, and elastic-nets ability to extrapolate saleprices beyond the range we were given in the training set will be crucial for predicting more accurately towards unseen data (future houses). If we combine all 4 of these predictions on our test data by averaging all of our predictions we can get what we hope to be an accurate submission. Note: our predictions are in logarithmic form since we made a transformation due to the skewness in the Saleprices so we will need to tranform our predictions back into their original form by taking f(x)=ex-1.'"
      ],
      "text/latex": [
       "'Here we have the RMSE for elastic-net, lasso and ridge are all very similar yet not as low as the RMSE we got from XGBoost, however, ridge, lasso, and elastic-nets ability to extrapolate saleprices beyond the range we were given in the training set will be crucial for predicting more accurately towards unseen data (future houses). If we combine all 4 of these predictions on our test data by averaging all of our predictions we can get what we hope to be an accurate submission. Note: our predictions are in logarithmic form since we made a transformation due to the skewness in the Saleprices so we will need to tranform our predictions back into their original form by taking f(x)=ex-1.'"
      ],
      "text/markdown": [
       "'Here we have the RMSE for elastic-net, lasso and ridge are all very similar yet not as low as the RMSE we got from XGBoost, however, ridge, lasso, and elastic-nets ability to extrapolate saleprices beyond the range we were given in the training set will be crucial for predicting more accurately towards unseen data (future houses). If we combine all 4 of these predictions on our test data by averaging all of our predictions we can get what we hope to be an accurate submission. Note: our predictions are in logarithmic form since we made a transformation due to the skewness in the Saleprices so we will need to tranform our predictions back into their original form by taking f(x)=ex-1.'"
      ],
      "text/plain": [
       "[1] \"Here we have the RMSE for elastic-net, lasso and ridge are all very similar yet not as low as the RMSE we got from XGBoost, however, ridge, lasso, and elastic-nets ability to extrapolate saleprices beyond the range we were given in the training set will be crucial for predicting more accurately towards unseen data (future houses). If we combine all 4 of these predictions on our test data by averaging all of our predictions we can get what we hope to be an accurate submission. Note: our predictions are in logarithmic form since we made a transformation due to the skewness in the Saleprices so we will need to tranform our predictions back into their original form by taking f(x)=ex-1.\""
      ]
     },
     "metadata": {},
     "output_type": "display_data"
    }
   ],
   "source": [
    "\"Here we have the RMSE for elastic-net, lasso and ridge are all very similar yet not as low as the RMSE we got from XGBoost, however, ridge, lasso, and elastic-nets ability to extrapolate saleprices beyond the range we were given in the training set will be crucial for predicting more accurately towards unseen data (future houses). If we combine all 4 of these predictions on our test data by taking a weighted average of all of our predictions, we can get what we hope to be an accurate submission. Note: our predictions are in logarithmic form since we made a transformation due to the skewness in the Saleprices so we will need to tranform our predictions back into their original form by taking f(x)=ex−1.\""
   ]
  },
  {
   "cell_type": "code",
   "execution_count": 271,
   "metadata": {},
   "outputs": [
    {
     "data": {
      "text/html": [
       "<ol class=list-inline>\n",
       "\t<li>123630.760625241</li>\n",
       "\t<li>160553.189394994</li>\n",
       "\t<li>181168.741357402</li>\n",
       "\t<li>196089.541511854</li>\n",
       "\t<li>188410.653696475</li>\n",
       "\t<li>168689.405965014</li>\n",
       "</ol>\n"
      ],
      "text/latex": [
       "\\begin{enumerate*}\n",
       "\\item 123630.760625241\n",
       "\\item 160553.189394994\n",
       "\\item 181168.741357402\n",
       "\\item 196089.541511854\n",
       "\\item 188410.653696475\n",
       "\\item 168689.405965014\n",
       "\\end{enumerate*}\n"
      ],
      "text/markdown": [
       "1. 123630.760625241\n",
       "2. 160553.189394994\n",
       "3. 181168.741357402\n",
       "4. 196089.541511854\n",
       "5. 188410.653696475\n",
       "6. 168689.405965014\n",
       "\n",
       "\n"
      ],
      "text/plain": [
       "[1] 123630.8 160553.2 181168.7 196089.5 188410.7 168689.4"
      ]
     },
     "metadata": {},
     "output_type": "display_data"
    }
   ],
   "source": [
    "y_pred.ridge <- as.double(predict(glm.ridge, as.matrix(x_test)))\n",
    "y_pred.lasso <- as.double(predict(glm.lasso, as.matrix(x_test)))\n",
    "y_pred.net <- as.double(predict(glm.net, as.matrix(x_test)))\n",
    "\n",
    "y_pred.ridge <- as.double(exp(y_pred.ridge) - 1)\n",
    "y_pred.lasso <- as.double(exp(y_pred.lasso) - 1)\n",
    "y_pred.net <- as.double(exp(y_pred.net) - 1)\n",
    "\n",
    "y_pred.xgb <- as.double(predict(xgb.fit, dtest))\n",
    "y_pred.xgb <- as.double(exp(y_pred.xgb) - 1)\n",
    "\n",
    "# take the average of our predictions for our ensemble\n",
    "y_pred <- (3*y_pred.xgb + y_pred.ridge + y_pred.lasso + y_pred.net)/6.0\n",
    "head(y_pred)"
   ]
  },
  {
   "cell_type": "code",
   "execution_count": 270,
   "metadata": {},
   "outputs": [],
   "source": [
    "ens1 <- as.data.frame(test$Id)\n",
    "names(ens1) <- 'Id'\n",
    "ens1$SalePrice <- y_pred\n",
    "write.csv(ens1, \"ens1.csv\", row.names = FALSE)"
   ]
  },
  {
   "cell_type": "code",
   "execution_count": 272,
   "metadata": {},
   "outputs": [
    {
     "data": {
      "text/html": [
       "'My ensemble got an RMSE score of 0.12142 on the Public Leaderboard'"
      ],
      "text/latex": [
       "'My ensemble got an RMSE score of 0.12142 on the Public Leaderboard'"
      ],
      "text/markdown": [
       "'My ensemble got an RMSE score of 0.12142 on the Public Leaderboard'"
      ],
      "text/plain": [
       "[1] \"My ensemble got an RMSE score of 0.12142 on the Public Leaderboard\""
      ]
     },
     "metadata": {},
     "output_type": "display_data"
    }
   ],
   "source": [
    "\"My ensemble got an RMSE score of 0.12142 on the Public Leaderboard\""
   ]
  }
 ],
 "metadata": {
  "kernelspec": {
   "display_name": "R",
   "language": "R",
   "name": "ir"
  },
  "language_info": {
   "codemirror_mode": "r",
   "file_extension": ".r",
   "mimetype": "text/x-r-source",
   "name": "R",
   "pygments_lexer": "r",
   "version": "3.4.3"
  }
 },
 "nbformat": 4,
 "nbformat_minor": 2
}
